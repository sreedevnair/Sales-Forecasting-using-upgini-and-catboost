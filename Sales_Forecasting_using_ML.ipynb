{
  "nbformat": 4,
  "nbformat_minor": 0,
  "metadata": {
    "colab": {
      "provenance": []
    },
    "kernelspec": {
      "name": "python3",
      "display_name": "Python 3"
    },
    "language_info": {
      "name": "python"
    }
  },
  "cells": [
    {
      "cell_type": "code",
      "source": [
        "!pip install -Uq upgini catboost"
      ],
      "metadata": {
        "colab": {
          "base_uri": "https://localhost:8080/"
        },
        "id": "jM5uWApXT33l",
        "outputId": "6f61f6ac-a5ea-4808-ad82-339d94ff0fda"
      },
      "execution_count": null,
      "outputs": [
        {
          "output_type": "stream",
          "name": "stdout",
          "text": [
            "\u001b[2K     \u001b[90m━━━━━━━━━━━━━━━━━━━━━━━━━━━━━━━━━━━━━━━━\u001b[0m \u001b[32m48.2/48.2 kB\u001b[0m \u001b[31m881.9 kB/s\u001b[0m eta \u001b[36m0:00:00\u001b[0m\n",
            "\u001b[2K     \u001b[90m━━━━━━━━━━━━━━━━━━━━━━━━━━━━━━━━━━━━━━━━\u001b[0m \u001b[32m151.6/151.6 kB\u001b[0m \u001b[31m2.6 MB/s\u001b[0m eta \u001b[36m0:00:00\u001b[0m\n",
            "\u001b[2K     \u001b[90m━━━━━━━━━━━━━━━━━━━━━━━━━━━━━━━━━━━━━━━━\u001b[0m \u001b[32m108.3/108.3 kB\u001b[0m \u001b[31m4.4 MB/s\u001b[0m eta \u001b[36m0:00:00\u001b[0m\n",
            "\u001b[?25h  Preparing metadata (setup.py) ... \u001b[?25l\u001b[?25hdone\n",
            "\u001b[2K     \u001b[90m━━━━━━━━━━━━━━━━━━━━━━━━━━━━━━━━━━━━━━━━\u001b[0m \u001b[32m913.9/913.9 kB\u001b[0m \u001b[31m3.0 MB/s\u001b[0m eta \u001b[36m0:00:00\u001b[0m\n",
            "\u001b[?25h  Preparing metadata (setup.py) ... \u001b[?25l\u001b[?25hdone\n",
            "\u001b[2K   \u001b[90m━━━━━━━━━━━━━━━━━━━━━━━━━━━━━━━━━━━━━━━━\u001b[0m \u001b[32m162.7/162.7 kB\u001b[0m \u001b[31m8.9 MB/s\u001b[0m eta \u001b[36m0:00:00\u001b[0m\n",
            "\u001b[2K   \u001b[90m━━━━━━━━━━━━━━━━━━━━━━━━━━━━━━━━━━━━━━━━\u001b[0m \u001b[32m98.2/98.2 MB\u001b[0m \u001b[31m6.3 MB/s\u001b[0m eta \u001b[36m0:00:00\u001b[0m\n",
            "\u001b[2K   \u001b[90m━━━━━━━━━━━━━━━━━━━━━━━━━━━━━━━━━━━━━━━━\u001b[0m \u001b[32m1.7/1.7 MB\u001b[0m \u001b[31m26.8 MB/s\u001b[0m eta \u001b[36m0:00:00\u001b[0m\n",
            "\u001b[2K   \u001b[90m━━━━━━━━━━━━━━━━━━━━━━━━━━━━━━━━━━━━━━━━\u001b[0m \u001b[32m139.4/139.4 kB\u001b[0m \u001b[31m8.1 MB/s\u001b[0m eta \u001b[36m0:00:00\u001b[0m\n",
            "\u001b[2K   \u001b[90m━━━━━━━━━━━━━━━━━━━━━━━━━━━━━━━━━━━━━━━━\u001b[0m \u001b[32m3.1/3.1 MB\u001b[0m \u001b[31m55.0 MB/s\u001b[0m eta \u001b[36m0:00:00\u001b[0m\n",
            "\u001b[2K   \u001b[90m━━━━━━━━━━━━━━━━━━━━━━━━━━━━━━━━━━━━━━━━\u001b[0m \u001b[32m2.0/2.0 MB\u001b[0m \u001b[31m52.8 MB/s\u001b[0m eta \u001b[36m0:00:00\u001b[0m\n",
            "\u001b[2K   \u001b[90m━━━━━━━━━━━━━━━━━━━━━━━━━━━━━━━━━━━━━━━━\u001b[0m \u001b[32m447.0/447.0 kB\u001b[0m \u001b[31m21.7 MB/s\u001b[0m eta \u001b[36m0:00:00\u001b[0m\n",
            "\u001b[2K   \u001b[90m━━━━━━━━━━━━━━━━━━━━━━━━━━━━━━━━━━━━━━━━\u001b[0m \u001b[32m109.4/109.4 kB\u001b[0m \u001b[31m6.6 MB/s\u001b[0m eta \u001b[36m0:00:00\u001b[0m\n",
            "\u001b[2K   \u001b[90m━━━━━━━━━━━━━━━━━━━━━━━━━━━━━━━━━━━━━━━━\u001b[0m \u001b[32m295.8/295.8 kB\u001b[0m \u001b[31m15.5 MB/s\u001b[0m eta \u001b[36m0:00:00\u001b[0m\n",
            "\u001b[2K   \u001b[90m━━━━━━━━━━━━━━━━━━━━━━━━━━━━━━━━━━━━━━━━\u001b[0m \u001b[32m2.8/2.8 MB\u001b[0m \u001b[31m58.5 MB/s\u001b[0m eta \u001b[36m0:00:00\u001b[0m\n",
            "\u001b[2K   \u001b[90m━━━━━━━━━━━━━━━━━━━━━━━━━━━━━━━━━━━━━━━━\u001b[0m \u001b[32m2.3/2.3 MB\u001b[0m \u001b[31m57.1 MB/s\u001b[0m eta \u001b[36m0:00:00\u001b[0m\n",
            "\u001b[2K   \u001b[90m━━━━━━━━━━━━━━━━━━━━━━━━━━━━━━━━━━━━━━━━\u001b[0m \u001b[32m194.6/194.6 kB\u001b[0m \u001b[31m11.0 MB/s\u001b[0m eta \u001b[36m0:00:00\u001b[0m\n",
            "\u001b[2K   \u001b[90m━━━━━━━━━━━━━━━━━━━━━━━━━━━━━━━━━━━━━━━━\u001b[0m \u001b[32m46.2/46.2 kB\u001b[0m \u001b[31m2.7 MB/s\u001b[0m eta \u001b[36m0:00:00\u001b[0m\n",
            "\u001b[2K   \u001b[90m━━━━━━━━━━━━━━━━━━━━━━━━━━━━━━━━━━━━━━━━\u001b[0m \u001b[32m58.1/58.1 kB\u001b[0m \u001b[31m3.2 MB/s\u001b[0m eta \u001b[36m0:00:00\u001b[0m\n",
            "\u001b[?25h  Building wheel for xhtml2pdf (setup.py) ... \u001b[?25l\u001b[?25hdone\n",
            "  Building wheel for svglib (setup.py) ... \u001b[?25l\u001b[?25hdone\n",
            "\u001b[31mERROR: pip's dependency resolver does not currently take into account all the packages that are installed. This behaviour is the source of the following dependency conflicts.\n",
            "albumentations 1.4.12 requires pydantic>=2.7.0, but you have pydantic 1.10.17 which is incompatible.\u001b[0m\u001b[31m\n",
            "\u001b[0m"
          ]
        }
      ]
    },
    {
      "cell_type": "code",
      "execution_count": null,
      "metadata": {
        "id": "dtbDOcnWQDpq"
      },
      "outputs": [],
      "source": [
        "import pandas as pd\n",
        "from sklearn.model_selection import train_test_split\n",
        "from upgini import FeaturesEnricher, SearchKey\n",
        "from upgini.metadata import CVType\n",
        "from catboost import CatBoostRegressor\n",
        "from catboost.utils import eval_metric"
      ]
    },
    {
      "cell_type": "code",
      "source": [
        "df = pd.read_csv('/content/train.csv')"
      ],
      "metadata": {
        "id": "cty81DN8U1zS"
      },
      "execution_count": null,
      "outputs": []
    },
    {
      "cell_type": "code",
      "source": [
        "df.shape"
      ],
      "metadata": {
        "colab": {
          "base_uri": "https://localhost:8080/"
        },
        "id": "Mx7vxL-RVv5I",
        "outputId": "e159dc4c-582c-41a6-d32c-ee8d52d1382d"
      },
      "execution_count": null,
      "outputs": [
        {
          "output_type": "execute_result",
          "data": {
            "text/plain": [
              "(913000, 4)"
            ]
          },
          "metadata": {},
          "execution_count": 4
        }
      ]
    },
    {
      "cell_type": "code",
      "source": [
        "df = df.sample(n=12_000, random_state=1)"
      ],
      "metadata": {
        "id": "iKewifRFVxeq"
      },
      "execution_count": null,
      "outputs": []
    },
    {
      "cell_type": "code",
      "source": [
        "df.shape"
      ],
      "metadata": {
        "colab": {
          "base_uri": "https://localhost:8080/"
        },
        "id": "-IidTHDXXnSw",
        "outputId": "bcfc23c9-88aa-4b2c-9aff-18e9d535c3af"
      },
      "execution_count": null,
      "outputs": [
        {
          "output_type": "execute_result",
          "data": {
            "text/plain": [
              "(12000, 4)"
            ]
          },
          "metadata": {},
          "execution_count": 6
        }
      ]
    },
    {
      "cell_type": "code",
      "source": [
        "df.head()"
      ],
      "metadata": {
        "colab": {
          "base_uri": "https://localhost:8080/",
          "height": 204
        },
        "id": "6CrHcu68Xo7C",
        "outputId": "bd6b4b2c-aa74-47f0-93c7-215a605b1b27"
      },
      "execution_count": null,
      "outputs": [
        {
          "output_type": "execute_result",
          "data": {
            "text/plain": [
              "              date  store  item  sales\n",
              "782526  2015-09-26      9    43     58\n",
              "82050   2017-09-03      5     5     22\n",
              "718739  2016-01-27      4    40     17\n",
              "142779  2013-12-18      9     8     56\n",
              "78837   2013-11-16      4     5     12"
            ],
            "text/html": [
              "\n",
              "  <div id=\"df-5d3d9e15-a165-429e-9970-08077cadd655\" class=\"colab-df-container\">\n",
              "    <div>\n",
              "<style scoped>\n",
              "    .dataframe tbody tr th:only-of-type {\n",
              "        vertical-align: middle;\n",
              "    }\n",
              "\n",
              "    .dataframe tbody tr th {\n",
              "        vertical-align: top;\n",
              "    }\n",
              "\n",
              "    .dataframe thead th {\n",
              "        text-align: right;\n",
              "    }\n",
              "</style>\n",
              "<table border=\"1\" class=\"dataframe\">\n",
              "  <thead>\n",
              "    <tr style=\"text-align: right;\">\n",
              "      <th></th>\n",
              "      <th>date</th>\n",
              "      <th>store</th>\n",
              "      <th>item</th>\n",
              "      <th>sales</th>\n",
              "    </tr>\n",
              "  </thead>\n",
              "  <tbody>\n",
              "    <tr>\n",
              "      <th>782526</th>\n",
              "      <td>2015-09-26</td>\n",
              "      <td>9</td>\n",
              "      <td>43</td>\n",
              "      <td>58</td>\n",
              "    </tr>\n",
              "    <tr>\n",
              "      <th>82050</th>\n",
              "      <td>2017-09-03</td>\n",
              "      <td>5</td>\n",
              "      <td>5</td>\n",
              "      <td>22</td>\n",
              "    </tr>\n",
              "    <tr>\n",
              "      <th>718739</th>\n",
              "      <td>2016-01-27</td>\n",
              "      <td>4</td>\n",
              "      <td>40</td>\n",
              "      <td>17</td>\n",
              "    </tr>\n",
              "    <tr>\n",
              "      <th>142779</th>\n",
              "      <td>2013-12-18</td>\n",
              "      <td>9</td>\n",
              "      <td>8</td>\n",
              "      <td>56</td>\n",
              "    </tr>\n",
              "    <tr>\n",
              "      <th>78837</th>\n",
              "      <td>2013-11-16</td>\n",
              "      <td>4</td>\n",
              "      <td>5</td>\n",
              "      <td>12</td>\n",
              "    </tr>\n",
              "  </tbody>\n",
              "</table>\n",
              "</div>\n",
              "    <div class=\"colab-df-buttons\">\n",
              "\n",
              "  <div class=\"colab-df-container\">\n",
              "    <button class=\"colab-df-convert\" onclick=\"convertToInteractive('df-5d3d9e15-a165-429e-9970-08077cadd655')\"\n",
              "            title=\"Convert this dataframe to an interactive table.\"\n",
              "            style=\"display:none;\">\n",
              "\n",
              "  <svg xmlns=\"http://www.w3.org/2000/svg\" height=\"24px\" viewBox=\"0 -960 960 960\">\n",
              "    <path d=\"M120-120v-720h720v720H120Zm60-500h600v-160H180v160Zm220 220h160v-160H400v160Zm0 220h160v-160H400v160ZM180-400h160v-160H180v160Zm440 0h160v-160H620v160ZM180-180h160v-160H180v160Zm440 0h160v-160H620v160Z\"/>\n",
              "  </svg>\n",
              "    </button>\n",
              "\n",
              "  <style>\n",
              "    .colab-df-container {\n",
              "      display:flex;\n",
              "      gap: 12px;\n",
              "    }\n",
              "\n",
              "    .colab-df-convert {\n",
              "      background-color: #E8F0FE;\n",
              "      border: none;\n",
              "      border-radius: 50%;\n",
              "      cursor: pointer;\n",
              "      display: none;\n",
              "      fill: #1967D2;\n",
              "      height: 32px;\n",
              "      padding: 0 0 0 0;\n",
              "      width: 32px;\n",
              "    }\n",
              "\n",
              "    .colab-df-convert:hover {\n",
              "      background-color: #E2EBFA;\n",
              "      box-shadow: 0px 1px 2px rgba(60, 64, 67, 0.3), 0px 1px 3px 1px rgba(60, 64, 67, 0.15);\n",
              "      fill: #174EA6;\n",
              "    }\n",
              "\n",
              "    .colab-df-buttons div {\n",
              "      margin-bottom: 4px;\n",
              "    }\n",
              "\n",
              "    [theme=dark] .colab-df-convert {\n",
              "      background-color: #3B4455;\n",
              "      fill: #D2E3FC;\n",
              "    }\n",
              "\n",
              "    [theme=dark] .colab-df-convert:hover {\n",
              "      background-color: #434B5C;\n",
              "      box-shadow: 0px 1px 3px 1px rgba(0, 0, 0, 0.15);\n",
              "      filter: drop-shadow(0px 1px 2px rgba(0, 0, 0, 0.3));\n",
              "      fill: #FFFFFF;\n",
              "    }\n",
              "  </style>\n",
              "\n",
              "    <script>\n",
              "      const buttonEl =\n",
              "        document.querySelector('#df-5d3d9e15-a165-429e-9970-08077cadd655 button.colab-df-convert');\n",
              "      buttonEl.style.display =\n",
              "        google.colab.kernel.accessAllowed ? 'block' : 'none';\n",
              "\n",
              "      async function convertToInteractive(key) {\n",
              "        const element = document.querySelector('#df-5d3d9e15-a165-429e-9970-08077cadd655');\n",
              "        const dataTable =\n",
              "          await google.colab.kernel.invokeFunction('convertToInteractive',\n",
              "                                                    [key], {});\n",
              "        if (!dataTable) return;\n",
              "\n",
              "        const docLinkHtml = 'Like what you see? Visit the ' +\n",
              "          '<a target=\"_blank\" href=https://colab.research.google.com/notebooks/data_table.ipynb>data table notebook</a>'\n",
              "          + ' to learn more about interactive tables.';\n",
              "        element.innerHTML = '';\n",
              "        dataTable['output_type'] = 'display_data';\n",
              "        await google.colab.output.renderOutput(dataTable, element);\n",
              "        const docLink = document.createElement('div');\n",
              "        docLink.innerHTML = docLinkHtml;\n",
              "        element.appendChild(docLink);\n",
              "      }\n",
              "    </script>\n",
              "  </div>\n",
              "\n",
              "\n",
              "<div id=\"df-97b35461-0ffe-491d-8809-6a272cffe498\">\n",
              "  <button class=\"colab-df-quickchart\" onclick=\"quickchart('df-97b35461-0ffe-491d-8809-6a272cffe498')\"\n",
              "            title=\"Suggest charts\"\n",
              "            style=\"display:none;\">\n",
              "\n",
              "<svg xmlns=\"http://www.w3.org/2000/svg\" height=\"24px\"viewBox=\"0 0 24 24\"\n",
              "     width=\"24px\">\n",
              "    <g>\n",
              "        <path d=\"M19 3H5c-1.1 0-2 .9-2 2v14c0 1.1.9 2 2 2h14c1.1 0 2-.9 2-2V5c0-1.1-.9-2-2-2zM9 17H7v-7h2v7zm4 0h-2V7h2v10zm4 0h-2v-4h2v4z\"/>\n",
              "    </g>\n",
              "</svg>\n",
              "  </button>\n",
              "\n",
              "<style>\n",
              "  .colab-df-quickchart {\n",
              "      --bg-color: #E8F0FE;\n",
              "      --fill-color: #1967D2;\n",
              "      --hover-bg-color: #E2EBFA;\n",
              "      --hover-fill-color: #174EA6;\n",
              "      --disabled-fill-color: #AAA;\n",
              "      --disabled-bg-color: #DDD;\n",
              "  }\n",
              "\n",
              "  [theme=dark] .colab-df-quickchart {\n",
              "      --bg-color: #3B4455;\n",
              "      --fill-color: #D2E3FC;\n",
              "      --hover-bg-color: #434B5C;\n",
              "      --hover-fill-color: #FFFFFF;\n",
              "      --disabled-bg-color: #3B4455;\n",
              "      --disabled-fill-color: #666;\n",
              "  }\n",
              "\n",
              "  .colab-df-quickchart {\n",
              "    background-color: var(--bg-color);\n",
              "    border: none;\n",
              "    border-radius: 50%;\n",
              "    cursor: pointer;\n",
              "    display: none;\n",
              "    fill: var(--fill-color);\n",
              "    height: 32px;\n",
              "    padding: 0;\n",
              "    width: 32px;\n",
              "  }\n",
              "\n",
              "  .colab-df-quickchart:hover {\n",
              "    background-color: var(--hover-bg-color);\n",
              "    box-shadow: 0 1px 2px rgba(60, 64, 67, 0.3), 0 1px 3px 1px rgba(60, 64, 67, 0.15);\n",
              "    fill: var(--button-hover-fill-color);\n",
              "  }\n",
              "\n",
              "  .colab-df-quickchart-complete:disabled,\n",
              "  .colab-df-quickchart-complete:disabled:hover {\n",
              "    background-color: var(--disabled-bg-color);\n",
              "    fill: var(--disabled-fill-color);\n",
              "    box-shadow: none;\n",
              "  }\n",
              "\n",
              "  .colab-df-spinner {\n",
              "    border: 2px solid var(--fill-color);\n",
              "    border-color: transparent;\n",
              "    border-bottom-color: var(--fill-color);\n",
              "    animation:\n",
              "      spin 1s steps(1) infinite;\n",
              "  }\n",
              "\n",
              "  @keyframes spin {\n",
              "    0% {\n",
              "      border-color: transparent;\n",
              "      border-bottom-color: var(--fill-color);\n",
              "      border-left-color: var(--fill-color);\n",
              "    }\n",
              "    20% {\n",
              "      border-color: transparent;\n",
              "      border-left-color: var(--fill-color);\n",
              "      border-top-color: var(--fill-color);\n",
              "    }\n",
              "    30% {\n",
              "      border-color: transparent;\n",
              "      border-left-color: var(--fill-color);\n",
              "      border-top-color: var(--fill-color);\n",
              "      border-right-color: var(--fill-color);\n",
              "    }\n",
              "    40% {\n",
              "      border-color: transparent;\n",
              "      border-right-color: var(--fill-color);\n",
              "      border-top-color: var(--fill-color);\n",
              "    }\n",
              "    60% {\n",
              "      border-color: transparent;\n",
              "      border-right-color: var(--fill-color);\n",
              "    }\n",
              "    80% {\n",
              "      border-color: transparent;\n",
              "      border-right-color: var(--fill-color);\n",
              "      border-bottom-color: var(--fill-color);\n",
              "    }\n",
              "    90% {\n",
              "      border-color: transparent;\n",
              "      border-bottom-color: var(--fill-color);\n",
              "    }\n",
              "  }\n",
              "</style>\n",
              "\n",
              "  <script>\n",
              "    async function quickchart(key) {\n",
              "      const quickchartButtonEl =\n",
              "        document.querySelector('#' + key + ' button');\n",
              "      quickchartButtonEl.disabled = true;  // To prevent multiple clicks.\n",
              "      quickchartButtonEl.classList.add('colab-df-spinner');\n",
              "      try {\n",
              "        const charts = await google.colab.kernel.invokeFunction(\n",
              "            'suggestCharts', [key], {});\n",
              "      } catch (error) {\n",
              "        console.error('Error during call to suggestCharts:', error);\n",
              "      }\n",
              "      quickchartButtonEl.classList.remove('colab-df-spinner');\n",
              "      quickchartButtonEl.classList.add('colab-df-quickchart-complete');\n",
              "    }\n",
              "    (() => {\n",
              "      let quickchartButtonEl =\n",
              "        document.querySelector('#df-97b35461-0ffe-491d-8809-6a272cffe498 button');\n",
              "      quickchartButtonEl.style.display =\n",
              "        google.colab.kernel.accessAllowed ? 'block' : 'none';\n",
              "    })();\n",
              "  </script>\n",
              "</div>\n",
              "\n",
              "    </div>\n",
              "  </div>\n"
            ],
            "application/vnd.google.colaboratory.intrinsic+json": {
              "type": "dataframe",
              "variable_name": "df",
              "summary": "{\n  \"name\": \"df\",\n  \"rows\": 12000,\n  \"fields\": [\n    {\n      \"column\": \"date\",\n      \"properties\": {\n        \"dtype\": \"object\",\n        \"num_unique_values\": 1823,\n        \"samples\": [\n          \"2015-03-18\",\n          \"2013-05-29\",\n          \"2013-04-25\"\n        ],\n        \"semantic_type\": \"\",\n        \"description\": \"\"\n      }\n    },\n    {\n      \"column\": \"store\",\n      \"properties\": {\n        \"dtype\": \"number\",\n        \"std\": 2,\n        \"min\": 1,\n        \"max\": 10,\n        \"num_unique_values\": 10,\n        \"samples\": [\n          2,\n          5,\n          6\n        ],\n        \"semantic_type\": \"\",\n        \"description\": \"\"\n      }\n    },\n    {\n      \"column\": \"item\",\n      \"properties\": {\n        \"dtype\": \"number\",\n        \"std\": 14,\n        \"min\": 1,\n        \"max\": 50,\n        \"num_unique_values\": 50,\n        \"samples\": [\n          11,\n          21,\n          26\n        ],\n        \"semantic_type\": \"\",\n        \"description\": \"\"\n      }\n    },\n    {\n      \"column\": \"sales\",\n      \"properties\": {\n        \"dtype\": \"number\",\n        \"std\": 28,\n        \"min\": 3,\n        \"max\": 186,\n        \"num_unique_values\": 167,\n        \"samples\": [\n          94,\n          63,\n          36\n        ],\n        \"semantic_type\": \"\",\n        \"description\": \"\"\n      }\n    }\n  ]\n}"
            }
          },
          "metadata": {},
          "execution_count": 7
        }
      ]
    },
    {
      "cell_type": "code",
      "source": [
        "df.info()"
      ],
      "metadata": {
        "colab": {
          "base_uri": "https://localhost:8080/"
        },
        "id": "9hlvu-cKXrH-",
        "outputId": "7bedfc96-ac29-436f-cad2-5f2232a00a8c"
      },
      "execution_count": null,
      "outputs": [
        {
          "output_type": "stream",
          "name": "stdout",
          "text": [
            "<class 'pandas.core.frame.DataFrame'>\n",
            "Index: 12000 entries, 782526 to 62089\n",
            "Data columns (total 4 columns):\n",
            " #   Column  Non-Null Count  Dtype \n",
            "---  ------  --------------  ----- \n",
            " 0   date    12000 non-null  object\n",
            " 1   store   12000 non-null  int64 \n",
            " 2   item    12000 non-null  int64 \n",
            " 3   sales   12000 non-null  int64 \n",
            "dtypes: int64(3), object(1)\n",
            "memory usage: 726.8+ KB\n"
          ]
        }
      ]
    },
    {
      "cell_type": "code",
      "source": [
        "# Converting the data object into pandas' date field\n",
        "\n",
        "df['date'] = pd.to_datetime(df['date'],)"
      ],
      "metadata": {
        "id": "Bf_c4M3XXxKo"
      },
      "execution_count": null,
      "outputs": []
    },
    {
      "cell_type": "code",
      "source": [
        "df.info()"
      ],
      "metadata": {
        "colab": {
          "base_uri": "https://localhost:8080/"
        },
        "id": "xzY6ywTeYTdw",
        "outputId": "88c9cec1-f0d5-499f-fd7c-84cd57a2c16f"
      },
      "execution_count": null,
      "outputs": [
        {
          "output_type": "stream",
          "name": "stdout",
          "text": [
            "<class 'pandas.core.frame.DataFrame'>\n",
            "Index: 12000 entries, 782526 to 62089\n",
            "Data columns (total 4 columns):\n",
            " #   Column  Non-Null Count  Dtype         \n",
            "---  ------  --------------  -----         \n",
            " 0   date    12000 non-null  datetime64[ns]\n",
            " 1   store   12000 non-null  int64         \n",
            " 2   item    12000 non-null  int64         \n",
            " 3   sales   12000 non-null  int64         \n",
            "dtypes: datetime64[ns](1), int64(3)\n",
            "memory usage: 726.8 KB\n"
          ]
        }
      ]
    },
    {
      "cell_type": "code",
      "source": [
        "df.sort_values('date', inplace=True)"
      ],
      "metadata": {
        "id": "__OmSRXNYUWK"
      },
      "execution_count": null,
      "outputs": []
    },
    {
      "cell_type": "code",
      "source": [
        "df.head()"
      ],
      "metadata": {
        "colab": {
          "base_uri": "https://localhost:8080/",
          "height": 204
        },
        "id": "UVlcu5zZYvhg",
        "outputId": "50069300-cf64-406c-d613-c06b67eeb72d"
      },
      "execution_count": null,
      "outputs": [
        {
          "output_type": "execute_result",
          "data": {
            "text/plain": [
              "             date  store  item  sales\n",
              "410850 2013-01-01      6    23     17\n",
              "409024 2013-01-01      5    23     11\n",
              "0      2013-01-01      1     1     13\n",
              "138776 2013-01-01      7     8     29\n",
              "474760 2013-01-01      1    27     14"
            ],
            "text/html": [
              "\n",
              "  <div id=\"df-75b1ca72-8915-424b-9a65-095d9e9f937d\" class=\"colab-df-container\">\n",
              "    <div>\n",
              "<style scoped>\n",
              "    .dataframe tbody tr th:only-of-type {\n",
              "        vertical-align: middle;\n",
              "    }\n",
              "\n",
              "    .dataframe tbody tr th {\n",
              "        vertical-align: top;\n",
              "    }\n",
              "\n",
              "    .dataframe thead th {\n",
              "        text-align: right;\n",
              "    }\n",
              "</style>\n",
              "<table border=\"1\" class=\"dataframe\">\n",
              "  <thead>\n",
              "    <tr style=\"text-align: right;\">\n",
              "      <th></th>\n",
              "      <th>date</th>\n",
              "      <th>store</th>\n",
              "      <th>item</th>\n",
              "      <th>sales</th>\n",
              "    </tr>\n",
              "  </thead>\n",
              "  <tbody>\n",
              "    <tr>\n",
              "      <th>410850</th>\n",
              "      <td>2013-01-01</td>\n",
              "      <td>6</td>\n",
              "      <td>23</td>\n",
              "      <td>17</td>\n",
              "    </tr>\n",
              "    <tr>\n",
              "      <th>409024</th>\n",
              "      <td>2013-01-01</td>\n",
              "      <td>5</td>\n",
              "      <td>23</td>\n",
              "      <td>11</td>\n",
              "    </tr>\n",
              "    <tr>\n",
              "      <th>0</th>\n",
              "      <td>2013-01-01</td>\n",
              "      <td>1</td>\n",
              "      <td>1</td>\n",
              "      <td>13</td>\n",
              "    </tr>\n",
              "    <tr>\n",
              "      <th>138776</th>\n",
              "      <td>2013-01-01</td>\n",
              "      <td>7</td>\n",
              "      <td>8</td>\n",
              "      <td>29</td>\n",
              "    </tr>\n",
              "    <tr>\n",
              "      <th>474760</th>\n",
              "      <td>2013-01-01</td>\n",
              "      <td>1</td>\n",
              "      <td>27</td>\n",
              "      <td>14</td>\n",
              "    </tr>\n",
              "  </tbody>\n",
              "</table>\n",
              "</div>\n",
              "    <div class=\"colab-df-buttons\">\n",
              "\n",
              "  <div class=\"colab-df-container\">\n",
              "    <button class=\"colab-df-convert\" onclick=\"convertToInteractive('df-75b1ca72-8915-424b-9a65-095d9e9f937d')\"\n",
              "            title=\"Convert this dataframe to an interactive table.\"\n",
              "            style=\"display:none;\">\n",
              "\n",
              "  <svg xmlns=\"http://www.w3.org/2000/svg\" height=\"24px\" viewBox=\"0 -960 960 960\">\n",
              "    <path d=\"M120-120v-720h720v720H120Zm60-500h600v-160H180v160Zm220 220h160v-160H400v160Zm0 220h160v-160H400v160ZM180-400h160v-160H180v160Zm440 0h160v-160H620v160ZM180-180h160v-160H180v160Zm440 0h160v-160H620v160Z\"/>\n",
              "  </svg>\n",
              "    </button>\n",
              "\n",
              "  <style>\n",
              "    .colab-df-container {\n",
              "      display:flex;\n",
              "      gap: 12px;\n",
              "    }\n",
              "\n",
              "    .colab-df-convert {\n",
              "      background-color: #E8F0FE;\n",
              "      border: none;\n",
              "      border-radius: 50%;\n",
              "      cursor: pointer;\n",
              "      display: none;\n",
              "      fill: #1967D2;\n",
              "      height: 32px;\n",
              "      padding: 0 0 0 0;\n",
              "      width: 32px;\n",
              "    }\n",
              "\n",
              "    .colab-df-convert:hover {\n",
              "      background-color: #E2EBFA;\n",
              "      box-shadow: 0px 1px 2px rgba(60, 64, 67, 0.3), 0px 1px 3px 1px rgba(60, 64, 67, 0.15);\n",
              "      fill: #174EA6;\n",
              "    }\n",
              "\n",
              "    .colab-df-buttons div {\n",
              "      margin-bottom: 4px;\n",
              "    }\n",
              "\n",
              "    [theme=dark] .colab-df-convert {\n",
              "      background-color: #3B4455;\n",
              "      fill: #D2E3FC;\n",
              "    }\n",
              "\n",
              "    [theme=dark] .colab-df-convert:hover {\n",
              "      background-color: #434B5C;\n",
              "      box-shadow: 0px 1px 3px 1px rgba(0, 0, 0, 0.15);\n",
              "      filter: drop-shadow(0px 1px 2px rgba(0, 0, 0, 0.3));\n",
              "      fill: #FFFFFF;\n",
              "    }\n",
              "  </style>\n",
              "\n",
              "    <script>\n",
              "      const buttonEl =\n",
              "        document.querySelector('#df-75b1ca72-8915-424b-9a65-095d9e9f937d button.colab-df-convert');\n",
              "      buttonEl.style.display =\n",
              "        google.colab.kernel.accessAllowed ? 'block' : 'none';\n",
              "\n",
              "      async function convertToInteractive(key) {\n",
              "        const element = document.querySelector('#df-75b1ca72-8915-424b-9a65-095d9e9f937d');\n",
              "        const dataTable =\n",
              "          await google.colab.kernel.invokeFunction('convertToInteractive',\n",
              "                                                    [key], {});\n",
              "        if (!dataTable) return;\n",
              "\n",
              "        const docLinkHtml = 'Like what you see? Visit the ' +\n",
              "          '<a target=\"_blank\" href=https://colab.research.google.com/notebooks/data_table.ipynb>data table notebook</a>'\n",
              "          + ' to learn more about interactive tables.';\n",
              "        element.innerHTML = '';\n",
              "        dataTable['output_type'] = 'display_data';\n",
              "        await google.colab.output.renderOutput(dataTable, element);\n",
              "        const docLink = document.createElement('div');\n",
              "        docLink.innerHTML = docLinkHtml;\n",
              "        element.appendChild(docLink);\n",
              "      }\n",
              "    </script>\n",
              "  </div>\n",
              "\n",
              "\n",
              "<div id=\"df-466ffe38-1a10-49ab-8087-73374bd2731f\">\n",
              "  <button class=\"colab-df-quickchart\" onclick=\"quickchart('df-466ffe38-1a10-49ab-8087-73374bd2731f')\"\n",
              "            title=\"Suggest charts\"\n",
              "            style=\"display:none;\">\n",
              "\n",
              "<svg xmlns=\"http://www.w3.org/2000/svg\" height=\"24px\"viewBox=\"0 0 24 24\"\n",
              "     width=\"24px\">\n",
              "    <g>\n",
              "        <path d=\"M19 3H5c-1.1 0-2 .9-2 2v14c0 1.1.9 2 2 2h14c1.1 0 2-.9 2-2V5c0-1.1-.9-2-2-2zM9 17H7v-7h2v7zm4 0h-2V7h2v10zm4 0h-2v-4h2v4z\"/>\n",
              "    </g>\n",
              "</svg>\n",
              "  </button>\n",
              "\n",
              "<style>\n",
              "  .colab-df-quickchart {\n",
              "      --bg-color: #E8F0FE;\n",
              "      --fill-color: #1967D2;\n",
              "      --hover-bg-color: #E2EBFA;\n",
              "      --hover-fill-color: #174EA6;\n",
              "      --disabled-fill-color: #AAA;\n",
              "      --disabled-bg-color: #DDD;\n",
              "  }\n",
              "\n",
              "  [theme=dark] .colab-df-quickchart {\n",
              "      --bg-color: #3B4455;\n",
              "      --fill-color: #D2E3FC;\n",
              "      --hover-bg-color: #434B5C;\n",
              "      --hover-fill-color: #FFFFFF;\n",
              "      --disabled-bg-color: #3B4455;\n",
              "      --disabled-fill-color: #666;\n",
              "  }\n",
              "\n",
              "  .colab-df-quickchart {\n",
              "    background-color: var(--bg-color);\n",
              "    border: none;\n",
              "    border-radius: 50%;\n",
              "    cursor: pointer;\n",
              "    display: none;\n",
              "    fill: var(--fill-color);\n",
              "    height: 32px;\n",
              "    padding: 0;\n",
              "    width: 32px;\n",
              "  }\n",
              "\n",
              "  .colab-df-quickchart:hover {\n",
              "    background-color: var(--hover-bg-color);\n",
              "    box-shadow: 0 1px 2px rgba(60, 64, 67, 0.3), 0 1px 3px 1px rgba(60, 64, 67, 0.15);\n",
              "    fill: var(--button-hover-fill-color);\n",
              "  }\n",
              "\n",
              "  .colab-df-quickchart-complete:disabled,\n",
              "  .colab-df-quickchart-complete:disabled:hover {\n",
              "    background-color: var(--disabled-bg-color);\n",
              "    fill: var(--disabled-fill-color);\n",
              "    box-shadow: none;\n",
              "  }\n",
              "\n",
              "  .colab-df-spinner {\n",
              "    border: 2px solid var(--fill-color);\n",
              "    border-color: transparent;\n",
              "    border-bottom-color: var(--fill-color);\n",
              "    animation:\n",
              "      spin 1s steps(1) infinite;\n",
              "  }\n",
              "\n",
              "  @keyframes spin {\n",
              "    0% {\n",
              "      border-color: transparent;\n",
              "      border-bottom-color: var(--fill-color);\n",
              "      border-left-color: var(--fill-color);\n",
              "    }\n",
              "    20% {\n",
              "      border-color: transparent;\n",
              "      border-left-color: var(--fill-color);\n",
              "      border-top-color: var(--fill-color);\n",
              "    }\n",
              "    30% {\n",
              "      border-color: transparent;\n",
              "      border-left-color: var(--fill-color);\n",
              "      border-top-color: var(--fill-color);\n",
              "      border-right-color: var(--fill-color);\n",
              "    }\n",
              "    40% {\n",
              "      border-color: transparent;\n",
              "      border-right-color: var(--fill-color);\n",
              "      border-top-color: var(--fill-color);\n",
              "    }\n",
              "    60% {\n",
              "      border-color: transparent;\n",
              "      border-right-color: var(--fill-color);\n",
              "    }\n",
              "    80% {\n",
              "      border-color: transparent;\n",
              "      border-right-color: var(--fill-color);\n",
              "      border-bottom-color: var(--fill-color);\n",
              "    }\n",
              "    90% {\n",
              "      border-color: transparent;\n",
              "      border-bottom-color: var(--fill-color);\n",
              "    }\n",
              "  }\n",
              "</style>\n",
              "\n",
              "  <script>\n",
              "    async function quickchart(key) {\n",
              "      const quickchartButtonEl =\n",
              "        document.querySelector('#' + key + ' button');\n",
              "      quickchartButtonEl.disabled = true;  // To prevent multiple clicks.\n",
              "      quickchartButtonEl.classList.add('colab-df-spinner');\n",
              "      try {\n",
              "        const charts = await google.colab.kernel.invokeFunction(\n",
              "            'suggestCharts', [key], {});\n",
              "      } catch (error) {\n",
              "        console.error('Error during call to suggestCharts:', error);\n",
              "      }\n",
              "      quickchartButtonEl.classList.remove('colab-df-spinner');\n",
              "      quickchartButtonEl.classList.add('colab-df-quickchart-complete');\n",
              "    }\n",
              "    (() => {\n",
              "      let quickchartButtonEl =\n",
              "        document.querySelector('#df-466ffe38-1a10-49ab-8087-73374bd2731f button');\n",
              "      quickchartButtonEl.style.display =\n",
              "        google.colab.kernel.accessAllowed ? 'block' : 'none';\n",
              "    })();\n",
              "  </script>\n",
              "</div>\n",
              "\n",
              "    </div>\n",
              "  </div>\n"
            ],
            "application/vnd.google.colaboratory.intrinsic+json": {
              "type": "dataframe",
              "variable_name": "df",
              "summary": "{\n  \"name\": \"df\",\n  \"rows\": 12000,\n  \"fields\": [\n    {\n      \"column\": \"date\",\n      \"properties\": {\n        \"dtype\": \"date\",\n        \"min\": \"2013-01-01 00:00:00\",\n        \"max\": \"2017-12-31 00:00:00\",\n        \"num_unique_values\": 1823,\n        \"samples\": [\n          \"2014-07-12 00:00:00\",\n          \"2017-10-12 00:00:00\",\n          \"2013-10-26 00:00:00\"\n        ],\n        \"semantic_type\": \"\",\n        \"description\": \"\"\n      }\n    },\n    {\n      \"column\": \"store\",\n      \"properties\": {\n        \"dtype\": \"number\",\n        \"std\": 2,\n        \"min\": 1,\n        \"max\": 10,\n        \"num_unique_values\": 10,\n        \"samples\": [\n          2,\n          5,\n          3\n        ],\n        \"semantic_type\": \"\",\n        \"description\": \"\"\n      }\n    },\n    {\n      \"column\": \"item\",\n      \"properties\": {\n        \"dtype\": \"number\",\n        \"std\": 14,\n        \"min\": 1,\n        \"max\": 50,\n        \"num_unique_values\": 50,\n        \"samples\": [\n          17,\n          10,\n          36\n        ],\n        \"semantic_type\": \"\",\n        \"description\": \"\"\n      }\n    },\n    {\n      \"column\": \"sales\",\n      \"properties\": {\n        \"dtype\": \"number\",\n        \"std\": 28,\n        \"min\": 3,\n        \"max\": 186,\n        \"num_unique_values\": 167,\n        \"samples\": [\n          138,\n          113,\n          84\n        ],\n        \"semantic_type\": \"\",\n        \"description\": \"\"\n      }\n    }\n  ]\n}"
            }
          },
          "metadata": {},
          "execution_count": 12
        }
      ]
    },
    {
      "cell_type": "markdown",
      "source": [
        "Splitting Our Data"
      ],
      "metadata": {
        "id": "KL56RAg4Zqqt"
      }
    },
    {
      "cell_type": "code",
      "source": [
        "X = df.drop(columns=\"sales\")\n",
        "y = df['sales']"
      ],
      "metadata": {
        "id": "41-uRxazYxAX"
      },
      "execution_count": null,
      "outputs": []
    },
    {
      "cell_type": "code",
      "source": [
        "X_train, X_test, y_train, y_test = train_test_split(X, y)"
      ],
      "metadata": {
        "id": "P9x7dFWjakTA"
      },
      "execution_count": null,
      "outputs": []
    },
    {
      "cell_type": "markdown",
      "source": [
        "**Enriching Our Features**\n",
        "\n",
        "Having only 3 features to predict a target value is not ideal. Hence, we will be using *upgini* to create new relevant features."
      ],
      "metadata": {
        "id": "5QaVE7OJa3Cb"
      }
    },
    {
      "cell_type": "code",
      "source": [
        "enricher = FeaturesEnricher(\n",
        "    search_keys = {\n",
        "        \"date\":SearchKey.DATE\n",
        "    },\n",
        "    cv = CVType.time_series\n",
        ")"
      ],
      "metadata": {
        "id": "vmZIhQONaqOJ",
        "colab": {
          "base_uri": "https://localhost:8080/"
        },
        "outputId": "c70d1fef-4fc2-4aed-a75b-56bcf2fd1924"
      },
      "execution_count": null,
      "outputs": [
        {
          "output_type": "stream",
          "name": "stderr",
          "text": [
            "/usr/local/lib/python3.10/dist-packages/dask/dataframe/__init__.py:42: FutureWarning: \n",
            "Dask dataframe query planning is disabled because dask-expr is not installed.\n",
            "\n",
            "You can install it with `pip install dask[dataframe]` or `conda install dask`.\n",
            "This will raise in a future version.\n",
            "\n",
            "  warnings.warn(msg, FutureWarning)\n"
          ]
        }
      ]
    },
    {
      "cell_type": "code",
      "source": [
        "enricher.fit(X_train, y_train,\n",
        "             eval_set=[(X_test, y_test)])"
      ],
      "metadata": {
        "colab": {
          "base_uri": "https://localhost:8080/",
          "height": 1000
        },
        "id": "sXXakH-8e74Y",
        "outputId": "7d4dfeeb-c280-4719-a39e-95deca63e5d7"
      },
      "execution_count": null,
      "outputs": [
        {
          "output_type": "display_data",
          "data": {
            "text/plain": [
              "[============================================================] 100% Finished"
            ],
            "text/html": [
              "<progress style='width:60ex' max='100' value='100'></progress>  100% Finished</br>"
            ]
          },
          "metadata": {}
        },
        {
          "output_type": "display_data",
          "data": {
            "text/plain": [
              "<IPython.core.display.Javascript object>"
            ],
            "application/javascript": [
              "\n",
              "                    async function getVisitorId() {\n",
              "                        return import('https://upgini.github.io/upgini/js/a.js')\n",
              "                            .then(FingerprintJS => FingerprintJS.load())\n",
              "                            .then(fp => fp.get())\n",
              "                            .then(result => result.visitorId);\n",
              "                    }\n",
              "                    "
            ]
          },
          "metadata": {}
        },
        {
          "output_type": "display_data",
          "data": {
            "text/plain": [
              "<IPython.core.display.Javascript object>"
            ],
            "application/javascript": [
              "\n",
              "                    async function getVisitorId() {\n",
              "                        return import('https://upgini.github.io/upgini/js/a.js')\n",
              "                            .then(FingerprintJS => FingerprintJS.load())\n",
              "                            .then(fp => fp.get())\n",
              "                            .then(result => result.visitorId);\n",
              "                    }\n",
              "                    "
            ]
          },
          "metadata": {}
        },
        {
          "output_type": "display_data",
          "data": {
            "text/plain": [
              "<IPython.core.display.Javascript object>"
            ],
            "application/javascript": [
              "\n",
              "                    async function getVisitorId() {\n",
              "                        return import('https://upgini.github.io/upgini/js/a.js')\n",
              "                            .then(FingerprintJS => FingerprintJS.load())\n",
              "                            .then(fp => fp.get())\n",
              "                            .then(result => result.visitorId);\n",
              "                    }\n",
              "                    "
            ]
          },
          "metadata": {}
        },
        {
          "output_type": "display_data",
          "data": {
            "text/plain": [
              "<IPython.core.display.Javascript object>"
            ],
            "application/javascript": [
              "\n",
              "                    async function getVisitorId() {\n",
              "                        return import('https://upgini.github.io/upgini/js/a.js')\n",
              "                            .then(FingerprintJS => FingerprintJS.load())\n",
              "                            .then(fp => fp.get())\n",
              "                            .then(result => result.visitorId);\n",
              "                    }\n",
              "                    "
            ]
          },
          "metadata": {}
        },
        {
          "output_type": "display_data",
          "data": {
            "text/plain": [
              "<IPython.core.display.Javascript object>"
            ],
            "application/javascript": [
              "\n",
              "                    async function getVisitorId() {\n",
              "                        return import('https://upgini.github.io/upgini/js/a.js')\n",
              "                            .then(FingerprintJS => FingerprintJS.load())\n",
              "                            .then(fp => fp.get())\n",
              "                            .then(result => result.visitorId);\n",
              "                    }\n",
              "                    "
            ]
          },
          "metadata": {}
        },
        {
          "output_type": "display_data",
          "data": {
            "text/plain": [
              "<IPython.core.display.Javascript object>"
            ],
            "application/javascript": [
              "\n",
              "                    async function getVisitorId() {\n",
              "                        return import('https://upgini.github.io/upgini/js/a.js')\n",
              "                            .then(FingerprintJS => FingerprintJS.load())\n",
              "                            .then(fp => fp.get())\n",
              "                            .then(result => result.visitorId);\n",
              "                    }\n",
              "                    "
            ]
          },
          "metadata": {}
        },
        {
          "output_type": "stream",
          "name": "stdout",
          "text": [
            "\n",
            "WARNING: Search started with DATE search key only\n",
            "Try to add other keys like the COUNTRY, POSTAL_CODE, PHONE NUMBER, EMAIL/HEM, IPv4 to your training dataset\n",
            "for search through all the available data sources.\n",
            "See docs https://github.com/upgini/upgini#-total-239-countries-and-up-to-41-years-of-history\n"
          ]
        },
        {
          "output_type": "display_data",
          "data": {
            "text/plain": [
              "<IPython.core.display.Javascript object>"
            ],
            "application/javascript": [
              "\n",
              "                    async function getVisitorId() {\n",
              "                        return import('https://upgini.github.io/upgini/js/a.js')\n",
              "                            .then(FingerprintJS => FingerprintJS.load())\n",
              "                            .then(fp => fp.get())\n",
              "                            .then(result => result.visitorId);\n",
              "                    }\n",
              "                    "
            ]
          },
          "metadata": {}
        },
        {
          "output_type": "display_data",
          "data": {
            "text/plain": [
              "<IPython.core.display.Javascript object>"
            ],
            "application/javascript": [
              "\n",
              "                    async function getVisitorId() {\n",
              "                        return import('https://upgini.github.io/upgini/js/a.js')\n",
              "                            .then(FingerprintJS => FingerprintJS.load())\n",
              "                            .then(fp => fp.get())\n",
              "                            .then(result => result.visitorId);\n",
              "                    }\n",
              "                    "
            ]
          },
          "metadata": {}
        },
        {
          "output_type": "display_data",
          "data": {
            "text/plain": [
              "<IPython.core.display.Javascript object>"
            ],
            "application/javascript": [
              "\n",
              "                    async function getVisitorId() {\n",
              "                        return import('https://upgini.github.io/upgini/js/a.js')\n",
              "                            .then(FingerprintJS => FingerprintJS.load())\n",
              "                            .then(fp => fp.get())\n",
              "                            .then(result => result.visitorId);\n",
              "                    }\n",
              "                    "
            ]
          },
          "metadata": {}
        },
        {
          "output_type": "stream",
          "name": "stdout",
          "text": [
            "\n",
            "Detected task type: ModelTaskType.REGRESSION\n",
            "\n"
          ]
        },
        {
          "output_type": "display_data",
          "data": {
            "text/plain": [
              "<IPython.core.display.Javascript object>"
            ],
            "application/javascript": [
              "\n",
              "                    async function getVisitorId() {\n",
              "                        return import('https://upgini.github.io/upgini/js/a.js')\n",
              "                            .then(FingerprintJS => FingerprintJS.load())\n",
              "                            .then(fp => fp.get())\n",
              "                            .then(result => result.visitorId);\n",
              "                    }\n",
              "                    "
            ]
          },
          "metadata": {}
        },
        {
          "output_type": "display_data",
          "data": {
            "text/plain": [
              "<IPython.core.display.Javascript object>"
            ],
            "application/javascript": [
              "\n",
              "                    async function getVisitorId() {\n",
              "                        return import('https://upgini.github.io/upgini/js/a.js')\n",
              "                            .then(FingerprintJS => FingerprintJS.load())\n",
              "                            .then(fp => fp.get())\n",
              "                            .then(result => result.visitorId);\n",
              "                    }\n",
              "                    "
            ]
          },
          "metadata": {}
        },
        {
          "output_type": "display_data",
          "data": {
            "text/plain": [
              "<IPython.core.display.Javascript object>"
            ],
            "application/javascript": [
              "\n",
              "                    async function getVisitorId() {\n",
              "                        return import('https://upgini.github.io/upgini/js/a.js')\n",
              "                            .then(FingerprintJS => FingerprintJS.load())\n",
              "                            .then(fp => fp.get())\n",
              "                            .then(result => result.visitorId);\n",
              "                    }\n",
              "                    "
            ]
          },
          "metadata": {}
        },
        {
          "output_type": "display_data",
          "data": {
            "text/plain": [
              "<IPython.core.display.Javascript object>"
            ],
            "application/javascript": [
              "\n",
              "                    async function getVisitorId() {\n",
              "                        return import('https://upgini.github.io/upgini/js/a.js')\n",
              "                            .then(FingerprintJS => FingerprintJS.load())\n",
              "                            .then(fp => fp.get())\n",
              "                            .then(result => result.visitorId);\n",
              "                    }\n",
              "                    "
            ]
          },
          "metadata": {}
        },
        {
          "output_type": "display_data",
          "data": {
            "text/plain": [
              "<IPython.core.display.Javascript object>"
            ],
            "application/javascript": [
              "\n",
              "                    async function getVisitorId() {\n",
              "                        return import('https://upgini.github.io/upgini/js/a.js')\n",
              "                            .then(FingerprintJS => FingerprintJS.load())\n",
              "                            .then(fp => fp.get())\n",
              "                            .then(result => result.visitorId);\n",
              "                    }\n",
              "                    "
            ]
          },
          "metadata": {}
        },
        {
          "output_type": "stream",
          "name": "stdout",
          "text": [
            "\n"
          ]
        },
        {
          "output_type": "display_data",
          "data": {
            "text/plain": [
              "<IPython.core.display.HTML object>"
            ],
            "text/html": [
              "<table><tr><th style='font-weight:bold'>Column name</th><th style='font-weight:bold'>Status</th><th style='font-weight:bold'>Errors</th></tr><tr><td>target</td><td style='background-color:#DAF7A6;color:black'>All valid</td><td>-</td></tr><tr><td>date</td><td style='background-color:#DAF7A6;color:black'>All valid</td><td>-</td></tr></table>"
            ]
          },
          "metadata": {}
        },
        {
          "output_type": "display_data",
          "data": {
            "text/plain": [
              "<IPython.core.display.Javascript object>"
            ],
            "application/javascript": [
              "\n",
              "                    async function getVisitorId() {\n",
              "                        return import('https://upgini.github.io/upgini/js/a.js')\n",
              "                            .then(FingerprintJS => FingerprintJS.load())\n",
              "                            .then(fp => fp.get())\n",
              "                            .then(result => result.visitorId);\n",
              "                    }\n",
              "                    "
            ]
          },
          "metadata": {}
        },
        {
          "output_type": "display_data",
          "data": {
            "text/plain": [
              "<IPython.core.display.Javascript object>"
            ],
            "application/javascript": [
              "\n",
              "                    async function getVisitorId() {\n",
              "                        return import('https://upgini.github.io/upgini/js/a.js')\n",
              "                            .then(FingerprintJS => FingerprintJS.load())\n",
              "                            .then(fp => fp.get())\n",
              "                            .then(result => result.visitorId);\n",
              "                    }\n",
              "                    "
            ]
          },
          "metadata": {}
        },
        {
          "output_type": "display_data",
          "data": {
            "text/plain": [
              "<IPython.core.display.Javascript object>"
            ],
            "application/javascript": [
              "\n",
              "                        async function getIP() {\n",
              "                            return fetch(\"https://api64.ipify.org\")\n",
              "                                .then(response => response.text())\n",
              "                                .then(data => data);\n",
              "                        }\n",
              "                        "
            ]
          },
          "metadata": {}
        },
        {
          "output_type": "display_data",
          "data": {
            "text/plain": [
              "<IPython.core.display.Javascript object>"
            ],
            "application/javascript": [
              "\n",
              "                        async function getIP() {\n",
              "                            return fetch(\"https://api64.ipify.org\")\n",
              "                                .then(response => response.text())\n",
              "                                .then(data => data);\n",
              "                        }\n",
              "                        "
            ]
          },
          "metadata": {}
        },
        {
          "output_type": "display_data",
          "data": {
            "text/plain": [
              "<IPython.core.display.Javascript object>"
            ],
            "application/javascript": [
              "\n",
              "                        async function getIP() {\n",
              "                            return fetch(\"https://api64.ipify.org\")\n",
              "                                .then(response => response.text())\n",
              "                                .then(data => data);\n",
              "                        }\n",
              "                        "
            ]
          },
          "metadata": {}
        },
        {
          "output_type": "display_data",
          "data": {
            "text/plain": [
              "<IPython.core.display.Javascript object>"
            ],
            "application/javascript": [
              "\n",
              "                        async function getIP() {\n",
              "                            return fetch(\"https://api64.ipify.org\")\n",
              "                                .then(response => response.text())\n",
              "                                .then(data => data);\n",
              "                        }\n",
              "                        "
            ]
          },
          "metadata": {}
        },
        {
          "output_type": "display_data",
          "data": {
            "text/plain": [
              "<IPython.core.display.Javascript object>"
            ],
            "application/javascript": [
              "\n",
              "                        async function getIP() {\n",
              "                            return fetch(\"https://api64.ipify.org\")\n",
              "                                .then(response => response.text())\n",
              "                                .then(data => data);\n",
              "                        }\n",
              "                        "
            ]
          },
          "metadata": {}
        },
        {
          "output_type": "display_data",
          "data": {
            "text/plain": [
              "<IPython.core.display.Javascript object>"
            ],
            "application/javascript": [
              "\n",
              "                        async function getIP() {\n",
              "                            return fetch(\"https://api64.ipify.org\")\n",
              "                                .then(response => response.text())\n",
              "                                .then(data => data);\n",
              "                        }\n",
              "                        "
            ]
          },
          "metadata": {}
        },
        {
          "output_type": "display_data",
          "data": {
            "text/plain": [
              "<IPython.core.display.Javascript object>"
            ],
            "application/javascript": [
              "\n",
              "                        async function getIP() {\n",
              "                            return fetch(\"https://api64.ipify.org\")\n",
              "                                .then(response => response.text())\n",
              "                                .then(data => data);\n",
              "                        }\n",
              "                        "
            ]
          },
          "metadata": {}
        },
        {
          "output_type": "display_data",
          "data": {
            "text/plain": [
              "<IPython.core.display.Javascript object>"
            ],
            "application/javascript": [
              "\n",
              "                        async function getIP() {\n",
              "                            return fetch(\"https://api64.ipify.org\")\n",
              "                                .then(response => response.text())\n",
              "                                .then(data => data);\n",
              "                        }\n",
              "                        "
            ]
          },
          "metadata": {}
        },
        {
          "output_type": "display_data",
          "data": {
            "text/plain": [
              "<IPython.core.display.Javascript object>"
            ],
            "application/javascript": [
              "\n",
              "                        async function getIP() {\n",
              "                            return fetch(\"https://api64.ipify.org\")\n",
              "                                .then(response => response.text())\n",
              "                                .then(data => data);\n",
              "                        }\n",
              "                        "
            ]
          },
          "metadata": {}
        },
        {
          "output_type": "display_data",
          "data": {
            "text/plain": [
              "<IPython.core.display.Javascript object>"
            ],
            "application/javascript": [
              "\n",
              "                        async function getIP() {\n",
              "                            return fetch(\"https://api64.ipify.org\")\n",
              "                                .then(response => response.text())\n",
              "                                .then(data => data);\n",
              "                        }\n",
              "                        "
            ]
          },
          "metadata": {}
        },
        {
          "output_type": "display_data",
          "data": {
            "text/plain": [
              "<IPython.core.display.Javascript object>"
            ],
            "application/javascript": [
              "\n",
              "                        async function getIP() {\n",
              "                            return fetch(\"https://api64.ipify.org\")\n",
              "                                .then(response => response.text())\n",
              "                                .then(data => data);\n",
              "                        }\n",
              "                        "
            ]
          },
          "metadata": {}
        },
        {
          "output_type": "display_data",
          "data": {
            "text/plain": [
              "<IPython.core.display.Javascript object>"
            ],
            "application/javascript": [
              "\n",
              "                        async function getIP() {\n",
              "                            return fetch(\"https://api64.ipify.org\")\n",
              "                                .then(response => response.text())\n",
              "                                .then(data => data);\n",
              "                        }\n",
              "                        "
            ]
          },
          "metadata": {}
        },
        {
          "output_type": "display_data",
          "data": {
            "text/plain": [
              "<IPython.core.display.Javascript object>"
            ],
            "application/javascript": [
              "\n",
              "                        async function getIP() {\n",
              "                            return fetch(\"https://api64.ipify.org\")\n",
              "                                .then(response => response.text())\n",
              "                                .then(data => data);\n",
              "                        }\n",
              "                        "
            ]
          },
          "metadata": {}
        },
        {
          "output_type": "display_data",
          "data": {
            "text/plain": [
              "<IPython.core.display.Javascript object>"
            ],
            "application/javascript": [
              "\n",
              "                        async function getIP() {\n",
              "                            return fetch(\"https://api64.ipify.org\")\n",
              "                                .then(response => response.text())\n",
              "                                .then(data => data);\n",
              "                        }\n",
              "                        "
            ]
          },
          "metadata": {}
        },
        {
          "output_type": "display_data",
          "data": {
            "text/plain": [
              "<IPython.core.display.Javascript object>"
            ],
            "application/javascript": [
              "\n",
              "                        async function getIP() {\n",
              "                            return fetch(\"https://api64.ipify.org\")\n",
              "                                .then(response => response.text())\n",
              "                                .then(data => data);\n",
              "                        }\n",
              "                        "
            ]
          },
          "metadata": {}
        },
        {
          "output_type": "display_data",
          "data": {
            "text/plain": [
              "<IPython.core.display.Javascript object>"
            ],
            "application/javascript": [
              "\n",
              "                        async function getIP() {\n",
              "                            return fetch(\"https://api64.ipify.org\")\n",
              "                                .then(response => response.text())\n",
              "                                .then(data => data);\n",
              "                        }\n",
              "                        "
            ]
          },
          "metadata": {}
        },
        {
          "output_type": "stream",
          "name": "stdout",
          "text": [
            "\n",
            "Running search request, search_id=f774d570-332f-4cf4-9365-ed648b4bab44\n",
            "We'll send email notification once it's completed, just use your personal api_key from profile.upgini.com\n",
            "\n",
            "\u001b[92m\u001b[1m\n",
            "52 relevant feature(s) found with the search keys: ['date']\u001b[0m\n"
          ]
        },
        {
          "output_type": "display_data",
          "data": {
            "text/plain": [
              "<IPython.core.display.HTML object>"
            ],
            "text/html": [
              "<style>\n",
              "            .upgini-df thead th {\n",
              "                font-weight:bold;\n",
              "                text-align: center;\n",
              "                padding: 0.5em;\n",
              "                border-bottom: 2px solid black;\n",
              "            }\n",
              "\n",
              "            .upgini-df tbody td {\n",
              "                padding: 0.5em;\n",
              "            }\n",
              "\n",
              "            .upgini-df tbody tr:nth-child(odd) {\n",
              "                background-color: #ffffff;\n",
              "            }\n",
              "\n",
              "            .upgini-df tbody tr:nth-child(even) {\n",
              "                background-color: #f2f2f2;\n",
              "            }\n",
              "\n",
              "            .upgini-text {\n",
              "                text-align: left;\n",
              "            }\n",
              "\n",
              "            .upgini-number {\n",
              "                text-align: center;\n",
              "            }\n",
              "        </style>\n",
              "        <h2>Relevant features</h2>\n",
              "        <div style=\"display:flex; flex-direction:column; align-items:flex-end; width: fit-content;\">\n",
              "            \n",
              "            <div style=\"text-align: right\">\n",
              "                <button onclick=navigator.clipboard.writeText(decodeURI('Feature%20name%09SHAP%20value%09Coverage%20%25%09Value%20preview%09Provider%09Source%09Updates%0Af_weather_date_weather_umap_33_89bb7578%090.2237%09100.0%095.1871,%204.954,%205.6175%09Upgini%09Weather%20%26%20climate%20normals%20data%09Daily%0Af_weather_date_weather_umap_24_2e14c9a6%090.0925%09100.0%096.0171,%205.0549,%205.5576%09Upgini%09Weather%20%26%20climate%20normals%20data%09Daily%0Af_weather_date_weather_umap_48_b39cd0c4%090.0475%09100.0%095.7719,%204.7146,%204.8823%09Upgini%09Weather%20%26%20climate%20normals%20data%09Daily%0Af_autofe_div_ba625fe9%090.0375%09100.0%091.0702,%202.4718,%201.331%09Upgini%09AutoFE%3A%20features%20from%20%3Ca%20href%3D%27https%3A%2F%2Fupgini.com%2F%23data_sources%27%20target%3D%27_blank%27%20rel%3D%27noopener%20noreferrer%27%3ECalendar%20data%3C%2Fa%3E%09Daily%0Af_autofe_mul_c256dd85%090.0264%09100.0%09-0.5083,%20-0.6945,%20-0.4571%09Upgini%09AutoFE%3A%20features%20from%20%3Ca%20href%3D%27https%3A%2F%2Fupgini.com%2F%23data_sources%27%20target%3D%27_blank%27%20rel%3D%27noopener%20noreferrer%27%3ECalendar%20data%3C%2Fa%3E,%3Ca%20href%3D%27https%3A%2F%2Fupgini.com%2F%23data_sources%27%20target%3D%27_blank%27%20rel%3D%27noopener%20noreferrer%27%3EMarkets%20data%3C%2Fa%3E%09Daily%0Af_autofe_div_91ddec39%090.0161%09100.0%090.0009,%20-0.0007,%20-0.0007%09Upgini%09AutoFE%3A%20features%20from%20%3Ca%20href%3D%27https%3A%2F%2Fupgini.com%2F%23data_sources%27%20target%3D%27_blank%27%20rel%3D%27noopener%20noreferrer%27%3ECalendar%20data%3C%2Fa%3E,%3Ca%20href%3D%27https%3A%2F%2Fupgini.com%2F%23data_sources%27%20target%3D%27_blank%27%20rel%3D%27noopener%20noreferrer%27%3EMarkets%20data%3C%2Fa%3E%09Daily%0Af_autofe_div_cf5dd7be%090.0156%09100.0%091.3958,%200.5104,%200.8932%09Upgini%09AutoFE%3A%20features%20from%20%3Ca%20href%3D%27https%3A%2F%2Fupgini.com%2F%23data_sources%27%20target%3D%27_blank%27%20rel%3D%27noopener%20noreferrer%27%3ECalendar%20data%3C%2Fa%3E,%3Ca%20href%3D%27https%3A%2F%2Fupgini.com%2F%23data_sources%27%20target%3D%27_blank%27%20rel%3D%27noopener%20noreferrer%27%3EMarkets%20data%3C%2Fa%3E%09Daily%0Af_autofe_mul_8a925382%090.0146%09100.0%09363.1698,%20377.276,%20365.2331%09Upgini%09AutoFE%3A%20features%20from%20%3Ca%20href%3D%27https%3A%2F%2Fupgini.com%2F%23data_sources%27%20target%3D%27_blank%27%20rel%3D%27noopener%20noreferrer%27%3EMarkets%20data%3C%2Fa%3E%09Daily%0Af_autofe_div_e075fdc5%090.0111%09100.0%090.5809,%20-1.0706,%20-1.0706%09Upgini%09AutoFE%3A%20features%20from%20%3Ca%20href%3D%27https%3A%2F%2Fupgini.com%2F%23data_sources%27%20target%3D%27_blank%27%20rel%3D%27noopener%20noreferrer%27%3ECalendar%20data%3C%2Fa%3E%09Daily%0Af_autofe_div_c2f55b86%090.0106%09100.0%090.0021,%20-0.0026,%200.0016%09Upgini%09AutoFE%3A%20features%20from%20%3Ca%20href%3D%27https%3A%2F%2Fupgini.com%2F%23data_sources%27%20target%3D%27_blank%27%20rel%3D%27noopener%20noreferrer%27%3ECalendar%20data%3C%2Fa%3E,%3Ca%20href%3D%27https%3A%2F%2Fupgini.com%2F%23data_sources%27%20target%3D%27_blank%27%20rel%3D%27noopener%20noreferrer%27%3EMarkets%20data%3C%2Fa%3E%09Daily%0Af_autofe_div_e056f974%090.0105%09100.0%094.6779,%203.5402,%205.4773%09Upgini%09AutoFE%3A%20features%20from%20%3Ca%20href%3D%27https%3A%2F%2Fupgini.com%2F%23data_sources%27%20target%3D%27_blank%27%20rel%3D%27noopener%20noreferrer%27%3EMarkets%20data%3C%2Fa%3E%09Daily%0Af_autofe_mul_245e186d%090.0078%09100.0%090.7762,%20-0.429,%20-0.15%09Upgini%09AutoFE%3A%20features%20from%20%3Ca%20href%3D%27https%3A%2F%2Fupgini.com%2F%23data_sources%27%20target%3D%27_blank%27%20rel%3D%27noopener%20noreferrer%27%3ECalendar%20data%3C%2Fa%3E%09Daily%0Af_autofe_mul_8916215e%090.0069%09100.0%09274.0786,%20360.5168,%20339.1516%09Upgini%09AutoFE%3A%20features%20from%20%3Ca%20href%3D%27https%3A%2F%2Fupgini.com%2F%23data_sources%27%20target%3D%27_blank%27%20rel%3D%27noopener%20noreferrer%27%3EMarkets%20data%3C%2Fa%3E%09Daily%0Af_events_date_year_cos1_9014a856%090.0069%09100.0%090.815,%200.1454,%200.7936%09Upgini%09Calendar%20data%09Daily%0Af_autofe_mul_f7b12b12%090.0063%09100.0%09-0.6283,%200.9306,%200.3885%09Upgini%09AutoFE%3A%20features%20from%20%3Ca%20href%3D%27https%3A%2F%2Fupgini.com%2F%23data_sources%27%20target%3D%27_blank%27%20rel%3D%27noopener%20noreferrer%27%3ECalendar%20data%3C%2Fa%3E%09Daily%0Af_autofe_mul_347f9d14%090.006%09100.0%09-0.0021,%200.0,%200.0005%09Upgini%09AutoFE%3A%20features%20from%20%3Ca%20href%3D%27https%3A%2F%2Fupgini.com%2F%23data_sources%27%20target%3D%27_blank%27%20rel%3D%27noopener%20noreferrer%27%3ECalendar%20data%3C%2Fa%3E,%3Ca%20href%3D%27https%3A%2F%2Fupgini.com%2F%23data_sources%27%20target%3D%27_blank%27%20rel%3D%27noopener%20noreferrer%27%3EMarkets%20data%3C%2Fa%3E%09Daily%0Af_autofe_div_ff5a6f27%090.0048%09100.0%090.4391,%20-1.0849,%20-1.1554%09Upgini%09AutoFE%3A%20features%20from%20%3Ca%20href%3D%27https%3A%2F%2Fupgini.com%2F%23data_sources%27%20target%3D%27_blank%27%20rel%3D%27noopener%20noreferrer%27%3ECalendar%20data%3C%2Fa%3E%09Daily%0Af_weather_date_weather_umap_20_90e5e123%090.0047%09100.0%095.0267,%205.011,%204.3878%09Upgini%09Weather%20%26%20climate%20normals%20data%09Daily%0Af_autofe_div_e70e902a%090.0046%09100.0%090.0103,%200.0065,%20-0.0028%09Upgini%09AutoFE%3A%20features%20from%20%3Ca%20href%3D%27https%3A%2F%2Fupgini.com%2F%23data_sources%27%20target%3D%27_blank%27%20rel%3D%27noopener%20noreferrer%27%3ECalendar%20data%3C%2Fa%3E,%3Ca%20href%3D%27https%3A%2F%2Fupgini.com%2F%23data_sources%27%20target%3D%27_blank%27%20rel%3D%27noopener%20noreferrer%27%3EMarkets%20data%3C%2Fa%3E%09Daily%0Af_autofe_mul_627c43d0%090.0044%09100.0%09-3.3845,%2012.3513,%20-18.2771%09Upgini%09AutoFE%3A%20features%20from%20%3Ca%20href%3D%27https%3A%2F%2Fupgini.com%2F%23data_sources%27%20target%3D%27_blank%27%20rel%3D%27noopener%20noreferrer%27%3ECalendar%20data%3C%2Fa%3E,%3Ca%20href%3D%27https%3A%2F%2Fupgini.com%2F%23data_sources%27%20target%3D%27_blank%27%20rel%3D%27noopener%20noreferrer%27%3EMarkets%20data%3C%2Fa%3E%09Daily%0Af_autofe_div_fa0777db%090.0036%09100.0%09-0.0006,%20-0.0026,%200.0026%09Upgini%09AutoFE%3A%20features%20from%20%3Ca%20href%3D%27https%3A%2F%2Fupgini.com%2F%23data_sources%27%20target%3D%27_blank%27%20rel%3D%27noopener%20noreferrer%27%3ECalendar%20data%3C%2Fa%3E,%3Ca%20href%3D%27https%3A%2F%2Fupgini.com%2F%23data_sources%27%20target%3D%27_blank%27%20rel%3D%27noopener%20noreferrer%27%3EMarkets%20data%3C%2Fa%3E%09Daily%0Af_autofe_mul_10b8aa26%090.0034%09100.0%0988.0312,%2080.1317,%2098.7544%09Upgini%09AutoFE%3A%20features%20from%20%3Ca%20href%3D%27https%3A%2F%2Fupgini.com%2F%23data_sources%27%20target%3D%27_blank%27%20rel%3D%27noopener%20noreferrer%27%3EMarkets%20data%3C%2Fa%3E%09Daily%0Af_autofe_div_c217fef5%090.003%0986.12222222222222%09-0.7975,%200.7975,%202.0765%09Upgini%09AutoFE%3A%20features%20from%20%3Ca%20href%3D%27https%3A%2F%2Fupgini.com%2F%23data_sources%27%20target%3D%27_blank%27%20rel%3D%27noopener%20noreferrer%27%3ECalendar%20data%3C%2Fa%3E%09Daily%0Af_weather_date_weather_pca_6_4d3feb7e%090.0028%09100.0%091.9869,%20-0.8675,%20-0.4369%09Upgini%09Weather%20%26%20climate%20normals%20data%09Daily%0Af_autofe_div_1175fcd1%090.0028%09100.0%0981.2521,%2080.5579,%2081.2769%09Upgini%09AutoFE%3A%20features%20from%20%3Ca%20href%3D%27https%3A%2F%2Fupgini.com%2F%23data_sources%27%20target%3D%27_blank%27%20rel%3D%27noopener%20noreferrer%27%3EMarkets%20data%3C%2Fa%3E%09Daily%0Af_autofe_mul_45a3c004%090.0027%09100.0%09-15.3534,%209.4484,%2011.095%09Upgini%09AutoFE%3A%20features%20from%20%3Ca%20href%3D%27https%3A%2F%2Fupgini.com%2F%23data_sources%27%20target%3D%27_blank%27%20rel%3D%27noopener%20noreferrer%27%3ECalendar%20data%3C%2Fa%3E,%3Ca%20href%3D%27https%3A%2F%2Fupgini.com%2F%23data_sources%27%20target%3D%27_blank%27%20rel%3D%27noopener%20noreferrer%27%3EMarkets%20data%3C%2Fa%3E%09Daily%0Af_autofe_mul_9a4ab68c%090.0025%09100.0%09-19.569,%209.0263,%20-18.6744%09Upgini%09AutoFE%3A%20features%20from%20%3Ca%20href%3D%27https%3A%2F%2Fupgini.com%2F%23data_sources%27%20target%3D%27_blank%27%20rel%3D%27noopener%20noreferrer%27%3ECalendar%20data%3C%2Fa%3E,%3Ca%20href%3D%27https%3A%2F%2Fupgini.com%2F%23data_sources%27%20target%3D%27_blank%27%20rel%3D%27noopener%20noreferrer%27%3EMarkets%20data%3C%2Fa%3E%09Daily%0Af_autofe_mul_0cc09d2d%090.0024%09100.0%09-42.2382,%20-38.8932,%20-58.9787%09Upgini%09AutoFE%3A%20features%20from%20%3Ca%20href%3D%27https%3A%2F%2Fupgini.com%2F%23data_sources%27%20target%3D%27_blank%27%20rel%3D%27noopener%20noreferrer%27%3ECalendar%20data%3C%2Fa%3E,%3Ca%20href%3D%27https%3A%2F%2Fupgini.com%2F%23data_sources%27%20target%3D%27_blank%27%20rel%3D%27noopener%20noreferrer%27%3EMarkets%20data%3C%2Fa%3E%09Daily%0Af_autofe_div_760369e5%090.0023%09100.0%090.9865,%201.0045,%201.0001%09Upgini%09AutoFE%3A%20features%20from%20%3Ca%20href%3D%27https%3A%2F%2Fupgini.com%2F%23data_sources%27%20target%3D%27_blank%27%20rel%3D%27noopener%20noreferrer%27%3EMarkets%20data%3C%2Fa%3E%09Daily%0Af_autofe_mul_2ba62bb3%090.0017%09100.0%0969.2614,%20112.3426,%2087.3877%09Upgini%09AutoFE%3A%20features%20from%20%3Ca%20href%3D%27https%3A%2F%2Fupgini.com%2F%23data_sources%27%20target%3D%27_blank%27%20rel%3D%27noopener%20noreferrer%27%3EMarkets%20data%3C%2Fa%3E%09Daily%0Af_autofe_div_f779e2a9%090.0016%09100.0%091.1292,%200.8487,%200.8548%09Upgini%09AutoFE%3A%20features%20from%20%3Ca%20href%3D%27https%3A%2F%2Fupgini.com%2F%23data_sources%27%20target%3D%27_blank%27%20rel%3D%27noopener%20noreferrer%27%3EMarkets%20data%3C%2Fa%3E%09Daily%0Af_autofe_mul_cb3a4017%090.0016%09100.0%09-0.0024,%20-0.0005,%20-0.0013%09Upgini%09AutoFE%3A%20features%20from%20%3Ca%20href%3D%27https%3A%2F%2Fupgini.com%2F%23data_sources%27%20target%3D%27_blank%27%20rel%3D%27noopener%20noreferrer%27%3ECalendar%20data%3C%2Fa%3E,%3Ca%20href%3D%27https%3A%2F%2Fupgini.com%2F%23data_sources%27%20target%3D%27_blank%27%20rel%3D%27noopener%20noreferrer%27%3EMarkets%20data%3C%2Fa%3E%09Daily%0Af_weather_date_weather_pca_31_9ed7f34d%090.0015%09100.0%090.1319,%200.1879,%20-0.0237%09Upgini%09Weather%20%26%20climate%20normals%20data%09Daily%0Af_autofe_mul_4b12defb%090.0015%09100.0%09-0.4582,%200.4058,%20-0.3773%09Upgini%09AutoFE%3A%20features%20from%20%3Ca%20href%3D%27https%3A%2F%2Fupgini.com%2F%23data_sources%27%20target%3D%27_blank%27%20rel%3D%27noopener%20noreferrer%27%3ECalendar%20data%3C%2Fa%3E%09Daily%0Af_weather_date_weather_umap_46_59f24264%090.0014%09100.0%095.1229,%205.2205,%205.2583%09Upgini%09Weather%20%26%20climate%20normals%20data%09Daily%0Af_weather_date_weather_umap_25_ed89a1ce%090.0014%09100.0%094.8836,%204.9685,%205.1209%09Upgini%09Weather%20%26%20climate%20normals%20data%09Daily%0Af_weather_date_weather_umap_31_fa6d9a99%090.0001%09100.0%094.7987,%204.9284,%204.7343%09Upgini%09Weather%20%26%20climate%20normals%20data%09Daily%0Af_events_date_week_cos1_f6a8c1fc%090.0001%09100.0%090.6235,%20-0.901,%20-0.901%09Upgini%09Calendar%20data%09Daily%0Af_events_date_week_cos3_7525fe31%090.0001%09100.0%09-0.901,%200.6235,%20-0.2225%09Upgini%09Calendar%20data%09Daily%0Af_events_date_week_sin1_847b5db1%090.0001%09100.0%09-0.9749,%200.7818,%200.4339%09Upgini%09Calendar%20data%09Daily%0Af_events_date_week_sin2_e28440a5%090.0001%09100.0%09-0.9749,%200.9749,%20-0.7818%09Upgini%09Calendar%20data%09Daily%0Af_financial_date_crude_oil_1f195998%090.0001%09100.0%09103.74,%20104.37,%20104.3%09Upgini%09Markets%20data%09Daily%0Af_financial_date_gold_7d_to_1y_ae310379%090.0001%09100.0%090.9595,%200.998,%201.0952%09Upgini%09Markets%20data%09Daily%0Af_financial_date_natural_gas_92dac942%090.0001%09100.0%093.793,%203.233,%202.759%09Upgini%09Markets%20data%09Daily%0Af_financial_date_silver_7d_to_1y_0ccfe462%090.0001%09100.0%090.8921,%200.9194,%200.9847%09Upgini%09Markets%20data%09Daily%0Af_financial_date_silver_e4e33014%090.0001%09100.0%0914.055,%2021.903,%2019.465%09Upgini%09Markets%20data%09Daily%0Af_financial_date_snp500_7d_to_1y_378b9f99%090.0001%09100.0%091.0648,%201.0806,%200.992%09Upgini%09Markets%20data%09Daily%0Af_financial_date_stoxx_043cbcd4%090.0001%09100.0%09395.81,%20332.24,%20337.84%09Upgini%09Markets%20data%09Daily%0Af_weather_date_weather_umap_14_63480984%090.0001%09100.0%095.3039,%205.0374,%204.9939%09Upgini%09Weather%20%26%20climate%20normals%20data%09Daily%0Af_weather_date_weather_umap_2_d529f1bb%090.0001%09100.0%092.6016,%208.4794,%207.9667%09Upgini%09Weather%20%26%20climate%20normals%20data%09Daily%0Af_weather_date_weather_umap_34_c3ef5b4f%090.0001%09100.0%095.6632,%205.6843,%204.6925%09Upgini%09Weather%20%26%20climate%20normals%20data%09Daily%0Af_weather_date_weather_umap_6_8de4f955%090.0001%09100.0%098.1581,%206.7296,%205.133%09Upgini%09Weather%20%26%20climate%20normals%20data%09Daily%0A'))>📂 Copy</button>\n",
              "                <a href='mailto:<Share with...>?subject=Relevant external data sources from Upgini.com&body=Feature%20name%09SHAP%20value%09Coverage%20%25%09Value%20preview%09Provider%09Source%09Updates%0Af_weather_date_weather_umap_33_89bb7578%090.2237%09100.0%095.1871,%204.954,%205.6175%09Upgini%09Weather%20%26%20climate%20normals%20data%09Daily%0Af_weather_date_weather_umap_24_2e14c9a6%090.0925%09100.0%096.0171,%205.0549,%205.5576%09Upgini%09Weather%20%26%20climate%20normals%20data%09Daily%0Af_weather_date_weather_umap_48_b39cd0c4%090.0475%09100.0%095.7719,%204.7146,%204.8823%09Upgini%09Weather%20%26%20climate%20normals%20data%09Daily%0Af_autofe_div_ba625fe9%090.0375%09100.0%091.0702,%202.4718,%201.331%09Upgini%09AutoFE%3A%20features%20from%20%3Ca%20href%3D%27https%3A%2F%2Fupgini.com%2F%23data_sources%27%20target%3D%27_blank%27%20rel%3D%27noopener%20noreferrer%27%3ECalendar%20data%3C%2Fa%3E%09Daily%0Af_autofe_mul_c256dd85%090.0264%09100.0%09-0.5083,%20-0.6945,%20-0.4571%09Upgini%09AutoFE%3A%20features%20from%20%3Ca%20href%3D%27https%3A%2F%2Fupgini.com%2F%23data_sources%27%20target%3D%27_blank%27%20rel%3D%27noopener%20noreferrer%27%3ECalendar%20data%3C%2Fa%3E,%3Ca%20href%3D%27https%3A%2F%2Fupgini.com%2F%23data_sources%27%20target%3D%27_blank%27%20rel%3D%27noopener%20noreferrer%27%3EMarkets%20data%3C%2Fa%3E%09Daily%0Af_autofe_div_91ddec39%090.0161%09100.0%090.0009,%20-0.0007,%20-0.0007%09Upgini%09AutoFE%3A%20features%20from%20%3Ca%20href%3D%27https%3A%2F%2Fupgini.com%2F%23data_sources%27%20target%3D%27_blank%27%20rel%3D%27noopener%20noreferrer%27%3ECalendar%20data%3C%2Fa%3E,%3Ca%20href%3D%27https%3A%2F%2Fupgini.com%2F%23data_sources%27%20target%3D%27_blank%27%20rel%3D%27noopener%20noreferrer%27%3EMarkets%20data%3C%2Fa%3E%09Daily%0Af_autofe_div_cf5dd7be%090.0156%09100.0%091.3958,%200.5104,%200.8932%09Upgini%09AutoFE%3A%20features%20from%20%3Ca%20href%3D%27https%3A%2F%2Fupgini.com%2F%23data_sources%27%20target%3D%27_blank%27%20rel%3D%27noopener%20noreferrer%27%3ECalendar%20data%3C%2Fa%3E,%3Ca%20href%3D%27https%3A%2F%2Fupgini.com%2F%23data_sources%27%20target%3D%27_blank%27%20rel%3D%27noopener%20noreferrer%27%3EMarkets%20data%3C%2Fa%3E%09Daily%0Af_autofe_mul_8a925382%090.0146%09100.0%09363.1698,%20377.276,%20365.2331%09Upgini%09AutoFE%3A%20features%20from%20%3Ca%20href%3D%27https%3A%2F%2Fupgini.com%2F%23data_sources%27%20target%3D%27_blank%27%20rel%3D%27noopener%20noreferrer%27%3EMarkets%20data%3C%2Fa%3E%09Daily%0Af_autofe_div_e075fdc5%090.0111%09100.0%090.5809,%20-1.0706,%20-1.0706%09Upgini%09AutoFE%3A%20features%20from%20%3Ca%20href%3D%27https%3A%2F%2Fupgini.com%2F%23data_sources%27%20target%3D%27_blank%27%20rel%3D%27noopener%20noreferrer%27%3ECalendar%20data%3C%2Fa%3E%09Daily%0Af_autofe_div_c2f55b86%090.0106%09100.0%090.0021,%20-0.0026,%200.0016%09Upgini%09AutoFE%3A%20features%20from%20%3Ca%20href%3D%27https%3A%2F%2Fupgini.com%2F%23data_sources%27%20target%3D%27_blank%27%20rel%3D%27noopener%20noreferrer%27%3ECalendar%20data%3C%2Fa%3E,%3Ca%20href%3D%27https%3A%2F%2Fupgini.com%2F%23data_sources%27%20target%3D%27_blank%27%20rel%3D%27noopener%20noreferrer%27%3EMarkets%20data%3C%2Fa%3E%09Daily%0Af_autofe_div_e056f974%090.0105%09100.0%094.6779,%203.5402,%205.4773%09Upgini%09AutoFE%3A%20features%20from%20%3Ca%20href%3D%27https%3A%2F%2Fupgini.com%2F%23data_sources%27%20target%3D%27_blank%27%20rel%3D%27noopener%20noreferrer%27%3EMarkets%20data%3C%2Fa%3E%09Daily%0Af_autofe_mul_245e186d%090.0078%09100.0%090.7762,%20-0.429,%20-0.15%09Upgini%09AutoFE%3A%20features%20from%20%3Ca%20href%3D%27https%3A%2F%2Fupgini.com%2F%23data_sources%27%20target%3D%27_blank%27%20rel%3D%27noopener%20noreferrer%27%3ECalendar%20data%3C%2Fa%3E%09Daily%0Af_autofe_mul_8916215e%090.0069%09100.0%09274.0786,%20360.5168,%20339.1516%09Upgini%09AutoFE%3A%20features%20from%20%3Ca%20href%3D%27https%3A%2F%2Fupgini.com%2F%23data_sources%27%20target%3D%27_blank%27%20rel%3D%27noopener%20noreferrer%27%3EMarkets%20data%3C%2Fa%3E%09Daily%0Af_events_date_year_cos1_9014a856%090.0069%09100.0%090.815,%200.1454,%200.7936%09Upgini%09Calendar%20data%09Daily%0Af_autofe_mul_f7b12b12%090.0063%09100.0%09-0.6283,%200.9306,%200.3885%09Upgini%09AutoFE%3A%20features%20from%20%3Ca%20href%3D%27https%3A%2F%2Fupgini.com%2F%23data_sources%27%20target%3D%27_blank%27%20rel%3D%27noopener%20noreferrer%27%3ECalendar%20data%3C%2Fa%3E%09Daily%0Af_autofe_mul_347f9d14%090.006%09100.0%09-0.0021,%200.0,%200.0005%09Upgini%09AutoFE%3A%20features%20from%20%3Ca%20href%3D%27https%3A%2F%2Fupgini.com%2F%23data_sources%27%20target%3D%27_blank%27%20rel%3D%27noopener%20noreferrer%27%3ECalendar%20data%3C%2Fa%3E,%3Ca%20href%3D%27https%3A%2F%2Fupgini.com%2F%23data_sources%27%20target%3D%27_blank%27%20rel%3D%27noopener%20noreferrer%27%3EMarkets%20data%3C%2Fa%3E%09Daily%0Af_autofe_div_ff5a6f27%090.0048%09100.0%090.4391,%20-1.0849,%20-1.1554%09Upgini%09AutoFE%3A%20features%20from%20%3Ca%20href%3D%27https%3A%2F%2Fupgini.com%2F%23data_sources%27%20target%3D%27_blank%27%20rel%3D%27noopener%20noreferrer%27%3ECalendar%20data%3C%2Fa%3E%09Daily%0Af_weather_date_weather_umap_20_90e5e123%090.0047%09100.0%095.0267,%205.011,%204.3878%09Upgini%09Weather%20%26%20climate%20normals%20data%09Daily%0Af_autofe_div_e70e902a%090.0046%09100.0%090.0103,%200.0065,%20-0.0028%09Upgini%09AutoFE%3A%20features%20from%20%3Ca%20href%3D%27https%3A%2F%2Fupgini.com%2F%23data_sources%27%20target%3D%27_blank%27%20rel%3D%27noopener%20noreferrer%27%3ECalendar%20data%3C%2Fa%3E,%3Ca%20href%3D%27https%3A%2F%2Fupgini.com%2F%23data_sources%27%20target%3D%27_blank%27%20rel%3D%27noopener%20noreferrer%27%3EMarkets%20data%3C%2Fa%3E%09Daily%0Af_autofe_mul_627c43d0%090.0044%09100.0%09-3.3845,%2012.3513,%20-18.2771%09Upgini%09AutoFE%3A%20features%20from%20%3Ca%20href%3D%27https%3A%2F%2Fupgini.com%2F%23data_sources%27%20target%3D%27_blank%27%20rel%3D%27noopener%20noreferrer%27%3ECalendar%20data%3C%2Fa%3E,%3Ca%20href%3D%27https%3A%2F%2Fupgini.com%2F%23data_sources%27%20target%3D%27_blank%27%20rel%3D%27noopener%20noreferrer%27%3EMarkets%20data%3C%2Fa%3E%09Daily%0Af_autofe_div_fa0777db%090.0036%09100.0%09-0.0006,%20-0.0026,%200.0026%09Upgini%09AutoFE%3A%20features%20from%20%3Ca%20href%3D%27https%3A%2F%2Fupgini.com%2F%23data_sources%27%20target%3D%27_blank%27%20rel%3D%27noopener%20noreferrer%27%3ECalendar%20data%3C%2Fa%3E,%3Ca%20href%3D%27https%3A%2F%2Fupgini.com%2F%23data_sources%27%20target%3D%27_blank%27%20rel%3D%27noopener%20noreferrer%27%3EMarkets%20data%3C%2Fa%3E%09Daily%0Af_autofe_mul_10b8aa26%090.0034%09100.0%0988.0312,%2080.1317,%2098.7544%09Upgini%09AutoFE%3A%20features%20from%20%3Ca%20href%3D%27https%3A%2F%2Fupgini.com%2F%23data_sources%27%20target%3D%27_blank%27%20rel%3D%27noopener%20noreferrer%27%3EMarkets%20data%3C%2Fa%3E%09Daily%0Af_autofe_div_c217fef5%090.003%0986.12222222222222%09-0.7975,%200.7975,%202.0765%09Upgini%09AutoFE%3A%20features%20from%20%3Ca%20href%3D%27https%3A%2F%2Fupgini.com%2F%23data_sources%27%20target%3D%27_blank%27%20rel%3D%27noopener%20noreferrer%27%3ECalendar%20data%3C%2Fa%3E%09Daily%0Af_weather_date_weather_pca_6_4d3feb7e%090.0028%09100.0%091.9869,%20-0.8675,%20-0.4369%09Upgini%09Weather%20%26%20climate%20normals%20data%09Daily%0Af_autofe_div_1175fcd1%090.0028%09100.0%0981.2521,%2080.5579,%2081.2769%09Upgini%09AutoFE%3A%20features%20from%20%3Ca%20href%3D%27https%3A%2F%2Fupgini.com%2F%23data_sources%27%20target%3D%27_blank%27%20rel%3D%27noopener%20noreferrer%27%3EMarkets%20data%3C%2Fa%3E%09Daily%0Af_autofe_mul_45a3c004%090.0027%09100.0%09-15.3534,%209.4484,%2011.095%09Upgini%09AutoFE%3A%20features%20from%20%3Ca%20href%3D%27https%3A%2F%2Fupgini.com%2F%23data_sources%27%20target%3D%27_blank%27%20rel%3D%27noopener%20noreferrer%27%3ECalendar%20data%3C%2Fa%3E,%3Ca%20href%3D%27https%3A%2F%2Fupgini.com%2F%23data_sources%27%20target%3D%27_blank%27%20rel%3D%27noopener%20noreferrer%27%3EMarkets%20data%3C%2Fa%3E%09Daily%0Af_autofe_mul_9a4ab68c%090.0025%09100.0%09-19.569,%209.0263,%20-18.6744%09Upgini%09AutoFE%3A%20features%20from%20%3Ca%20href%3D%27https%3A%2F%2Fupgini.com%2F%23data_sources%27%20target%3D%27_blank%27%20rel%3D%27noopener%20noreferrer%27%3ECalendar%20data%3C%2Fa%3E,%3Ca%20href%3D%27https%3A%2F%2Fupgini.com%2F%23data_sources%27%20target%3D%27_blank%27%20rel%3D%27noopener%20noreferrer%27%3EMarkets%20data%3C%2Fa%3E%09Daily%0Af_autofe_mul_0cc09d2d%090.0024%09100.0%09-42.2382,%20-38.8932,%20-58.9787%09Upgini%09AutoFE%3A%20features%20from%20%3Ca%20href%3D%27https%3A%2F%2Fupgini.com%2F%23data_sources%27%20target%3D%27_blank%27%20rel%3D%27noopener%20noreferrer%27%3ECalendar%20data%3C%2Fa%3E,%3Ca%20href%3D%27https%3A%2F%2Fupgini.com%2F%23data_sources%27%20target%3D%27_blank%27%20rel%3D%27noopener%20noreferrer%27%3EMarkets%20data%3C%2Fa%3E%09Daily%0Af_autofe_div_760369e5%090.0023%09100.0%090.9865,%201.0045,%201.0001%09Upgini%09AutoFE%3A%20features%20from%20%3Ca%20href%3D%27https%3A%2F%2Fupgini.com%2F%23data_sources%27%20target%3D%27_blank%27%20rel%3D%27noopener%20noreferrer%27%3EMarkets%20data%3C%2Fa%3E%09Daily%0Af_autofe_mul_2ba62bb3%090.0017%09100.0%0969.2614,%20112.3426,%2087.3877%09Upgini%09AutoFE%3A%20features%20from%20%3Ca%20href%3D%27https%3A%2F%2Fupgini.com%2F%23data_sources%27%20target%3D%27_blank%27%20rel%3D%27noopener%20noreferrer%27%3EMarkets%20data%3C%2Fa%3E%09Daily%0Af_autofe_div_f779e2a9%090.0016%09100.0%091.1292,%200.8487,%200.8548%09Upgini%09AutoFE%3A%20features%20from%20%3Ca%20href%3D%27https%3A%2F%2Fupgini.com%2F%23data_sources%27%20target%3D%27_blank%27%20rel%3D%27noopener%20noreferrer%27%3EMarkets%20data%3C%2Fa%3E%09Daily%0Af_autofe_mul_cb3a4017%090.0016%09100.0%09-0.0024,%20-0.0005,%20-0.0013%09Upgini%09AutoFE%3A%20features%20from%20%3Ca%20href%3D%27https%3A%2F%2Fupgini.com%2F%23data_sources%27%20target%3D%27_blank%27%20rel%3D%27noopener%20noreferrer%27%3ECalendar%20data%3C%2Fa%3E,%3Ca%20href%3D%27https%3A%2F%2Fupgini.com%2F%23data_sources%27%20target%3D%27_blank%27%20rel%3D%27noopener%20noreferrer%27%3EMarkets%20data%3C%2Fa%3E%09Daily%0Af_weather_date_weather_pca_31_9ed7f34d%090.0015%09100.0%090.1319,%200.1879,%20-0.0237%09Upgini%09Weather%20%26%20climate%20normals%20data%09Daily%0Af_autofe_mul_4b12defb%090.0015%09100.0%09-0.4582,%200.4058,%20-0.3773%09Upgini%09AutoFE%3A%20features%20from%20%3Ca%20href%3D%27https%3A%2F%2Fupgini.com%2F%23data_sources%27%20target%3D%27_blank%27%20rel%3D%27noopener%20noreferrer%27%3ECalendar%20data%3C%2Fa%3E%09Daily%0Af_weather_date_weather_umap_46_59f24264%090.0014%09100.0%095.1229,%205.2205,%205.2583%09Upgini%09Weather%20%26%20climate%20normals%20data%09Daily%0Af_weather_date_weather_umap_25_ed89a1ce%090.0014%09100.0%094.8836,%204.9685,%205.1209%09Upgini%09Weather%20%26%20climate%20normals%20data%09Daily%0Af_weather_date_weather_umap_31_fa6d9a99%090.0001%09100.0%094.7987,%204.9284,%204.7343%09Upgini%09Weather%20%26%20climate%20normals%20data%09Daily%0Af_events_date_week_cos1_f6a8c1fc%090.0001%09100.0%090.6235,%20-0.901,%20-0.901%09Upgini%09Calendar%20data%09Daily%0Af_events_date_week_cos3_7525fe31%090.0001%09100.0%09-0.901,%200.6235,%20-0.2225%09Upgini%09Calendar%20data%09Daily%0Af_events_date_week_sin1_847b5db1%090.0001%09100.0%09-0.9749,%200.7818,%200.4339%09Upgini%09Calendar%20data%09Daily%0Af_events_date_week_sin2_e28440a5%090.0001%09100.0%09-0.9749,%200.9749,%20-0.7818%09Upgini%09Calendar%20data%09Daily%0Af_financial_date_crude_oil_1f195998%090.0001%09100.0%09103.74,%20104.37,%20104.3%09Upgini%09Markets%20data%09Daily%0Af_financial_date_gold_7d_to_1y_ae310379%090.0001%09100.0%090.9595,%200.998,%201.0952%09Upgini%09Markets%20data%09Daily%0Af_financial_date_natural_gas_92dac942%090.0001%09100.0%093.793,%203.233,%202.759%09Upgini%09Markets%20data%09Daily%0Af_financial_date_silver_7d_to_1y_0ccfe462%090.0001%09100.0%090.8921,%200.9194,%200.9847%09Upgini%09Markets%20data%09Daily%0Af_financial_date_silver_e4e33014%090.0001%09100.0%0914.055,%2021.903,%2019.465%09Upgini%09Markets%20data%09Daily%0Af_financial_date_snp500_7d_to_1y_378b9f99%090.0001%09100.0%091.0648,%201.0806,%200.992%09Upgini%09Markets%20data%09Daily%0Af_financial_date_stoxx_043cbcd4%090.0001%09100.0%09395.81,%20332.24,%20337.84%09Upgini%09Markets%20data%09Daily%0Af_weather_date_weather_umap_14_63480984%090.0001%09100.0%095.3039,%205.0374,%204.9939%09Upgini%09Weather%20%26%20climate%20normals%20data%09Daily%0Af_weather_date_weather_umap_2_d529f1bb%090.0001%09100.0%092.6016,%208.4794,%207.9667%09Upgini%09Weather%20%26%20climate%20normals%20data%09Daily%0Af_weather_date_weather_umap_34_c3ef5b4f%090.0001%09100.0%095.6632,%205.6843,%204.6925%09Upgini%09Weather%20%26%20climate%20normals%20data%09Daily%0Af_weather_date_weather_umap_6_8de4f955%090.0001%09100.0%098.1581,%206.7296,%205.133%09Upgini%09Weather%20%26%20climate%20normals%20data%09Daily%0A'>\n",
              "                    <button>📨 Share</button>\n",
              "                </a>\n",
              "            </div>\n",
              "            <table class='upgini-df'><thead><th>Feature name</th><th>SHAP value</th><th>Coverage %</th><th>Value preview</th><th>Provider</th><th>Source</th><th>Updates</th></thead><tbody><tr><td class='upgini-text'><a href='https://docs.upgini.com/public/weather/weather_umap#f_weather_date_weather_umap_33_89bb7578' target='_blank' rel='noopener noreferrer'>f_weather_date_weather_umap_33_89bb7578</a></td><td class='upgini-number'>0.2237</td><td class='upgini-number'>100.0000</td><td class='upgini-text'>5.1871, 4.954, 5.6175</td><td class='upgini-text'><a href='https://upgini.com' target='_blank' rel='noopener noreferrer'>Upgini</a></td><td class='upgini-text'><a href='https://upgini.com/#data_sources' target='_blank' rel='noopener noreferrer'>Weather & climate normals data</a></td><td class='upgini-text'>Daily</td></tr><tr><td class='upgini-text'><a href='https://docs.upgini.com/public/weather/weather_umap#f_weather_date_weather_umap_24_2e14c9a6' target='_blank' rel='noopener noreferrer'>f_weather_date_weather_umap_24_2e14c9a6</a></td><td class='upgini-number'>0.0925</td><td class='upgini-number'>100.0000</td><td class='upgini-text'>6.0171, 5.0549, 5.5576</td><td class='upgini-text'><a href='https://upgini.com' target='_blank' rel='noopener noreferrer'>Upgini</a></td><td class='upgini-text'><a href='https://upgini.com/#data_sources' target='_blank' rel='noopener noreferrer'>Weather & climate normals data</a></td><td class='upgini-text'>Daily</td></tr><tr><td class='upgini-text'><a href='https://docs.upgini.com/public/weather/weather_umap#f_weather_date_weather_umap_48_b39cd0c4' target='_blank' rel='noopener noreferrer'>f_weather_date_weather_umap_48_b39cd0c4</a></td><td class='upgini-number'>0.0475</td><td class='upgini-number'>100.0000</td><td class='upgini-text'>5.7719, 4.7146, 4.8823</td><td class='upgini-text'><a href='https://upgini.com' target='_blank' rel='noopener noreferrer'>Upgini</a></td><td class='upgini-text'><a href='https://upgini.com/#data_sources' target='_blank' rel='noopener noreferrer'>Weather & climate normals data</a></td><td class='upgini-text'>Daily</td></tr><tr><td class='upgini-text'>f_autofe_div_ba625fe9</td><td class='upgini-number'>0.0375</td><td class='upgini-number'>100.0000</td><td class='upgini-text'>1.0702, 2.4718, 1.331</td><td class='upgini-text'><a href='https://upgini.com' target='_blank' rel='noopener noreferrer'>Upgini</a></td><td class='upgini-text'>AutoFE: features from <a href='https://upgini.com/#data_sources' target='_blank' rel='noopener noreferrer'>Calendar data</a></td><td class='upgini-text'>Daily</td></tr><tr><td class='upgini-text'>f_autofe_mul_c256dd85</td><td class='upgini-number'>0.0264</td><td class='upgini-number'>100.0000</td><td class='upgini-text'>-0.5083, -0.6945, -0.4571</td><td class='upgini-text'><a href='https://upgini.com' target='_blank' rel='noopener noreferrer'>Upgini</a></td><td class='upgini-text'>AutoFE: features from <a href='https://upgini.com/#data_sources' target='_blank' rel='noopener noreferrer'>Calendar data</a>,<a href='https://upgini.com/#data_sources' target='_blank' rel='noopener noreferrer'>Markets data</a></td><td class='upgini-text'>Daily</td></tr><tr><td class='upgini-text'>f_autofe_div_91ddec39</td><td class='upgini-number'>0.0161</td><td class='upgini-number'>100.0000</td><td class='upgini-text'>0.0009, -0.0007, -0.0007</td><td class='upgini-text'><a href='https://upgini.com' target='_blank' rel='noopener noreferrer'>Upgini</a></td><td class='upgini-text'>AutoFE: features from <a href='https://upgini.com/#data_sources' target='_blank' rel='noopener noreferrer'>Calendar data</a>,<a href='https://upgini.com/#data_sources' target='_blank' rel='noopener noreferrer'>Markets data</a></td><td class='upgini-text'>Daily</td></tr><tr><td class='upgini-text'>f_autofe_div_cf5dd7be</td><td class='upgini-number'>0.0156</td><td class='upgini-number'>100.0000</td><td class='upgini-text'>1.3958, 0.5104, 0.8932</td><td class='upgini-text'><a href='https://upgini.com' target='_blank' rel='noopener noreferrer'>Upgini</a></td><td class='upgini-text'>AutoFE: features from <a href='https://upgini.com/#data_sources' target='_blank' rel='noopener noreferrer'>Calendar data</a>,<a href='https://upgini.com/#data_sources' target='_blank' rel='noopener noreferrer'>Markets data</a></td><td class='upgini-text'>Daily</td></tr><tr><td class='upgini-text'>f_autofe_mul_8a925382</td><td class='upgini-number'>0.0146</td><td class='upgini-number'>100.0000</td><td class='upgini-text'>363.1698, 377.276, 365.2331</td><td class='upgini-text'><a href='https://upgini.com' target='_blank' rel='noopener noreferrer'>Upgini</a></td><td class='upgini-text'>AutoFE: features from <a href='https://upgini.com/#data_sources' target='_blank' rel='noopener noreferrer'>Markets data</a></td><td class='upgini-text'>Daily</td></tr><tr><td class='upgini-text'>f_autofe_div_e075fdc5</td><td class='upgini-number'>0.0111</td><td class='upgini-number'>100.0000</td><td class='upgini-text'>0.5809, -1.0706, -1.0706</td><td class='upgini-text'><a href='https://upgini.com' target='_blank' rel='noopener noreferrer'>Upgini</a></td><td class='upgini-text'>AutoFE: features from <a href='https://upgini.com/#data_sources' target='_blank' rel='noopener noreferrer'>Calendar data</a></td><td class='upgini-text'>Daily</td></tr><tr><td class='upgini-text'>f_autofe_div_c2f55b86</td><td class='upgini-number'>0.0106</td><td class='upgini-number'>100.0000</td><td class='upgini-text'>0.0021, -0.0026, 0.0016</td><td class='upgini-text'><a href='https://upgini.com' target='_blank' rel='noopener noreferrer'>Upgini</a></td><td class='upgini-text'>AutoFE: features from <a href='https://upgini.com/#data_sources' target='_blank' rel='noopener noreferrer'>Calendar data</a>,<a href='https://upgini.com/#data_sources' target='_blank' rel='noopener noreferrer'>Markets data</a></td><td class='upgini-text'>Daily</td></tr><tr><td class='upgini-text'>f_autofe_div_e056f974</td><td class='upgini-number'>0.0105</td><td class='upgini-number'>100.0000</td><td class='upgini-text'>4.6779, 3.5402, 5.4773</td><td class='upgini-text'><a href='https://upgini.com' target='_blank' rel='noopener noreferrer'>Upgini</a></td><td class='upgini-text'>AutoFE: features from <a href='https://upgini.com/#data_sources' target='_blank' rel='noopener noreferrer'>Markets data</a></td><td class='upgini-text'>Daily</td></tr><tr><td class='upgini-text'>f_autofe_mul_245e186d</td><td class='upgini-number'>0.0078</td><td class='upgini-number'>100.0000</td><td class='upgini-text'>0.7762, -0.429, -0.15</td><td class='upgini-text'><a href='https://upgini.com' target='_blank' rel='noopener noreferrer'>Upgini</a></td><td class='upgini-text'>AutoFE: features from <a href='https://upgini.com/#data_sources' target='_blank' rel='noopener noreferrer'>Calendar data</a></td><td class='upgini-text'>Daily</td></tr><tr><td class='upgini-text'>f_autofe_mul_8916215e</td><td class='upgini-number'>0.0069</td><td class='upgini-number'>100.0000</td><td class='upgini-text'>274.0786, 360.5168, 339.1516</td><td class='upgini-text'><a href='https://upgini.com' target='_blank' rel='noopener noreferrer'>Upgini</a></td><td class='upgini-text'>AutoFE: features from <a href='https://upgini.com/#data_sources' target='_blank' rel='noopener noreferrer'>Markets data</a></td><td class='upgini-text'>Daily</td></tr><tr><td class='upgini-text'><a href='https://docs.upgini.com/public/calendar/calendar#f_events_date_year_cos1_9014a856' target='_blank' rel='noopener noreferrer'>f_events_date_year_cos1_9014a856</a></td><td class='upgini-number'>0.0069</td><td class='upgini-number'>100.0000</td><td class='upgini-text'>0.815, 0.1454, 0.7936</td><td class='upgini-text'><a href='https://upgini.com' target='_blank' rel='noopener noreferrer'>Upgini</a></td><td class='upgini-text'><a href='https://upgini.com/#data_sources' target='_blank' rel='noopener noreferrer'>Calendar data</a></td><td class='upgini-text'>Daily</td></tr><tr><td class='upgini-text'>f_autofe_mul_f7b12b12</td><td class='upgini-number'>0.0063</td><td class='upgini-number'>100.0000</td><td class='upgini-text'>-0.6283, 0.9306, 0.3885</td><td class='upgini-text'><a href='https://upgini.com' target='_blank' rel='noopener noreferrer'>Upgini</a></td><td class='upgini-text'>AutoFE: features from <a href='https://upgini.com/#data_sources' target='_blank' rel='noopener noreferrer'>Calendar data</a></td><td class='upgini-text'>Daily</td></tr><tr><td class='upgini-text'>f_autofe_mul_347f9d14</td><td class='upgini-number'>0.0060</td><td class='upgini-number'>100.0000</td><td class='upgini-text'>-0.0021, 0.0, 0.0005</td><td class='upgini-text'><a href='https://upgini.com' target='_blank' rel='noopener noreferrer'>Upgini</a></td><td class='upgini-text'>AutoFE: features from <a href='https://upgini.com/#data_sources' target='_blank' rel='noopener noreferrer'>Calendar data</a>,<a href='https://upgini.com/#data_sources' target='_blank' rel='noopener noreferrer'>Markets data</a></td><td class='upgini-text'>Daily</td></tr><tr><td class='upgini-text'>f_autofe_div_ff5a6f27</td><td class='upgini-number'>0.0048</td><td class='upgini-number'>100.0000</td><td class='upgini-text'>0.4391, -1.0849, -1.1554</td><td class='upgini-text'><a href='https://upgini.com' target='_blank' rel='noopener noreferrer'>Upgini</a></td><td class='upgini-text'>AutoFE: features from <a href='https://upgini.com/#data_sources' target='_blank' rel='noopener noreferrer'>Calendar data</a></td><td class='upgini-text'>Daily</td></tr><tr><td class='upgini-text'><a href='https://docs.upgini.com/public/weather/weather_umap#f_weather_date_weather_umap_20_90e5e123' target='_blank' rel='noopener noreferrer'>f_weather_date_weather_umap_20_90e5e123</a></td><td class='upgini-number'>0.0047</td><td class='upgini-number'>100.0000</td><td class='upgini-text'>5.0267, 5.011, 4.3878</td><td class='upgini-text'><a href='https://upgini.com' target='_blank' rel='noopener noreferrer'>Upgini</a></td><td class='upgini-text'><a href='https://upgini.com/#data_sources' target='_blank' rel='noopener noreferrer'>Weather & climate normals data</a></td><td class='upgini-text'>Daily</td></tr><tr><td class='upgini-text'>f_autofe_div_e70e902a</td><td class='upgini-number'>0.0046</td><td class='upgini-number'>100.0000</td><td class='upgini-text'>0.0103, 0.0065, -0.0028</td><td class='upgini-text'><a href='https://upgini.com' target='_blank' rel='noopener noreferrer'>Upgini</a></td><td class='upgini-text'>AutoFE: features from <a href='https://upgini.com/#data_sources' target='_blank' rel='noopener noreferrer'>Calendar data</a>,<a href='https://upgini.com/#data_sources' target='_blank' rel='noopener noreferrer'>Markets data</a></td><td class='upgini-text'>Daily</td></tr><tr><td class='upgini-text'>f_autofe_mul_627c43d0</td><td class='upgini-number'>0.0044</td><td class='upgini-number'>100.0000</td><td class='upgini-text'>-3.3845, 12.3513, -18.2771</td><td class='upgini-text'><a href='https://upgini.com' target='_blank' rel='noopener noreferrer'>Upgini</a></td><td class='upgini-text'>AutoFE: features from <a href='https://upgini.com/#data_sources' target='_blank' rel='noopener noreferrer'>Calendar data</a>,<a href='https://upgini.com/#data_sources' target='_blank' rel='noopener noreferrer'>Markets data</a></td><td class='upgini-text'>Daily</td></tr><tr><td class='upgini-text'>f_autofe_div_fa0777db</td><td class='upgini-number'>0.0036</td><td class='upgini-number'>100.0000</td><td class='upgini-text'>-0.0006, -0.0026, 0.0026</td><td class='upgini-text'><a href='https://upgini.com' target='_blank' rel='noopener noreferrer'>Upgini</a></td><td class='upgini-text'>AutoFE: features from <a href='https://upgini.com/#data_sources' target='_blank' rel='noopener noreferrer'>Calendar data</a>,<a href='https://upgini.com/#data_sources' target='_blank' rel='noopener noreferrer'>Markets data</a></td><td class='upgini-text'>Daily</td></tr><tr><td class='upgini-text'>f_autofe_mul_10b8aa26</td><td class='upgini-number'>0.0034</td><td class='upgini-number'>100.0000</td><td class='upgini-text'>88.0312, 80.1317, 98.7544</td><td class='upgini-text'><a href='https://upgini.com' target='_blank' rel='noopener noreferrer'>Upgini</a></td><td class='upgini-text'>AutoFE: features from <a href='https://upgini.com/#data_sources' target='_blank' rel='noopener noreferrer'>Markets data</a></td><td class='upgini-text'>Daily</td></tr><tr><td class='upgini-text'>f_autofe_div_c217fef5</td><td class='upgini-number'>0.0030</td><td class='upgini-number'>86.1222</td><td class='upgini-text'>-0.7975, 0.7975, 2.0765</td><td class='upgini-text'><a href='https://upgini.com' target='_blank' rel='noopener noreferrer'>Upgini</a></td><td class='upgini-text'>AutoFE: features from <a href='https://upgini.com/#data_sources' target='_blank' rel='noopener noreferrer'>Calendar data</a></td><td class='upgini-text'>Daily</td></tr><tr><td class='upgini-text'><a href='https://docs.upgini.com/public/weather/weather_pca#f_weather_date_weather_pca_6_4d3feb7e' target='_blank' rel='noopener noreferrer'>f_weather_date_weather_pca_6_4d3feb7e</a></td><td class='upgini-number'>0.0028</td><td class='upgini-number'>100.0000</td><td class='upgini-text'>1.9869, -0.8675, -0.4369</td><td class='upgini-text'><a href='https://upgini.com' target='_blank' rel='noopener noreferrer'>Upgini</a></td><td class='upgini-text'><a href='https://upgini.com/#data_sources' target='_blank' rel='noopener noreferrer'>Weather & climate normals data</a></td><td class='upgini-text'>Daily</td></tr><tr><td class='upgini-text'>f_autofe_div_1175fcd1</td><td class='upgini-number'>0.0028</td><td class='upgini-number'>100.0000</td><td class='upgini-text'>81.2521, 80.5579, 81.2769</td><td class='upgini-text'><a href='https://upgini.com' target='_blank' rel='noopener noreferrer'>Upgini</a></td><td class='upgini-text'>AutoFE: features from <a href='https://upgini.com/#data_sources' target='_blank' rel='noopener noreferrer'>Markets data</a></td><td class='upgini-text'>Daily</td></tr><tr><td class='upgini-text'>f_autofe_mul_45a3c004</td><td class='upgini-number'>0.0027</td><td class='upgini-number'>100.0000</td><td class='upgini-text'>-15.3534, 9.4484, 11.095</td><td class='upgini-text'><a href='https://upgini.com' target='_blank' rel='noopener noreferrer'>Upgini</a></td><td class='upgini-text'>AutoFE: features from <a href='https://upgini.com/#data_sources' target='_blank' rel='noopener noreferrer'>Calendar data</a>,<a href='https://upgini.com/#data_sources' target='_blank' rel='noopener noreferrer'>Markets data</a></td><td class='upgini-text'>Daily</td></tr><tr><td class='upgini-text'>f_autofe_mul_9a4ab68c</td><td class='upgini-number'>0.0025</td><td class='upgini-number'>100.0000</td><td class='upgini-text'>-19.569, 9.0263, -18.6744</td><td class='upgini-text'><a href='https://upgini.com' target='_blank' rel='noopener noreferrer'>Upgini</a></td><td class='upgini-text'>AutoFE: features from <a href='https://upgini.com/#data_sources' target='_blank' rel='noopener noreferrer'>Calendar data</a>,<a href='https://upgini.com/#data_sources' target='_blank' rel='noopener noreferrer'>Markets data</a></td><td class='upgini-text'>Daily</td></tr><tr><td class='upgini-text'>f_autofe_mul_0cc09d2d</td><td class='upgini-number'>0.0024</td><td class='upgini-number'>100.0000</td><td class='upgini-text'>-42.2382, -38.8932, -58.9787</td><td class='upgini-text'><a href='https://upgini.com' target='_blank' rel='noopener noreferrer'>Upgini</a></td><td class='upgini-text'>AutoFE: features from <a href='https://upgini.com/#data_sources' target='_blank' rel='noopener noreferrer'>Calendar data</a>,<a href='https://upgini.com/#data_sources' target='_blank' rel='noopener noreferrer'>Markets data</a></td><td class='upgini-text'>Daily</td></tr><tr><td class='upgini-text'>f_autofe_div_760369e5</td><td class='upgini-number'>0.0023</td><td class='upgini-number'>100.0000</td><td class='upgini-text'>0.9865, 1.0045, 1.0001</td><td class='upgini-text'><a href='https://upgini.com' target='_blank' rel='noopener noreferrer'>Upgini</a></td><td class='upgini-text'>AutoFE: features from <a href='https://upgini.com/#data_sources' target='_blank' rel='noopener noreferrer'>Markets data</a></td><td class='upgini-text'>Daily</td></tr><tr><td class='upgini-text'>f_autofe_mul_2ba62bb3</td><td class='upgini-number'>0.0017</td><td class='upgini-number'>100.0000</td><td class='upgini-text'>69.2614, 112.3426, 87.3877</td><td class='upgini-text'><a href='https://upgini.com' target='_blank' rel='noopener noreferrer'>Upgini</a></td><td class='upgini-text'>AutoFE: features from <a href='https://upgini.com/#data_sources' target='_blank' rel='noopener noreferrer'>Markets data</a></td><td class='upgini-text'>Daily</td></tr><tr><td class='upgini-text'>f_autofe_div_f779e2a9</td><td class='upgini-number'>0.0016</td><td class='upgini-number'>100.0000</td><td class='upgini-text'>1.1292, 0.8487, 0.8548</td><td class='upgini-text'><a href='https://upgini.com' target='_blank' rel='noopener noreferrer'>Upgini</a></td><td class='upgini-text'>AutoFE: features from <a href='https://upgini.com/#data_sources' target='_blank' rel='noopener noreferrer'>Markets data</a></td><td class='upgini-text'>Daily</td></tr><tr><td class='upgini-text'>f_autofe_mul_cb3a4017</td><td class='upgini-number'>0.0016</td><td class='upgini-number'>100.0000</td><td class='upgini-text'>-0.0024, -0.0005, -0.0013</td><td class='upgini-text'><a href='https://upgini.com' target='_blank' rel='noopener noreferrer'>Upgini</a></td><td class='upgini-text'>AutoFE: features from <a href='https://upgini.com/#data_sources' target='_blank' rel='noopener noreferrer'>Calendar data</a>,<a href='https://upgini.com/#data_sources' target='_blank' rel='noopener noreferrer'>Markets data</a></td><td class='upgini-text'>Daily</td></tr><tr><td class='upgini-text'><a href='https://docs.upgini.com/public/weather/weather_pca#f_weather_date_weather_pca_31_9ed7f34d' target='_blank' rel='noopener noreferrer'>f_weather_date_weather_pca_31_9ed7f34d</a></td><td class='upgini-number'>0.0015</td><td class='upgini-number'>100.0000</td><td class='upgini-text'>0.1319, 0.1879, -0.0237</td><td class='upgini-text'><a href='https://upgini.com' target='_blank' rel='noopener noreferrer'>Upgini</a></td><td class='upgini-text'><a href='https://upgini.com/#data_sources' target='_blank' rel='noopener noreferrer'>Weather & climate normals data</a></td><td class='upgini-text'>Daily</td></tr><tr><td class='upgini-text'>f_autofe_mul_4b12defb</td><td class='upgini-number'>0.0015</td><td class='upgini-number'>100.0000</td><td class='upgini-text'>-0.4582, 0.4058, -0.3773</td><td class='upgini-text'><a href='https://upgini.com' target='_blank' rel='noopener noreferrer'>Upgini</a></td><td class='upgini-text'>AutoFE: features from <a href='https://upgini.com/#data_sources' target='_blank' rel='noopener noreferrer'>Calendar data</a></td><td class='upgini-text'>Daily</td></tr><tr><td class='upgini-text'><a href='https://docs.upgini.com/public/weather/weather_umap#f_weather_date_weather_umap_46_59f24264' target='_blank' rel='noopener noreferrer'>f_weather_date_weather_umap_46_59f24264</a></td><td class='upgini-number'>0.0014</td><td class='upgini-number'>100.0000</td><td class='upgini-text'>5.1229, 5.2205, 5.2583</td><td class='upgini-text'><a href='https://upgini.com' target='_blank' rel='noopener noreferrer'>Upgini</a></td><td class='upgini-text'><a href='https://upgini.com/#data_sources' target='_blank' rel='noopener noreferrer'>Weather & climate normals data</a></td><td class='upgini-text'>Daily</td></tr><tr><td class='upgini-text'><a href='https://docs.upgini.com/public/weather/weather_umap#f_weather_date_weather_umap_25_ed89a1ce' target='_blank' rel='noopener noreferrer'>f_weather_date_weather_umap_25_ed89a1ce</a></td><td class='upgini-number'>0.0014</td><td class='upgini-number'>100.0000</td><td class='upgini-text'>4.8836, 4.9685, 5.1209</td><td class='upgini-text'><a href='https://upgini.com' target='_blank' rel='noopener noreferrer'>Upgini</a></td><td class='upgini-text'><a href='https://upgini.com/#data_sources' target='_blank' rel='noopener noreferrer'>Weather & climate normals data</a></td><td class='upgini-text'>Daily</td></tr><tr><td class='upgini-text'><a href='https://docs.upgini.com/public/weather/weather_umap#f_weather_date_weather_umap_31_fa6d9a99' target='_blank' rel='noopener noreferrer'>f_weather_date_weather_umap_31_fa6d9a99</a></td><td class='upgini-number'>0.0001</td><td class='upgini-number'>100.0000</td><td class='upgini-text'>4.7987, 4.9284, 4.7343</td><td class='upgini-text'><a href='https://upgini.com' target='_blank' rel='noopener noreferrer'>Upgini</a></td><td class='upgini-text'><a href='https://upgini.com/#data_sources' target='_blank' rel='noopener noreferrer'>Weather & climate normals data</a></td><td class='upgini-text'>Daily</td></tr><tr><td class='upgini-text'><a href='https://docs.upgini.com/public/calendar/calendar#f_events_date_week_cos1_f6a8c1fc' target='_blank' rel='noopener noreferrer'>f_events_date_week_cos1_f6a8c1fc</a></td><td class='upgini-number'>0.0001</td><td class='upgini-number'>100.0000</td><td class='upgini-text'>0.6235, -0.901, -0.901</td><td class='upgini-text'><a href='https://upgini.com' target='_blank' rel='noopener noreferrer'>Upgini</a></td><td class='upgini-text'><a href='https://upgini.com/#data_sources' target='_blank' rel='noopener noreferrer'>Calendar data</a></td><td class='upgini-text'>Daily</td></tr><tr><td class='upgini-text'><a href='https://docs.upgini.com/public/calendar/calendar#f_events_date_week_cos3_7525fe31' target='_blank' rel='noopener noreferrer'>f_events_date_week_cos3_7525fe31</a></td><td class='upgini-number'>0.0001</td><td class='upgini-number'>100.0000</td><td class='upgini-text'>-0.901, 0.6235, -0.2225</td><td class='upgini-text'><a href='https://upgini.com' target='_blank' rel='noopener noreferrer'>Upgini</a></td><td class='upgini-text'><a href='https://upgini.com/#data_sources' target='_blank' rel='noopener noreferrer'>Calendar data</a></td><td class='upgini-text'>Daily</td></tr><tr><td class='upgini-text'><a href='https://docs.upgini.com/public/calendar/calendar#f_events_date_week_sin1_847b5db1' target='_blank' rel='noopener noreferrer'>f_events_date_week_sin1_847b5db1</a></td><td class='upgini-number'>0.0001</td><td class='upgini-number'>100.0000</td><td class='upgini-text'>-0.9749, 0.7818, 0.4339</td><td class='upgini-text'><a href='https://upgini.com' target='_blank' rel='noopener noreferrer'>Upgini</a></td><td class='upgini-text'><a href='https://upgini.com/#data_sources' target='_blank' rel='noopener noreferrer'>Calendar data</a></td><td class='upgini-text'>Daily</td></tr><tr><td class='upgini-text'><a href='https://docs.upgini.com/public/calendar/calendar#f_events_date_week_sin2_e28440a5' target='_blank' rel='noopener noreferrer'>f_events_date_week_sin2_e28440a5</a></td><td class='upgini-number'>0.0001</td><td class='upgini-number'>100.0000</td><td class='upgini-text'>-0.9749, 0.9749, -0.7818</td><td class='upgini-text'><a href='https://upgini.com' target='_blank' rel='noopener noreferrer'>Upgini</a></td><td class='upgini-text'><a href='https://upgini.com/#data_sources' target='_blank' rel='noopener noreferrer'>Calendar data</a></td><td class='upgini-text'>Daily</td></tr><tr><td class='upgini-text'><a href='https://docs.upgini.com/public/markets/finance#f_financial_date_crude_oil_1f195998' target='_blank' rel='noopener noreferrer'>f_financial_date_crude_oil_1f195998</a></td><td class='upgini-number'>0.0001</td><td class='upgini-number'>100.0000</td><td class='upgini-text'>103.74, 104.37, 104.3</td><td class='upgini-text'><a href='https://upgini.com' target='_blank' rel='noopener noreferrer'>Upgini</a></td><td class='upgini-text'><a href='https://upgini.com/#data_sources' target='_blank' rel='noopener noreferrer'>Markets data</a></td><td class='upgini-text'>Daily</td></tr><tr><td class='upgini-text'><a href='https://docs.upgini.com/public/markets/finance#f_financial_date_gold_7d_to_1y_ae310379' target='_blank' rel='noopener noreferrer'>f_financial_date_gold_7d_to_1y_ae310379</a></td><td class='upgini-number'>0.0001</td><td class='upgini-number'>100.0000</td><td class='upgini-text'>0.9595, 0.998, 1.0952</td><td class='upgini-text'><a href='https://upgini.com' target='_blank' rel='noopener noreferrer'>Upgini</a></td><td class='upgini-text'><a href='https://upgini.com/#data_sources' target='_blank' rel='noopener noreferrer'>Markets data</a></td><td class='upgini-text'>Daily</td></tr><tr><td class='upgini-text'><a href='https://docs.upgini.com/public/markets/finance#f_financial_date_natural_gas_92dac942' target='_blank' rel='noopener noreferrer'>f_financial_date_natural_gas_92dac942</a></td><td class='upgini-number'>0.0001</td><td class='upgini-number'>100.0000</td><td class='upgini-text'>3.793, 3.233, 2.759</td><td class='upgini-text'><a href='https://upgini.com' target='_blank' rel='noopener noreferrer'>Upgini</a></td><td class='upgini-text'><a href='https://upgini.com/#data_sources' target='_blank' rel='noopener noreferrer'>Markets data</a></td><td class='upgini-text'>Daily</td></tr><tr><td class='upgini-text'><a href='https://docs.upgini.com/public/markets/finance#f_financial_date_silver_7d_to_1y_0ccfe462' target='_blank' rel='noopener noreferrer'>f_financial_date_silver_7d_to_1y_0ccfe462</a></td><td class='upgini-number'>0.0001</td><td class='upgini-number'>100.0000</td><td class='upgini-text'>0.8921, 0.9194, 0.9847</td><td class='upgini-text'><a href='https://upgini.com' target='_blank' rel='noopener noreferrer'>Upgini</a></td><td class='upgini-text'><a href='https://upgini.com/#data_sources' target='_blank' rel='noopener noreferrer'>Markets data</a></td><td class='upgini-text'>Daily</td></tr><tr><td class='upgini-text'><a href='https://docs.upgini.com/public/markets/finance#f_financial_date_silver_e4e33014' target='_blank' rel='noopener noreferrer'>f_financial_date_silver_e4e33014</a></td><td class='upgini-number'>0.0001</td><td class='upgini-number'>100.0000</td><td class='upgini-text'>14.055, 21.903, 19.465</td><td class='upgini-text'><a href='https://upgini.com' target='_blank' rel='noopener noreferrer'>Upgini</a></td><td class='upgini-text'><a href='https://upgini.com/#data_sources' target='_blank' rel='noopener noreferrer'>Markets data</a></td><td class='upgini-text'>Daily</td></tr><tr><td class='upgini-text'><a href='https://docs.upgini.com/public/markets/finance#f_financial_date_snp500_7d_to_1y_378b9f99' target='_blank' rel='noopener noreferrer'>f_financial_date_snp500_7d_to_1y_378b9f99</a></td><td class='upgini-number'>0.0001</td><td class='upgini-number'>100.0000</td><td class='upgini-text'>1.0648, 1.0806, 0.992</td><td class='upgini-text'><a href='https://upgini.com' target='_blank' rel='noopener noreferrer'>Upgini</a></td><td class='upgini-text'><a href='https://upgini.com/#data_sources' target='_blank' rel='noopener noreferrer'>Markets data</a></td><td class='upgini-text'>Daily</td></tr><tr><td class='upgini-text'><a href='https://docs.upgini.com/public/markets/finance#f_financial_date_stoxx_043cbcd4' target='_blank' rel='noopener noreferrer'>f_financial_date_stoxx_043cbcd4</a></td><td class='upgini-number'>0.0001</td><td class='upgini-number'>100.0000</td><td class='upgini-text'>395.81, 332.24, 337.84</td><td class='upgini-text'><a href='https://upgini.com' target='_blank' rel='noopener noreferrer'>Upgini</a></td><td class='upgini-text'><a href='https://upgini.com/#data_sources' target='_blank' rel='noopener noreferrer'>Markets data</a></td><td class='upgini-text'>Daily</td></tr><tr><td class='upgini-text'><a href='https://docs.upgini.com/public/weather/weather_umap#f_weather_date_weather_umap_14_63480984' target='_blank' rel='noopener noreferrer'>f_weather_date_weather_umap_14_63480984</a></td><td class='upgini-number'>0.0001</td><td class='upgini-number'>100.0000</td><td class='upgini-text'>5.3039, 5.0374, 4.9939</td><td class='upgini-text'><a href='https://upgini.com' target='_blank' rel='noopener noreferrer'>Upgini</a></td><td class='upgini-text'><a href='https://upgini.com/#data_sources' target='_blank' rel='noopener noreferrer'>Weather & climate normals data</a></td><td class='upgini-text'>Daily</td></tr><tr><td class='upgini-text'><a href='https://docs.upgini.com/public/weather/weather_umap#f_weather_date_weather_umap_2_d529f1bb' target='_blank' rel='noopener noreferrer'>f_weather_date_weather_umap_2_d529f1bb</a></td><td class='upgini-number'>0.0001</td><td class='upgini-number'>100.0000</td><td class='upgini-text'>2.6016, 8.4794, 7.9667</td><td class='upgini-text'><a href='https://upgini.com' target='_blank' rel='noopener noreferrer'>Upgini</a></td><td class='upgini-text'><a href='https://upgini.com/#data_sources' target='_blank' rel='noopener noreferrer'>Weather & climate normals data</a></td><td class='upgini-text'>Daily</td></tr><tr><td class='upgini-text'><a href='https://docs.upgini.com/public/weather/weather_umap#f_weather_date_weather_umap_34_c3ef5b4f' target='_blank' rel='noopener noreferrer'>f_weather_date_weather_umap_34_c3ef5b4f</a></td><td class='upgini-number'>0.0001</td><td class='upgini-number'>100.0000</td><td class='upgini-text'>5.6632, 5.6843, 4.6925</td><td class='upgini-text'><a href='https://upgini.com' target='_blank' rel='noopener noreferrer'>Upgini</a></td><td class='upgini-text'><a href='https://upgini.com/#data_sources' target='_blank' rel='noopener noreferrer'>Weather & climate normals data</a></td><td class='upgini-text'>Daily</td></tr><tr><td class='upgini-text'><a href='https://docs.upgini.com/public/weather/weather_umap#f_weather_date_weather_umap_6_8de4f955' target='_blank' rel='noopener noreferrer'>f_weather_date_weather_umap_6_8de4f955</a></td><td class='upgini-number'>0.0001</td><td class='upgini-number'>100.0000</td><td class='upgini-text'>8.1581, 6.7296, 5.133</td><td class='upgini-text'><a href='https://upgini.com' target='_blank' rel='noopener noreferrer'>Upgini</a></td><td class='upgini-text'><a href='https://upgini.com/#data_sources' target='_blank' rel='noopener noreferrer'>Weather & climate normals data</a></td><td class='upgini-text'>Daily</td></tr></tbody></table>\n",
              "        </div>\n",
              "        "
            ]
          },
          "metadata": {}
        },
        {
          "output_type": "display_data",
          "data": {
            "text/plain": [
              "<IPython.core.display.HTML object>"
            ],
            "text/html": [
              "<style>\n",
              "            .upgini-df thead th {\n",
              "                font-weight:bold;\n",
              "                text-align: center;\n",
              "                padding: 0.5em;\n",
              "                border-bottom: 2px solid black;\n",
              "            }\n",
              "\n",
              "            .upgini-df tbody td {\n",
              "                padding: 0.5em;\n",
              "            }\n",
              "\n",
              "            .upgini-df tbody tr:nth-child(odd) {\n",
              "                background-color: #ffffff;\n",
              "            }\n",
              "\n",
              "            .upgini-df tbody tr:nth-child(even) {\n",
              "                background-color: #f2f2f2;\n",
              "            }\n",
              "\n",
              "            .upgini-text {\n",
              "                text-align: left;\n",
              "            }\n",
              "\n",
              "            .upgini-number {\n",
              "                text-align: center;\n",
              "            }\n",
              "        </style>\n",
              "        <h2>Relevant data sources</h2>\n",
              "        <div style=\"display:flex; flex-direction:column; align-items:flex-end; width: fit-content;\">\n",
              "            \n",
              "            <div style=\"text-align: right\">\n",
              "                <button onclick=navigator.clipboard.writeText(decodeURI('Provider%09Source%09All%20features%20SHAP%09Number%20of%20relevant%20features%0AUpgini%09Weather%20%26%20climate%20normals%20data%090.376%0913%0AUpgini%09AutoFE%3A%20features%20from%20%3Ca%20href%3D%27https%3A%2F%2Fupgini.com%2F%23data_sources%27%20target%3D%27_blank%27%20rel%3D%27noopener%20noreferrer%27%3ECalendar%20data%3C%2Fa%3E,%3Ca%20href%3D%27https%3A%2F%2Fupgini.com%2F%23data_sources%27%20target%3D%27_blank%27%20rel%3D%27noopener%20noreferrer%27%3EMarkets%20data%3C%2Fa%3E%090.0965%0912%0AUpgini%09AutoFE%3A%20features%20from%20%3Ca%20href%3D%27https%3A%2F%2Fupgini.com%2F%23data_sources%27%20target%3D%27_blank%27%20rel%3D%27noopener%20noreferrer%27%3ECalendar%20data%3C%2Fa%3E%090.072%097%0AUpgini%09AutoFE%3A%20features%20from%20%3Ca%20href%3D%27https%3A%2F%2Fupgini.com%2F%23data_sources%27%20target%3D%27_blank%27%20rel%3D%27noopener%20noreferrer%27%3EMarkets%20data%3C%2Fa%3E%090.0438%098%0AUpgini%09Calendar%20data%090.0073%095%0AUpgini%09Markets%20data%090.0007%097%0A'))>📂 Copy</button>\n",
              "                <a href='mailto:<Share with...>?subject=Relevant external data sources from Upgini.com&body=Provider%09Source%09All%20features%20SHAP%09Number%20of%20relevant%20features%0AUpgini%09Weather%20%26%20climate%20normals%20data%090.376%0913%0AUpgini%09AutoFE%3A%20features%20from%20%3Ca%20href%3D%27https%3A%2F%2Fupgini.com%2F%23data_sources%27%20target%3D%27_blank%27%20rel%3D%27noopener%20noreferrer%27%3ECalendar%20data%3C%2Fa%3E,%3Ca%20href%3D%27https%3A%2F%2Fupgini.com%2F%23data_sources%27%20target%3D%27_blank%27%20rel%3D%27noopener%20noreferrer%27%3EMarkets%20data%3C%2Fa%3E%090.0965%0912%0AUpgini%09AutoFE%3A%20features%20from%20%3Ca%20href%3D%27https%3A%2F%2Fupgini.com%2F%23data_sources%27%20target%3D%27_blank%27%20rel%3D%27noopener%20noreferrer%27%3ECalendar%20data%3C%2Fa%3E%090.072%097%0AUpgini%09AutoFE%3A%20features%20from%20%3Ca%20href%3D%27https%3A%2F%2Fupgini.com%2F%23data_sources%27%20target%3D%27_blank%27%20rel%3D%27noopener%20noreferrer%27%3EMarkets%20data%3C%2Fa%3E%090.0438%098%0AUpgini%09Calendar%20data%090.0073%095%0AUpgini%09Markets%20data%090.0007%097%0A'>\n",
              "                    <button>📨 Share</button>\n",
              "                </a>\n",
              "            </div>\n",
              "            <table class='upgini-df'><thead><th>Provider</th><th>Source</th><th>All features SHAP</th><th>Number of relevant features</th></thead><tbody><tr><td class='upgini-text'><a href='https://upgini.com' target='_blank' rel='noopener noreferrer'>Upgini</a></td><td class='upgini-text'><a href='https://upgini.com/#data_sources' target='_blank' rel='noopener noreferrer'>Weather & climate normals data</a></td><td class='upgini-number'>0.3760</td><td class='upgini-number'>13</td></tr><tr><td class='upgini-text'><a href='https://upgini.com' target='_blank' rel='noopener noreferrer'>Upgini</a></td><td class='upgini-text'>AutoFE: features from <a href='https://upgini.com/#data_sources' target='_blank' rel='noopener noreferrer'>Calendar data</a>,<a href='https://upgini.com/#data_sources' target='_blank' rel='noopener noreferrer'>Markets data</a></td><td class='upgini-number'>0.0965</td><td class='upgini-number'>12</td></tr><tr><td class='upgini-text'><a href='https://upgini.com' target='_blank' rel='noopener noreferrer'>Upgini</a></td><td class='upgini-text'>AutoFE: features from <a href='https://upgini.com/#data_sources' target='_blank' rel='noopener noreferrer'>Calendar data</a></td><td class='upgini-number'>0.0720</td><td class='upgini-number'>7</td></tr><tr><td class='upgini-text'><a href='https://upgini.com' target='_blank' rel='noopener noreferrer'>Upgini</a></td><td class='upgini-text'>AutoFE: features from <a href='https://upgini.com/#data_sources' target='_blank' rel='noopener noreferrer'>Markets data</a></td><td class='upgini-number'>0.0438</td><td class='upgini-number'>8</td></tr><tr><td class='upgini-text'><a href='https://upgini.com' target='_blank' rel='noopener noreferrer'>Upgini</a></td><td class='upgini-text'><a href='https://upgini.com/#data_sources' target='_blank' rel='noopener noreferrer'>Calendar data</a></td><td class='upgini-number'>0.0073</td><td class='upgini-number'>5</td></tr><tr><td class='upgini-text'><a href='https://upgini.com' target='_blank' rel='noopener noreferrer'>Upgini</a></td><td class='upgini-text'><a href='https://upgini.com/#data_sources' target='_blank' rel='noopener noreferrer'>Markets data</a></td><td class='upgini-number'>0.0007</td><td class='upgini-number'>7</td></tr></tbody></table>\n",
              "        </div>\n",
              "        "
            ]
          },
          "metadata": {}
        },
        {
          "output_type": "display_data",
          "data": {
            "text/plain": [
              "<IPython.core.display.HTML object>"
            ],
            "text/html": [
              "<style>\n",
              "            .upgini-df thead th {\n",
              "                font-weight:bold;\n",
              "                text-align: center;\n",
              "                padding: 0.5em;\n",
              "                border-bottom: 2px solid black;\n",
              "            }\n",
              "\n",
              "            .upgini-df tbody td {\n",
              "                padding: 0.5em;\n",
              "            }\n",
              "\n",
              "            .upgini-df tbody tr:nth-child(odd) {\n",
              "                background-color: #ffffff;\n",
              "            }\n",
              "\n",
              "            .upgini-df tbody tr:nth-child(even) {\n",
              "                background-color: #f2f2f2;\n",
              "            }\n",
              "\n",
              "            .upgini-text {\n",
              "                text-align: left;\n",
              "            }\n",
              "\n",
              "            .upgini-number {\n",
              "                text-align: center;\n",
              "            }\n",
              "        </style>\n",
              "        <h2>*Description of AutoFE feature names</h2>\n",
              "        <div style=\"display:flex; flex-direction:column; align-items:flex-end; width: fit-content;\">\n",
              "            \n",
              "            <div style=\"text-align: right\">\n",
              "                <button onclick=navigator.clipboard.writeText(decodeURI('Sources%09Feature%20name%09Feature%201%09Feature%202%09Function%0A%3Ca%20href%3D%27https%3A%2F%2Fupgini.com%2F%23data_sources%27%20target%3D%27_blank%27%20rel%3D%27noopener%20noreferrer%27%3ECalendar%20data%3C%2Fa%3E%09f_autofe_div_ba625fe9%09f_events_date_week_sin1_847b5db1%09f_events_date_year_cos1_9014a856%09%2F%0A%3Ca%20href%3D%27https%3A%2F%2Fupgini.com%2F%23data_sources%27%20target%3D%27_blank%27%20rel%3D%27noopener%20noreferrer%27%3ECalendar%20data%3C%2Fa%3E,%3Ca%20href%3D%27https%3A%2F%2Fupgini.com%2F%23data_sources%27%20target%3D%27_blank%27%20rel%3D%27noopener%20noreferrer%27%3EMarkets%20data%3C%2Fa%3E%09f_autofe_mul_c256dd85%09f_events_date_week_sin1_847b5db1%09f_financial_date_crude_oil_7d_to_1y_c3e0ad17%09%2A%0A%3Ca%20href%3D%27https%3A%2F%2Fupgini.com%2F%23data_sources%27%20target%3D%27_blank%27%20rel%3D%27noopener%20noreferrer%27%3ECalendar%20data%3C%2Fa%3E,%3Ca%20href%3D%27https%3A%2F%2Fupgini.com%2F%23data_sources%27%20target%3D%27_blank%27%20rel%3D%27noopener%20noreferrer%27%3EMarkets%20data%3C%2Fa%3E%09f_autofe_div_91ddec39%09f_events_date_week_sin1_847b5db1%09f_financial_date_gold_bf71e733%09%2F%0A%3Ca%20href%3D%27https%3A%2F%2Fupgini.com%2F%23data_sources%27%20target%3D%27_blank%27%20rel%3D%27noopener%20noreferrer%27%3ECalendar%20data%3C%2Fa%3E,%3Ca%20href%3D%27https%3A%2F%2Fupgini.com%2F%23data_sources%27%20target%3D%27_blank%27%20rel%3D%27noopener%20noreferrer%27%3EMarkets%20data%3C%2Fa%3E%09f_autofe_div_cf5dd7be%09f_events_date_week_sin1_847b5db1%09f_financial_date_vix_7d_to_1y_634c77eb%09%2F%0A%3Ca%20href%3D%27https%3A%2F%2Fupgini.com%2F%23data_sources%27%20target%3D%27_blank%27%20rel%3D%27noopener%20noreferrer%27%3EMarkets%20data%3C%2Fa%3E%09f_autofe_mul_8a925382%09f_financial_date_gold_7d_to_1y_ae310379%09f_financial_date_stoxx_043cbcd4%09%2A%0A%3Ca%20href%3D%27https%3A%2F%2Fupgini.com%2F%23data_sources%27%20target%3D%27_blank%27%20rel%3D%27noopener%20noreferrer%27%3ECalendar%20data%3C%2Fa%3E%09f_autofe_div_e075fdc5%09f_events_date_year_sin1_3c44bc64%09f_events_date_year_sin3_e4c1ec0e%09%2F%0A%3Ca%20href%3D%27https%3A%2F%2Fupgini.com%2F%23data_sources%27%20target%3D%27_blank%27%20rel%3D%27noopener%20noreferrer%27%3ECalendar%20data%3C%2Fa%3E,%3Ca%20href%3D%27https%3A%2F%2Fupgini.com%2F%23data_sources%27%20target%3D%27_blank%27%20rel%3D%27noopener%20noreferrer%27%3EMarkets%20data%3C%2Fa%3E%09f_autofe_div_c2f55b86%09f_events_date_week_cos3_7525fe31%09f_financial_date_stoxx_043cbcd4%09%2F%0A%3Ca%20href%3D%27https%3A%2F%2Fupgini.com%2F%23data_sources%27%20target%3D%27_blank%27%20rel%3D%27noopener%20noreferrer%27%3EMarkets%20data%3C%2Fa%3E%09f_autofe_div_e056f974%09f_financial_date_natural_gas_92dac942%09f_financial_date_silver_7d_to_7d_1y_shift_55fa8001%09%2F%0A%3Ca%20href%3D%27https%3A%2F%2Fupgini.com%2F%23data_sources%27%20target%3D%27_blank%27%20rel%3D%27noopener%20noreferrer%27%3ECalendar%20data%3C%2Fa%3E%09f_autofe_mul_245e186d%09f_events_date_week_sin2_e28440a5%09f_events_date_year_sin1_3c44bc64%09%2A%0A%3Ca%20href%3D%27https%3A%2F%2Fupgini.com%2F%23data_sources%27%20target%3D%27_blank%27%20rel%3D%27noopener%20noreferrer%27%3EMarkets%20data%3C%2Fa%3E%09f_autofe_mul_8916215e%09f_financial_date_silver_7d_to_1y_0ccfe462%09f_financial_date_stoxx_043cbcd4%09%2A%0A%3Ca%20href%3D%27https%3A%2F%2Fupgini.com%2F%23data_sources%27%20target%3D%27_blank%27%20rel%3D%27noopener%20noreferrer%27%3ECalendar%20data%3C%2Fa%3E%09f_autofe_mul_f7b12b12%09f_events_date_month_sin1_51d9011f%09f_events_date_year_cos9_f85b1052%09%2A%0A%3Ca%20href%3D%27https%3A%2F%2Fupgini.com%2F%23data_sources%27%20target%3D%27_blank%27%20rel%3D%27noopener%20noreferrer%27%3ECalendar%20data%3C%2Fa%3E,%3Ca%20href%3D%27https%3A%2F%2Fupgini.com%2F%23data_sources%27%20target%3D%27_blank%27%20rel%3D%27noopener%20noreferrer%27%3EMarkets%20data%3C%2Fa%3E%09f_autofe_mul_347f9d14%09f_events_date_week_cos1_f6a8c1fc%09f_financial_date_usd_eur_gap_c8eb8d4a%09%2A%0A%3Ca%20href%3D%27https%3A%2F%2Fupgini.com%2F%23data_sources%27%20target%3D%27_blank%27%20rel%3D%27noopener%20noreferrer%27%3ECalendar%20data%3C%2Fa%3E%09f_autofe_div_ff5a6f27%09f_events_date_week_sin2_e28440a5%09f_events_date_year_cos1_9014a856%09%2F%0A%3Ca%20href%3D%27https%3A%2F%2Fupgini.com%2F%23data_sources%27%20target%3D%27_blank%27%20rel%3D%27noopener%20noreferrer%27%3ECalendar%20data%3C%2Fa%3E,%3Ca%20href%3D%27https%3A%2F%2Fupgini.com%2F%23data_sources%27%20target%3D%27_blank%27%20rel%3D%27noopener%20noreferrer%27%3EMarkets%20data%3C%2Fa%3E%09f_autofe_div_e70e902a%09f_events_date_week_cos3_7525fe31%09f_financial_date_usd_7419609a%09%2F%0A%3Ca%20href%3D%27https%3A%2F%2Fupgini.com%2F%23data_sources%27%20target%3D%27_blank%27%20rel%3D%27noopener%20noreferrer%27%3ECalendar%20data%3C%2Fa%3E,%3Ca%20href%3D%27https%3A%2F%2Fupgini.com%2F%23data_sources%27%20target%3D%27_blank%27%20rel%3D%27noopener%20noreferrer%27%3EMarkets%20data%3C%2Fa%3E%09f_autofe_mul_627c43d0%09f_events_date_week_cos2_b0a07cfc%09f_financial_date_silver_e4e33014%09%2A%0A%3Ca%20href%3D%27https%3A%2F%2Fupgini.com%2F%23data_sources%27%20target%3D%27_blank%27%20rel%3D%27noopener%20noreferrer%27%3ECalendar%20data%3C%2Fa%3E,%3Ca%20href%3D%27https%3A%2F%2Fupgini.com%2F%23data_sources%27%20target%3D%27_blank%27%20rel%3D%27noopener%20noreferrer%27%3EMarkets%20data%3C%2Fa%3E%09f_autofe_div_fa0777db%09f_events_date_week_cos2_b0a07cfc%09f_financial_date_stoxx_043cbcd4%09%2F%0A%3Ca%20href%3D%27https%3A%2F%2Fupgini.com%2F%23data_sources%27%20target%3D%27_blank%27%20rel%3D%27noopener%20noreferrer%27%3EMarkets%20data%3C%2Fa%3E%09f_autofe_mul_10b8aa26%09f_financial_date_usd_7419609a%09f_financial_date_usd_eur_1d_to_7d_d8b89b5d%09%2A%0A%3Ca%20href%3D%27https%3A%2F%2Fupgini.com%2F%23data_sources%27%20target%3D%27_blank%27%20rel%3D%27noopener%20noreferrer%27%3ECalendar%20data%3C%2Fa%3E%09f_autofe_div_c217fef5%09f_events_date_week_cos3_7525fe31%09f_events_date_week_sin3_0723e6e6%09%2F%0A%3Ca%20href%3D%27https%3A%2F%2Fupgini.com%2F%23data_sources%27%20target%3D%27_blank%27%20rel%3D%27noopener%20noreferrer%27%3EMarkets%20data%3C%2Fa%3E%09f_autofe_div_1175fcd1%09f_financial_date_usd_7419609a%09f_financial_date_usd_7d_to_1y_9cbe7ef8%09%2F%0A%3Ca%20href%3D%27https%3A%2F%2Fupgini.com%2F%23data_sources%27%20target%3D%27_blank%27%20rel%3D%27noopener%20noreferrer%27%3ECalendar%20data%3C%2Fa%3E,%3Ca%20href%3D%27https%3A%2F%2Fupgini.com%2F%23data_sources%27%20target%3D%27_blank%27%20rel%3D%27noopener%20noreferrer%27%3EMarkets%20data%3C%2Fa%3E%09f_autofe_mul_45a3c004%09f_events_date_week_cos3_7525fe31%09f_financial_date_silver_e4e33014%09%2A%0A%3Ca%20href%3D%27https%3A%2F%2Fupgini.com%2F%23data_sources%27%20target%3D%27_blank%27%20rel%3D%27noopener%20noreferrer%27%3ECalendar%20data%3C%2Fa%3E,%3Ca%20href%3D%27https%3A%2F%2Fupgini.com%2F%23data_sources%27%20target%3D%27_blank%27%20rel%3D%27noopener%20noreferrer%27%3EMarkets%20data%3C%2Fa%3E%09f_autofe_mul_9a4ab68c%09f_events_date_week_cos1_f6a8c1fc%09f_financial_date_silver_e4e33014%09%2A%0A%3Ca%20href%3D%27https%3A%2F%2Fupgini.com%2F%23data_sources%27%20target%3D%27_blank%27%20rel%3D%27noopener%20noreferrer%27%3ECalendar%20data%3C%2Fa%3E,%3Ca%20href%3D%27https%3A%2F%2Fupgini.com%2F%23data_sources%27%20target%3D%27_blank%27%20rel%3D%27noopener%20noreferrer%27%3EMarkets%20data%3C%2Fa%3E%09f_autofe_mul_0cc09d2d%09f_events_date_year_cos1_9014a856%09f_financial_date_crude_oil_1f195998%09%2A%0A%3Ca%20href%3D%27https%3A%2F%2Fupgini.com%2F%23data_sources%27%20target%3D%27_blank%27%20rel%3D%27noopener%20noreferrer%27%3EMarkets%20data%3C%2Fa%3E%09f_autofe_div_760369e5%09f_financial_date_dow_jones_1d_to_7d_f95596a6%09f_financial_date_stoxx_1d_to_7d_c615714e%09%2F%0A%3Ca%20href%3D%27https%3A%2F%2Fupgini.com%2F%23data_sources%27%20target%3D%27_blank%27%20rel%3D%27noopener%20noreferrer%27%3EMarkets%20data%3C%2Fa%3E%09f_autofe_mul_2ba62bb3%09f_financial_date_silver_7d_to_7d_1y_shift_55fa8001%09f_financial_date_usd_7419609a%09%2A%0A%3Ca%20href%3D%27https%3A%2F%2Fupgini.com%2F%23data_sources%27%20target%3D%27_blank%27%20rel%3D%27noopener%20noreferrer%27%3EMarkets%20data%3C%2Fa%3E%09f_autofe_div_f779e2a9%09f_financial_date_gold_7d_to_1y_ae310379%09f_financial_date_usd_7d_to_1y_9cbe7ef8%09%2F%0A%3Ca%20href%3D%27https%3A%2F%2Fupgini.com%2F%23data_sources%27%20target%3D%27_blank%27%20rel%3D%27noopener%20noreferrer%27%3ECalendar%20data%3C%2Fa%3E,%3Ca%20href%3D%27https%3A%2F%2Fupgini.com%2F%23data_sources%27%20target%3D%27_blank%27%20rel%3D%27noopener%20noreferrer%27%3EMarkets%20data%3C%2Fa%3E%09f_autofe_mul_cb3a4017%09f_events_date_year_cos9_f85b1052%09f_financial_date_usd_eur_gap_c8eb8d4a%09%2A%0A%3Ca%20href%3D%27https%3A%2F%2Fupgini.com%2F%23data_sources%27%20target%3D%27_blank%27%20rel%3D%27noopener%20noreferrer%27%3ECalendar%20data%3C%2Fa%3E%09f_autofe_mul_4b12defb%09f_events_date_week_sin3_0723e6e6%09f_events_date_year_cos9_f85b1052%09%2A%0A'))>📂 Copy</button>\n",
              "                <a href='mailto:<Share with...>?subject=Relevant external data sources from Upgini.com&body=Sources%09Feature%20name%09Feature%201%09Feature%202%09Function%0A%3Ca%20href%3D%27https%3A%2F%2Fupgini.com%2F%23data_sources%27%20target%3D%27_blank%27%20rel%3D%27noopener%20noreferrer%27%3ECalendar%20data%3C%2Fa%3E%09f_autofe_div_ba625fe9%09f_events_date_week_sin1_847b5db1%09f_events_date_year_cos1_9014a856%09%2F%0A%3Ca%20href%3D%27https%3A%2F%2Fupgini.com%2F%23data_sources%27%20target%3D%27_blank%27%20rel%3D%27noopener%20noreferrer%27%3ECalendar%20data%3C%2Fa%3E,%3Ca%20href%3D%27https%3A%2F%2Fupgini.com%2F%23data_sources%27%20target%3D%27_blank%27%20rel%3D%27noopener%20noreferrer%27%3EMarkets%20data%3C%2Fa%3E%09f_autofe_mul_c256dd85%09f_events_date_week_sin1_847b5db1%09f_financial_date_crude_oil_7d_to_1y_c3e0ad17%09%2A%0A%3Ca%20href%3D%27https%3A%2F%2Fupgini.com%2F%23data_sources%27%20target%3D%27_blank%27%20rel%3D%27noopener%20noreferrer%27%3ECalendar%20data%3C%2Fa%3E,%3Ca%20href%3D%27https%3A%2F%2Fupgini.com%2F%23data_sources%27%20target%3D%27_blank%27%20rel%3D%27noopener%20noreferrer%27%3EMarkets%20data%3C%2Fa%3E%09f_autofe_div_91ddec39%09f_events_date_week_sin1_847b5db1%09f_financial_date_gold_bf71e733%09%2F%0A%3Ca%20href%3D%27https%3A%2F%2Fupgini.com%2F%23data_sources%27%20target%3D%27_blank%27%20rel%3D%27noopener%20noreferrer%27%3ECalendar%20data%3C%2Fa%3E,%3Ca%20href%3D%27https%3A%2F%2Fupgini.com%2F%23data_sources%27%20target%3D%27_blank%27%20rel%3D%27noopener%20noreferrer%27%3EMarkets%20data%3C%2Fa%3E%09f_autofe_div_cf5dd7be%09f_events_date_week_sin1_847b5db1%09f_financial_date_vix_7d_to_1y_634c77eb%09%2F%0A%3Ca%20href%3D%27https%3A%2F%2Fupgini.com%2F%23data_sources%27%20target%3D%27_blank%27%20rel%3D%27noopener%20noreferrer%27%3EMarkets%20data%3C%2Fa%3E%09f_autofe_mul_8a925382%09f_financial_date_gold_7d_to_1y_ae310379%09f_financial_date_stoxx_043cbcd4%09%2A%0A%3Ca%20href%3D%27https%3A%2F%2Fupgini.com%2F%23data_sources%27%20target%3D%27_blank%27%20rel%3D%27noopener%20noreferrer%27%3ECalendar%20data%3C%2Fa%3E%09f_autofe_div_e075fdc5%09f_events_date_year_sin1_3c44bc64%09f_events_date_year_sin3_e4c1ec0e%09%2F%0A%3Ca%20href%3D%27https%3A%2F%2Fupgini.com%2F%23data_sources%27%20target%3D%27_blank%27%20rel%3D%27noopener%20noreferrer%27%3ECalendar%20data%3C%2Fa%3E,%3Ca%20href%3D%27https%3A%2F%2Fupgini.com%2F%23data_sources%27%20target%3D%27_blank%27%20rel%3D%27noopener%20noreferrer%27%3EMarkets%20data%3C%2Fa%3E%09f_autofe_div_c2f55b86%09f_events_date_week_cos3_7525fe31%09f_financial_date_stoxx_043cbcd4%09%2F%0A%3Ca%20href%3D%27https%3A%2F%2Fupgini.com%2F%23data_sources%27%20target%3D%27_blank%27%20rel%3D%27noopener%20noreferrer%27%3EMarkets%20data%3C%2Fa%3E%09f_autofe_div_e056f974%09f_financial_date_natural_gas_92dac942%09f_financial_date_silver_7d_to_7d_1y_shift_55fa8001%09%2F%0A%3Ca%20href%3D%27https%3A%2F%2Fupgini.com%2F%23data_sources%27%20target%3D%27_blank%27%20rel%3D%27noopener%20noreferrer%27%3ECalendar%20data%3C%2Fa%3E%09f_autofe_mul_245e186d%09f_events_date_week_sin2_e28440a5%09f_events_date_year_sin1_3c44bc64%09%2A%0A%3Ca%20href%3D%27https%3A%2F%2Fupgini.com%2F%23data_sources%27%20target%3D%27_blank%27%20rel%3D%27noopener%20noreferrer%27%3EMarkets%20data%3C%2Fa%3E%09f_autofe_mul_8916215e%09f_financial_date_silver_7d_to_1y_0ccfe462%09f_financial_date_stoxx_043cbcd4%09%2A%0A%3Ca%20href%3D%27https%3A%2F%2Fupgini.com%2F%23data_sources%27%20target%3D%27_blank%27%20rel%3D%27noopener%20noreferrer%27%3ECalendar%20data%3C%2Fa%3E%09f_autofe_mul_f7b12b12%09f_events_date_month_sin1_51d9011f%09f_events_date_year_cos9_f85b1052%09%2A%0A%3Ca%20href%3D%27https%3A%2F%2Fupgini.com%2F%23data_sources%27%20target%3D%27_blank%27%20rel%3D%27noopener%20noreferrer%27%3ECalendar%20data%3C%2Fa%3E,%3Ca%20href%3D%27https%3A%2F%2Fupgini.com%2F%23data_sources%27%20target%3D%27_blank%27%20rel%3D%27noopener%20noreferrer%27%3EMarkets%20data%3C%2Fa%3E%09f_autofe_mul_347f9d14%09f_events_date_week_cos1_f6a8c1fc%09f_financial_date_usd_eur_gap_c8eb8d4a%09%2A%0A%3Ca%20href%3D%27https%3A%2F%2Fupgini.com%2F%23data_sources%27%20target%3D%27_blank%27%20rel%3D%27noopener%20noreferrer%27%3ECalendar%20data%3C%2Fa%3E%09f_autofe_div_ff5a6f27%09f_events_date_week_sin2_e28440a5%09f_events_date_year_cos1_9014a856%09%2F%0A%3Ca%20href%3D%27https%3A%2F%2Fupgini.com%2F%23data_sources%27%20target%3D%27_blank%27%20rel%3D%27noopener%20noreferrer%27%3ECalendar%20data%3C%2Fa%3E,%3Ca%20href%3D%27https%3A%2F%2Fupgini.com%2F%23data_sources%27%20target%3D%27_blank%27%20rel%3D%27noopener%20noreferrer%27%3EMarkets%20data%3C%2Fa%3E%09f_autofe_div_e70e902a%09f_events_date_week_cos3_7525fe31%09f_financial_date_usd_7419609a%09%2F%0A%3Ca%20href%3D%27https%3A%2F%2Fupgini.com%2F%23data_sources%27%20target%3D%27_blank%27%20rel%3D%27noopener%20noreferrer%27%3ECalendar%20data%3C%2Fa%3E,%3Ca%20href%3D%27https%3A%2F%2Fupgini.com%2F%23data_sources%27%20target%3D%27_blank%27%20rel%3D%27noopener%20noreferrer%27%3EMarkets%20data%3C%2Fa%3E%09f_autofe_mul_627c43d0%09f_events_date_week_cos2_b0a07cfc%09f_financial_date_silver_e4e33014%09%2A%0A%3Ca%20href%3D%27https%3A%2F%2Fupgini.com%2F%23data_sources%27%20target%3D%27_blank%27%20rel%3D%27noopener%20noreferrer%27%3ECalendar%20data%3C%2Fa%3E,%3Ca%20href%3D%27https%3A%2F%2Fupgini.com%2F%23data_sources%27%20target%3D%27_blank%27%20rel%3D%27noopener%20noreferrer%27%3EMarkets%20data%3C%2Fa%3E%09f_autofe_div_fa0777db%09f_events_date_week_cos2_b0a07cfc%09f_financial_date_stoxx_043cbcd4%09%2F%0A%3Ca%20href%3D%27https%3A%2F%2Fupgini.com%2F%23data_sources%27%20target%3D%27_blank%27%20rel%3D%27noopener%20noreferrer%27%3EMarkets%20data%3C%2Fa%3E%09f_autofe_mul_10b8aa26%09f_financial_date_usd_7419609a%09f_financial_date_usd_eur_1d_to_7d_d8b89b5d%09%2A%0A%3Ca%20href%3D%27https%3A%2F%2Fupgini.com%2F%23data_sources%27%20target%3D%27_blank%27%20rel%3D%27noopener%20noreferrer%27%3ECalendar%20data%3C%2Fa%3E%09f_autofe_div_c217fef5%09f_events_date_week_cos3_7525fe31%09f_events_date_week_sin3_0723e6e6%09%2F%0A%3Ca%20href%3D%27https%3A%2F%2Fupgini.com%2F%23data_sources%27%20target%3D%27_blank%27%20rel%3D%27noopener%20noreferrer%27%3EMarkets%20data%3C%2Fa%3E%09f_autofe_div_1175fcd1%09f_financial_date_usd_7419609a%09f_financial_date_usd_7d_to_1y_9cbe7ef8%09%2F%0A%3Ca%20href%3D%27https%3A%2F%2Fupgini.com%2F%23data_sources%27%20target%3D%27_blank%27%20rel%3D%27noopener%20noreferrer%27%3ECalendar%20data%3C%2Fa%3E,%3Ca%20href%3D%27https%3A%2F%2Fupgini.com%2F%23data_sources%27%20target%3D%27_blank%27%20rel%3D%27noopener%20noreferrer%27%3EMarkets%20data%3C%2Fa%3E%09f_autofe_mul_45a3c004%09f_events_date_week_cos3_7525fe31%09f_financial_date_silver_e4e33014%09%2A%0A%3Ca%20href%3D%27https%3A%2F%2Fupgini.com%2F%23data_sources%27%20target%3D%27_blank%27%20rel%3D%27noopener%20noreferrer%27%3ECalendar%20data%3C%2Fa%3E,%3Ca%20href%3D%27https%3A%2F%2Fupgini.com%2F%23data_sources%27%20target%3D%27_blank%27%20rel%3D%27noopener%20noreferrer%27%3EMarkets%20data%3C%2Fa%3E%09f_autofe_mul_9a4ab68c%09f_events_date_week_cos1_f6a8c1fc%09f_financial_date_silver_e4e33014%09%2A%0A%3Ca%20href%3D%27https%3A%2F%2Fupgini.com%2F%23data_sources%27%20target%3D%27_blank%27%20rel%3D%27noopener%20noreferrer%27%3ECalendar%20data%3C%2Fa%3E,%3Ca%20href%3D%27https%3A%2F%2Fupgini.com%2F%23data_sources%27%20target%3D%27_blank%27%20rel%3D%27noopener%20noreferrer%27%3EMarkets%20data%3C%2Fa%3E%09f_autofe_mul_0cc09d2d%09f_events_date_year_cos1_9014a856%09f_financial_date_crude_oil_1f195998%09%2A%0A%3Ca%20href%3D%27https%3A%2F%2Fupgini.com%2F%23data_sources%27%20target%3D%27_blank%27%20rel%3D%27noopener%20noreferrer%27%3EMarkets%20data%3C%2Fa%3E%09f_autofe_div_760369e5%09f_financial_date_dow_jones_1d_to_7d_f95596a6%09f_financial_date_stoxx_1d_to_7d_c615714e%09%2F%0A%3Ca%20href%3D%27https%3A%2F%2Fupgini.com%2F%23data_sources%27%20target%3D%27_blank%27%20rel%3D%27noopener%20noreferrer%27%3EMarkets%20data%3C%2Fa%3E%09f_autofe_mul_2ba62bb3%09f_financial_date_silver_7d_to_7d_1y_shift_55fa8001%09f_financial_date_usd_7419609a%09%2A%0A%3Ca%20href%3D%27https%3A%2F%2Fupgini.com%2F%23data_sources%27%20target%3D%27_blank%27%20rel%3D%27noopener%20noreferrer%27%3EMarkets%20data%3C%2Fa%3E%09f_autofe_div_f779e2a9%09f_financial_date_gold_7d_to_1y_ae310379%09f_financial_date_usd_7d_to_1y_9cbe7ef8%09%2F%0A%3Ca%20href%3D%27https%3A%2F%2Fupgini.com%2F%23data_sources%27%20target%3D%27_blank%27%20rel%3D%27noopener%20noreferrer%27%3ECalendar%20data%3C%2Fa%3E,%3Ca%20href%3D%27https%3A%2F%2Fupgini.com%2F%23data_sources%27%20target%3D%27_blank%27%20rel%3D%27noopener%20noreferrer%27%3EMarkets%20data%3C%2Fa%3E%09f_autofe_mul_cb3a4017%09f_events_date_year_cos9_f85b1052%09f_financial_date_usd_eur_gap_c8eb8d4a%09%2A%0A%3Ca%20href%3D%27https%3A%2F%2Fupgini.com%2F%23data_sources%27%20target%3D%27_blank%27%20rel%3D%27noopener%20noreferrer%27%3ECalendar%20data%3C%2Fa%3E%09f_autofe_mul_4b12defb%09f_events_date_week_sin3_0723e6e6%09f_events_date_year_cos9_f85b1052%09%2A%0A'>\n",
              "                    <button>📨 Share</button>\n",
              "                </a>\n",
              "            </div>\n",
              "            <table class='upgini-df'><thead><th>Sources</th><th>Feature name</th><th>Feature 1</th><th>Feature 2</th><th>Function</th></thead><tbody><tr><td class='upgini-text'><a href='https://upgini.com/#data_sources' target='_blank' rel='noopener noreferrer'>Calendar data</a></td><td class='upgini-text'>f_autofe_div_ba625fe9</td><td class='upgini-text'>f_events_date_week_sin1_847b5db1</td><td class='upgini-text'>f_events_date_year_cos1_9014a856</td><td class='upgini-text'>/</td></tr><tr><td class='upgini-text'><a href='https://upgini.com/#data_sources' target='_blank' rel='noopener noreferrer'>Calendar data</a>,<a href='https://upgini.com/#data_sources' target='_blank' rel='noopener noreferrer'>Markets data</a></td><td class='upgini-text'>f_autofe_mul_c256dd85</td><td class='upgini-text'>f_events_date_week_sin1_847b5db1</td><td class='upgini-text'>f_financial_date_crude_oil_7d_to_1y_c3e0ad17</td><td class='upgini-text'>*</td></tr><tr><td class='upgini-text'><a href='https://upgini.com/#data_sources' target='_blank' rel='noopener noreferrer'>Calendar data</a>,<a href='https://upgini.com/#data_sources' target='_blank' rel='noopener noreferrer'>Markets data</a></td><td class='upgini-text'>f_autofe_div_91ddec39</td><td class='upgini-text'>f_events_date_week_sin1_847b5db1</td><td class='upgini-text'>f_financial_date_gold_bf71e733</td><td class='upgini-text'>/</td></tr><tr><td class='upgini-text'><a href='https://upgini.com/#data_sources' target='_blank' rel='noopener noreferrer'>Calendar data</a>,<a href='https://upgini.com/#data_sources' target='_blank' rel='noopener noreferrer'>Markets data</a></td><td class='upgini-text'>f_autofe_div_cf5dd7be</td><td class='upgini-text'>f_events_date_week_sin1_847b5db1</td><td class='upgini-text'>f_financial_date_vix_7d_to_1y_634c77eb</td><td class='upgini-text'>/</td></tr><tr><td class='upgini-text'><a href='https://upgini.com/#data_sources' target='_blank' rel='noopener noreferrer'>Markets data</a></td><td class='upgini-text'>f_autofe_mul_8a925382</td><td class='upgini-text'>f_financial_date_gold_7d_to_1y_ae310379</td><td class='upgini-text'>f_financial_date_stoxx_043cbcd4</td><td class='upgini-text'>*</td></tr><tr><td class='upgini-text'><a href='https://upgini.com/#data_sources' target='_blank' rel='noopener noreferrer'>Calendar data</a></td><td class='upgini-text'>f_autofe_div_e075fdc5</td><td class='upgini-text'>f_events_date_year_sin1_3c44bc64</td><td class='upgini-text'>f_events_date_year_sin3_e4c1ec0e</td><td class='upgini-text'>/</td></tr><tr><td class='upgini-text'><a href='https://upgini.com/#data_sources' target='_blank' rel='noopener noreferrer'>Calendar data</a>,<a href='https://upgini.com/#data_sources' target='_blank' rel='noopener noreferrer'>Markets data</a></td><td class='upgini-text'>f_autofe_div_c2f55b86</td><td class='upgini-text'>f_events_date_week_cos3_7525fe31</td><td class='upgini-text'>f_financial_date_stoxx_043cbcd4</td><td class='upgini-text'>/</td></tr><tr><td class='upgini-text'><a href='https://upgini.com/#data_sources' target='_blank' rel='noopener noreferrer'>Markets data</a></td><td class='upgini-text'>f_autofe_div_e056f974</td><td class='upgini-text'>f_financial_date_natural_gas_92dac942</td><td class='upgini-text'>f_financial_date_silver_7d_to_7d_1y_shift_55fa8001</td><td class='upgini-text'>/</td></tr><tr><td class='upgini-text'><a href='https://upgini.com/#data_sources' target='_blank' rel='noopener noreferrer'>Calendar data</a></td><td class='upgini-text'>f_autofe_mul_245e186d</td><td class='upgini-text'>f_events_date_week_sin2_e28440a5</td><td class='upgini-text'>f_events_date_year_sin1_3c44bc64</td><td class='upgini-text'>*</td></tr><tr><td class='upgini-text'><a href='https://upgini.com/#data_sources' target='_blank' rel='noopener noreferrer'>Markets data</a></td><td class='upgini-text'>f_autofe_mul_8916215e</td><td class='upgini-text'>f_financial_date_silver_7d_to_1y_0ccfe462</td><td class='upgini-text'>f_financial_date_stoxx_043cbcd4</td><td class='upgini-text'>*</td></tr><tr><td class='upgini-text'><a href='https://upgini.com/#data_sources' target='_blank' rel='noopener noreferrer'>Calendar data</a></td><td class='upgini-text'>f_autofe_mul_f7b12b12</td><td class='upgini-text'>f_events_date_month_sin1_51d9011f</td><td class='upgini-text'>f_events_date_year_cos9_f85b1052</td><td class='upgini-text'>*</td></tr><tr><td class='upgini-text'><a href='https://upgini.com/#data_sources' target='_blank' rel='noopener noreferrer'>Calendar data</a>,<a href='https://upgini.com/#data_sources' target='_blank' rel='noopener noreferrer'>Markets data</a></td><td class='upgini-text'>f_autofe_mul_347f9d14</td><td class='upgini-text'>f_events_date_week_cos1_f6a8c1fc</td><td class='upgini-text'>f_financial_date_usd_eur_gap_c8eb8d4a</td><td class='upgini-text'>*</td></tr><tr><td class='upgini-text'><a href='https://upgini.com/#data_sources' target='_blank' rel='noopener noreferrer'>Calendar data</a></td><td class='upgini-text'>f_autofe_div_ff5a6f27</td><td class='upgini-text'>f_events_date_week_sin2_e28440a5</td><td class='upgini-text'>f_events_date_year_cos1_9014a856</td><td class='upgini-text'>/</td></tr><tr><td class='upgini-text'><a href='https://upgini.com/#data_sources' target='_blank' rel='noopener noreferrer'>Calendar data</a>,<a href='https://upgini.com/#data_sources' target='_blank' rel='noopener noreferrer'>Markets data</a></td><td class='upgini-text'>f_autofe_div_e70e902a</td><td class='upgini-text'>f_events_date_week_cos3_7525fe31</td><td class='upgini-text'>f_financial_date_usd_7419609a</td><td class='upgini-text'>/</td></tr><tr><td class='upgini-text'><a href='https://upgini.com/#data_sources' target='_blank' rel='noopener noreferrer'>Calendar data</a>,<a href='https://upgini.com/#data_sources' target='_blank' rel='noopener noreferrer'>Markets data</a></td><td class='upgini-text'>f_autofe_mul_627c43d0</td><td class='upgini-text'>f_events_date_week_cos2_b0a07cfc</td><td class='upgini-text'>f_financial_date_silver_e4e33014</td><td class='upgini-text'>*</td></tr><tr><td class='upgini-text'><a href='https://upgini.com/#data_sources' target='_blank' rel='noopener noreferrer'>Calendar data</a>,<a href='https://upgini.com/#data_sources' target='_blank' rel='noopener noreferrer'>Markets data</a></td><td class='upgini-text'>f_autofe_div_fa0777db</td><td class='upgini-text'>f_events_date_week_cos2_b0a07cfc</td><td class='upgini-text'>f_financial_date_stoxx_043cbcd4</td><td class='upgini-text'>/</td></tr><tr><td class='upgini-text'><a href='https://upgini.com/#data_sources' target='_blank' rel='noopener noreferrer'>Markets data</a></td><td class='upgini-text'>f_autofe_mul_10b8aa26</td><td class='upgini-text'>f_financial_date_usd_7419609a</td><td class='upgini-text'>f_financial_date_usd_eur_1d_to_7d_d8b89b5d</td><td class='upgini-text'>*</td></tr><tr><td class='upgini-text'><a href='https://upgini.com/#data_sources' target='_blank' rel='noopener noreferrer'>Calendar data</a></td><td class='upgini-text'>f_autofe_div_c217fef5</td><td class='upgini-text'>f_events_date_week_cos3_7525fe31</td><td class='upgini-text'>f_events_date_week_sin3_0723e6e6</td><td class='upgini-text'>/</td></tr><tr><td class='upgini-text'><a href='https://upgini.com/#data_sources' target='_blank' rel='noopener noreferrer'>Markets data</a></td><td class='upgini-text'>f_autofe_div_1175fcd1</td><td class='upgini-text'>f_financial_date_usd_7419609a</td><td class='upgini-text'>f_financial_date_usd_7d_to_1y_9cbe7ef8</td><td class='upgini-text'>/</td></tr><tr><td class='upgini-text'><a href='https://upgini.com/#data_sources' target='_blank' rel='noopener noreferrer'>Calendar data</a>,<a href='https://upgini.com/#data_sources' target='_blank' rel='noopener noreferrer'>Markets data</a></td><td class='upgini-text'>f_autofe_mul_45a3c004</td><td class='upgini-text'>f_events_date_week_cos3_7525fe31</td><td class='upgini-text'>f_financial_date_silver_e4e33014</td><td class='upgini-text'>*</td></tr><tr><td class='upgini-text'><a href='https://upgini.com/#data_sources' target='_blank' rel='noopener noreferrer'>Calendar data</a>,<a href='https://upgini.com/#data_sources' target='_blank' rel='noopener noreferrer'>Markets data</a></td><td class='upgini-text'>f_autofe_mul_9a4ab68c</td><td class='upgini-text'>f_events_date_week_cos1_f6a8c1fc</td><td class='upgini-text'>f_financial_date_silver_e4e33014</td><td class='upgini-text'>*</td></tr><tr><td class='upgini-text'><a href='https://upgini.com/#data_sources' target='_blank' rel='noopener noreferrer'>Calendar data</a>,<a href='https://upgini.com/#data_sources' target='_blank' rel='noopener noreferrer'>Markets data</a></td><td class='upgini-text'>f_autofe_mul_0cc09d2d</td><td class='upgini-text'>f_events_date_year_cos1_9014a856</td><td class='upgini-text'>f_financial_date_crude_oil_1f195998</td><td class='upgini-text'>*</td></tr><tr><td class='upgini-text'><a href='https://upgini.com/#data_sources' target='_blank' rel='noopener noreferrer'>Markets data</a></td><td class='upgini-text'>f_autofe_div_760369e5</td><td class='upgini-text'>f_financial_date_dow_jones_1d_to_7d_f95596a6</td><td class='upgini-text'>f_financial_date_stoxx_1d_to_7d_c615714e</td><td class='upgini-text'>/</td></tr><tr><td class='upgini-text'><a href='https://upgini.com/#data_sources' target='_blank' rel='noopener noreferrer'>Markets data</a></td><td class='upgini-text'>f_autofe_mul_2ba62bb3</td><td class='upgini-text'>f_financial_date_silver_7d_to_7d_1y_shift_55fa8001</td><td class='upgini-text'>f_financial_date_usd_7419609a</td><td class='upgini-text'>*</td></tr><tr><td class='upgini-text'><a href='https://upgini.com/#data_sources' target='_blank' rel='noopener noreferrer'>Markets data</a></td><td class='upgini-text'>f_autofe_div_f779e2a9</td><td class='upgini-text'>f_financial_date_gold_7d_to_1y_ae310379</td><td class='upgini-text'>f_financial_date_usd_7d_to_1y_9cbe7ef8</td><td class='upgini-text'>/</td></tr><tr><td class='upgini-text'><a href='https://upgini.com/#data_sources' target='_blank' rel='noopener noreferrer'>Calendar data</a>,<a href='https://upgini.com/#data_sources' target='_blank' rel='noopener noreferrer'>Markets data</a></td><td class='upgini-text'>f_autofe_mul_cb3a4017</td><td class='upgini-text'>f_events_date_year_cos9_f85b1052</td><td class='upgini-text'>f_financial_date_usd_eur_gap_c8eb8d4a</td><td class='upgini-text'>*</td></tr><tr><td class='upgini-text'><a href='https://upgini.com/#data_sources' target='_blank' rel='noopener noreferrer'>Calendar data</a></td><td class='upgini-text'>f_autofe_mul_4b12defb</td><td class='upgini-text'>f_events_date_week_sin3_0723e6e6</td><td class='upgini-text'>f_events_date_year_cos9_f85b1052</td><td class='upgini-text'>*</td></tr></tbody></table>\n",
              "        </div>\n",
              "        "
            ]
          },
          "metadata": {}
        },
        {
          "output_type": "stream",
          "name": "stdout",
          "text": [
            "\n",
            "WARNING: We detected 36 outliers in your sample.\n",
            "Examples of outliers with maximum value of target:\n",
            "17    186\n",
            "6     181\n",
            "14    180\n",
            "Name: target, dtype: int64\n",
            "Outliers will be excluded during the metrics calculation.\n",
            "Calculating accuracy uplift after enrichment...\n"
          ]
        },
        {
          "output_type": "display_data",
          "data": {
            "text/plain": [
              "<IPython.core.display.HTML object>"
            ],
            "text/html": [
              "<style>\n",
              "            .upgini-df thead th {\n",
              "                font-weight:bold;\n",
              "                text-align: center;\n",
              "                padding: 0.5em;\n",
              "                border-bottom: 2px solid black;\n",
              "            }\n",
              "\n",
              "            .upgini-df tbody td {\n",
              "                padding: 0.5em;\n",
              "            }\n",
              "\n",
              "            .upgini-df tbody tr:nth-child(odd) {\n",
              "                background-color: #ffffff;\n",
              "            }\n",
              "\n",
              "            .upgini-df tbody tr:nth-child(even) {\n",
              "                background-color: #f2f2f2;\n",
              "            }\n",
              "\n",
              "            .upgini-text {\n",
              "                text-align: left;\n",
              "            }\n",
              "\n",
              "            .upgini-number {\n",
              "                text-align: center;\n",
              "            }\n",
              "        </style>\n",
              "        <h2>Accuracy after enrichment</h2>\n",
              "        <div style=\"display:flex; flex-direction:column; align-items:flex-end; width: fit-content;\">\n",
              "            \n",
              "            <div style=\"text-align: right\">\n",
              "                <button onclick=navigator.clipboard.writeText(decodeURI('Dataset%20type%09Rows%09Mean%20target%09Baseline%20mean_squared_error%09Enriched%20mean_squared_error%09Uplift%0ATrain%099000%0952.1781%09308.89856545903365%09241.67639715639675%0967.2221683026369%0AEval%201%093000%0952.5507%09310.50575061291363%09242.50853402803153%0967.9972165848821%0A'))>📂 Copy</button>\n",
              "                <a href='mailto:<Share with...>?subject=Relevant external data sources from Upgini.com&body=Dataset%20type%09Rows%09Mean%20target%09Baseline%20mean_squared_error%09Enriched%20mean_squared_error%09Uplift%0ATrain%099000%0952.1781%09308.89856545903365%09241.67639715639675%0967.2221683026369%0AEval%201%093000%0952.5507%09310.50575061291363%09242.50853402803153%0967.9972165848821%0A'>\n",
              "                    <button>📨 Share</button>\n",
              "                </a>\n",
              "            </div>\n",
              "            <table class='upgini-df'><thead><th>Dataset type</th><th>Rows</th><th>Mean target</th><th>Baseline mean_squared_error</th><th>Enriched mean_squared_error</th><th>Uplift</th></thead><tbody><tr><td class='upgini-text'>Train</td><td class='upgini-number'>9000</td><td class='upgini-number'>52.1781</td><td class='upgini-number'>308.8986</td><td class='upgini-number'>241.6764</td><td class='upgini-number'>67.2222</td></tr><tr><td class='upgini-text'>Eval 1</td><td class='upgini-number'>3000</td><td class='upgini-number'>52.5507</td><td class='upgini-number'>310.5058</td><td class='upgini-number'>242.5085</td><td class='upgini-number'>67.9972</td></tr></tbody></table>\n",
              "        </div>\n",
              "        "
            ]
          },
          "metadata": {}
        },
        {
          "output_type": "display_data",
          "data": {
            "text/plain": [
              "<IPython.core.display.HTML object>"
            ],
            "text/html": [
              "<a download=\"upgini-report-8e82146e-6c7e-449b-98e5-98d2395f3e95.pdf\" href=\"data:application/pdf;base64,JVBERi0xLjQKJZOMi54gUmVwb3J0TGFiIEdlbmVyYXRlZCBQREYgZG9jdW1lbnQgaHR0cDovL3d3dy5yZXBvcnRsYWIuY29tCjEgMCBvYmoKPDwKL0YxIDIgMCBSIC9GMiAzIDAgUgo+PgplbmRvYmoKMiAwIG9iago8PAovQmFzZUZvbnQgL0hlbHZldGljYSAvRW5jb2RpbmcgL1dpbkFuc2lFbmNvZGluZyAvTmFtZSAvRjEgL1N1YnR5cGUgL1R5cGUxIC9UeXBlIC9Gb250Cj4+CmVuZG9iagozIDAgb2JqCjw8Ci9CYXNlRm9udCAvSGVsdmV0aWNhLUJvbGQgL0VuY29kaW5nIC9XaW5BbnNpRW5jb2RpbmcgL05hbWUgL0YyIC9TdWJ0eXBlIC9UeXBlMSAvVHlwZSAvRm9udAo+PgplbmRvYmoKNCAwIG9iago8PAovQSA8PAovUyAvVVJJIC9UeXBlIC9BY3Rpb24gL1VSSSAoaHR0cHM6Ly91cGdpbmkuY29tKQo+PiAvQm9yZGVyIFsgMCAwIDAgXSAvUmVjdCBbIDE1IDUyNi4wMDYxIDI5LjE3IDUzMy41MDYxIF0gL1N1YnR5cGUgL0xpbmsgL1R5cGUgL0Fubm90Cj4+CmVuZG9iago1IDAgb2JqCjw8Ci9BIDw8Ci9TIC9VUkkgL1R5cGUgL0FjdGlvbiAvVVJJIChodHRwczovL3VwZ2luaS5jb20vI2RhdGFfc291cmNlcykKPj4gL0JvcmRlciBbIDAgMCAwIF0gL1JlY3QgWyAxMjkuOCA1MjYuMDA2MSAyMDAuOTM1IDUzMy41MDYxIF0gL1N1YnR5cGUgL0xpbmsgL1R5cGUgL0Fubm90Cj4+CmVuZG9iago2IDAgb2JqCjw8Ci9BIDw8Ci9TIC9VUkkgL1R5cGUgL0FjdGlvbiAvVVJJIChodHRwczovL3VwZ2luaS5jb20vcmVxdWVzdC1hLXF1b3RlP3NlYXJjaC1pZD1mNzc0ZDU3MC0zMzJmLTRjZjQtOTM2NS1lZDY0OGI0YmFiNDQpCj4+IC9Cb3JkZXIgWyAwIDAgMCBdIC9SZWN0IFsgNDc0LjIgNTI2LjAwNjEgNTEwLjg5IDUzMy41MDYxIF0gL1N1YnR5cGUgL0xpbmsgL1R5cGUgL0Fubm90Cj4+CmVuZG9iago3IDAgb2JqCjw8Ci9BIDw8Ci9TIC9VUkkgL1R5cGUgL0FjdGlvbiAvVVJJIChodHRwczovL3VwZ2luaS5jb20pCj4+IC9Cb3JkZXIgWyAwIDAgMCBdIC9SZWN0IFsgMTUgNTA0Ljc1NjEgMjkuMTcgNTEyLjI1NjEgXSAvU3VidHlwZSAvTGluayAvVHlwZSAvQW5ub3QKPj4KZW5kb2JqCjggMCBvYmoKPDwKL0EgPDwKL1MgL1VSSSAvVHlwZSAvQWN0aW9uIC9VUkkgKGh0dHBzOi8vdXBnaW5pLmNvbS8jZGF0YV9zb3VyY2VzKQo+PiAvQm9yZGVyIFsgMCAwIDAgXSAvUmVjdCBbIDE4MC4xIDUwOC41MDYxIDIxMS41MDUgNTE2LjAwNjEgXSAvU3VidHlwZSAvTGluayAvVHlwZSAvQW5ub3QKPj4KZW5kb2JqCjkgMCBvYmoKPDwKL0EgPDwKL1MgL1VSSSAvVHlwZSAvQWN0aW9uIC9VUkkgKGh0dHBzOi8vdXBnaW5pLmNvbS8jZGF0YV9zb3VyY2VzKQo+PiAvQm9yZGVyIFsgMCAwIDAgXSAvUmVjdCBbIDIxMi44OTUgNTA4LjUwNjEgMjMwLjY3NSA1MTYuMDA2MSBdIC9TdWJ0eXBlIC9MaW5rIC9UeXBlIC9Bbm5vdAo+PgplbmRvYmoKMTAgMCBvYmoKPDwKL0EgPDwKL1MgL1VSSSAvVHlwZSAvQWN0aW9uIC9VUkkgKGh0dHBzOi8vdXBnaW5pLmNvbS8jZGF0YV9zb3VyY2VzKQo+PiAvQm9yZGVyIFsgMCAwIDAgXSAvUmVjdCBbIDEyOS44IDUwMS4wMDYxIDEzOS41MyA1MDguNTA2MSBdIC9TdWJ0eXBlIC9MaW5rIC9UeXBlIC9Bbm5vdAo+PgplbmRvYmoKMTEgMCBvYmoKPDwKL0EgPDwKL1MgL1VSSSAvVHlwZSAvQWN0aW9uIC9VUkkgKGh0dHBzOi8vdXBnaW5pLmNvbS9yZXF1ZXN0LWEtcXVvdGU/c2VhcmNoLWlkPWY3NzRkNTcwLTMzMmYtNGNmNC05MzY1LWVkNjQ4YjRiYWI0NCkKPj4gL0JvcmRlciBbIDAgMCAwIF0gL1JlY3QgWyA0NzQuMiA1MDQuNzU2MSA1MTAuODkgNTEyLjI1NjEgXSAvU3VidHlwZSAvTGluayAvVHlwZSAvQW5ub3QKPj4KZW5kb2JqCjEyIDAgb2JqCjw8Ci9BIDw8Ci9TIC9VUkkgL1R5cGUgL0FjdGlvbiAvVVJJIChodHRwczovL3VwZ2luaS5jb20pCj4+IC9Cb3JkZXIgWyAwIDAgMCBdIC9SZWN0IFsgMTUgNDgzLjUwNjEgMjkuMTcgNDkxLjAwNjEgXSAvU3VidHlwZSAvTGluayAvVHlwZSAvQW5ub3QKPj4KZW5kb2JqCjEzIDAgb2JqCjw8Ci9BIDw8Ci9TIC9VUkkgL1R5cGUgL0FjdGlvbiAvVVJJIChodHRwczovL3VwZ2luaS5jb20vI2RhdGFfc291cmNlcykKPj4gL0JvcmRlciBbIDAgMCAwIF0gL1JlY3QgWyAxODAuMSA0ODMuNTA2MSAyMTEuNTA1IDQ5MS4wMDYxIF0gL1N1YnR5cGUgL0xpbmsgL1R5cGUgL0Fubm90Cj4+CmVuZG9iagoxNCAwIG9iago8PAovQSA8PAovUyAvVVJJIC9UeXBlIC9BY3Rpb24gL1VSSSAoaHR0cHM6Ly91cGdpbmkuY29tL3JlcXVlc3QtYS1xdW90ZT9zZWFyY2gtaWQ9Zjc3NGQ1NzAtMzMyZi00Y2Y0LTkzNjUtZWQ2NDhiNGJhYjQ0KQo+PiAvQm9yZGVyIFsgMCAwIDAgXSAvUmVjdCBbIDQ3NC4yIDQ4My41MDYxIDUxMC44OSA0OTEuMDA2MSBdIC9TdWJ0eXBlIC9MaW5rIC9UeXBlIC9Bbm5vdAo+PgplbmRvYmoKMTUgMCBvYmoKPDwKL0EgPDwKL1MgL1VSSSAvVHlwZSAvQWN0aW9uIC9VUkkgKGh0dHBzOi8vdXBnaW5pLmNvbSkKPj4gL0JvcmRlciBbIDAgMCAwIF0gL1JlY3QgWyAxNSA0NjYuMDA2MSAyOS4xNyA0NzMuNTA2MSBdIC9TdWJ0eXBlIC9MaW5rIC9UeXBlIC9Bbm5vdAo+PgplbmRvYmoKMTYgMCBvYmoKPDwKL0EgPDwKL1MgL1VSSSAvVHlwZSAvQWN0aW9uIC9VUkkgKGh0dHBzOi8vdXBnaW5pLmNvbS8jZGF0YV9zb3VyY2VzKQo+PiAvQm9yZGVyIFsgMCAwIDAgXSAvUmVjdCBbIDE4MC4xIDQ2Ni4wMDYxIDIwOSA0NzMuNTA2MSBdIC9TdWJ0eXBlIC9MaW5rIC9UeXBlIC9Bbm5vdAo+PgplbmRvYmoKMTcgMCBvYmoKPDwKL0EgPDwKL1MgL1VSSSAvVHlwZSAvQWN0aW9uIC9VUkkgKGh0dHBzOi8vdXBnaW5pLmNvbS9yZXF1ZXN0LWEtcXVvdGU/c2VhcmNoLWlkPWY3NzRkNTcwLTMzMmYtNGNmNC05MzY1LWVkNjQ4YjRiYWI0NCkKPj4gL0JvcmRlciBbIDAgMCAwIF0gL1JlY3QgWyA0NzQuMiA0NjYuMDA2MSA1MTAuODkgNDczLjUwNjEgXSAvU3VidHlwZSAvTGluayAvVHlwZSAvQW5ub3QKPj4KZW5kb2JqCjE4IDAgb2JqCjw8Ci9BIDw8Ci9TIC9VUkkgL1R5cGUgL0FjdGlvbiAvVVJJIChodHRwczovL3VwZ2luaS5jb20pCj4+IC9Cb3JkZXIgWyAwIDAgMCBdIC9SZWN0IFsgMTUgNDQ4LjUwNjEgMjkuMTcgNDU2LjAwNjEgXSAvU3VidHlwZSAvTGluayAvVHlwZSAvQW5ub3QKPj4KZW5kb2JqCjE5IDAgb2JqCjw8Ci9BIDw8Ci9TIC9VUkkgL1R5cGUgL0FjdGlvbiAvVVJJIChodHRwczovL3VwZ2luaS5jb20vI2RhdGFfc291cmNlcykKPj4gL0JvcmRlciBbIDAgMCAwIF0gL1JlY3QgWyAxMjkuOCA0NDguNTA2MSAxNjEuMjA1IDQ1Ni4wMDYxIF0gL1N1YnR5cGUgL0xpbmsgL1R5cGUgL0Fubm90Cj4+CmVuZG9iagoyMCAwIG9iago8PAovQSA8PAovUyAvVVJJIC9UeXBlIC9BY3Rpb24gL1VSSSAoaHR0cHM6Ly91cGdpbmkuY29tL3JlcXVlc3QtYS1xdW90ZT9zZWFyY2gtaWQ9Zjc3NGQ1NzAtMzMyZi00Y2Y0LTkzNjUtZWQ2NDhiNGJhYjQ0KQo+PiAvQm9yZGVyIFsgMCAwIDAgXSAvUmVjdCBbIDQ3NC4yIDQ0OC41MDYxIDUxMC44OSA0NTYuMDA2MSBdIC9TdWJ0eXBlIC9MaW5rIC9UeXBlIC9Bbm5vdAo+PgplbmRvYmoKMjEgMCBvYmoKPDwKL0EgPDwKL1MgL1VSSSAvVHlwZSAvQWN0aW9uIC9VUkkgKGh0dHBzOi8vdXBnaW5pLmNvbSkKPj4gL0JvcmRlciBbIDAgMCAwIF0gL1JlY3QgWyAxNSA0MzEuMDA2MSAyOS4xNyA0MzguNTA2MSBdIC9TdWJ0eXBlIC9MaW5rIC9UeXBlIC9Bbm5vdAo+PgplbmRvYmoKMjIgMCBvYmoKPDwKL0EgPDwKL1MgL1VSSSAvVHlwZSAvQWN0aW9uIC9VUkkgKGh0dHBzOi8vdXBnaW5pLmNvbS8jZGF0YV9zb3VyY2VzKQo+PiAvQm9yZGVyIFsgMCAwIDAgXSAvUmVjdCBbIDEyOS44IDQzMS4wMDYxIDE1OC43IDQzOC41MDYxIF0gL1N1YnR5cGUgL0xpbmsgL1R5cGUgL0Fubm90Cj4+CmVuZG9iagoyMyAwIG9iago8PAovQSA8PAovUyAvVVJJIC9UeXBlIC9BY3Rpb24gL1VSSSAoaHR0cHM6Ly91cGdpbmkuY29tL3JlcXVlc3QtYS1xdW90ZT9zZWFyY2gtaWQ9Zjc3NGQ1NzAtMzMyZi00Y2Y0LTkzNjUtZWQ2NDhiNGJhYjQ0KQo+PiAvQm9yZGVyIFsgMCAwIDAgXSAvUmVjdCBbIDQ3NC4yIDQzMS4wMDYxIDUxMC44OSA0MzguNTA2MSBdIC9TdWJ0eXBlIC9MaW5rIC9UeXBlIC9Bbm5vdAo+PgplbmRvYmoKMjQgMCBvYmoKPDwKL0EgPDwKL1MgL1VSSSAvVHlwZSAvQWN0aW9uIC9VUkkgKGh0dHBzOi8vdXBnaW5pLmNvbS8jZGF0YV9zb3VyY2VzKQo+PiAvQm9yZGVyIFsgMCAwIDAgXSAvUmVjdCBbIDQ3NS4zIDI5MC42NTY0IDQ5NS41ODUgMjk4LjE1NjQgXSAvU3VidHlwZSAvTGluayAvVHlwZSAvQW5ub3QKPj4KZW5kb2JqCjI1IDAgb2JqCjw8Ci9BIDw8Ci9TIC9VUkkgL1R5cGUgL0FjdGlvbiAvVVJJIChodHRwczovL3VwZ2luaS5jb20vI2RhdGFfc291cmNlcykKPj4gL0JvcmRlciBbIDAgMCAwIF0gL1JlY3QgWyA0MjUgMjgzLjE1NjQgNDM0LjczIDI5MC42NTY0IF0gL1N1YnR5cGUgL0xpbmsgL1R5cGUgL0Fubm90Cj4+CmVuZG9iagoyNiAwIG9iago8PAovQSA8PAovUyAvVVJJIC9UeXBlIC9BY3Rpb24gL1VSSSAoaHR0cHM6Ly91cGdpbmkuY29tLyNkYXRhX3NvdXJjZXMpCj4+IC9Cb3JkZXIgWyAwIDAgMCBdIC9SZWN0IFsgNDc1LjMgMjY1LjY1NjQgNDk1LjU4NSAyNzMuMTU2NCBdIC9TdWJ0eXBlIC9MaW5rIC9UeXBlIC9Bbm5vdAo+PgplbmRvYmoKMjcgMCBvYmoKPDwKL0EgPDwKL1MgL1VSSSAvVHlwZSAvQWN0aW9uIC9VUkkgKGh0dHBzOi8vdXBnaW5pLmNvbS8jZGF0YV9zb3VyY2VzKQo+PiAvQm9yZGVyIFsgMCAwIDAgXSAvUmVjdCBbIDQyNSAyNTguMTU2NCA0MzQuNzMgMjY1LjY1NjQgXSAvU3VidHlwZSAvTGluayAvVHlwZSAvQW5ub3QKPj4KZW5kb2JqCjI4IDAgb2JqCjw8Ci9BIDw8Ci9TIC9VUkkgL1R5cGUgL0FjdGlvbiAvVVJJIChodHRwczovL3VwZ2luaS5jb20vI2RhdGFfc291cmNlcykKPj4gL0JvcmRlciBbIDAgMCAwIF0gL1JlY3QgWyA0MzYuMTIgMjU4LjE1NjQgNDY1LjAyIDI2NS42NTY0IF0gL1N1YnR5cGUgL0xpbmsgL1R5cGUgL0Fubm90Cj4+CmVuZG9iagoyOSAwIG9iago8PAovQSA8PAovUyAvVVJJIC9UeXBlIC9BY3Rpb24gL1VSSSAoaHR0cHM6Ly91cGdpbmkuY29tLyNkYXRhX3NvdXJjZXMpCj4+IC9Cb3JkZXIgWyAwIDAgMCBdIC9SZWN0IFsgNDc1LjMgMjQwLjY1NjQgNDk1LjU4NSAyNDguMTU2NCBdIC9TdWJ0eXBlIC9MaW5rIC9UeXBlIC9Bbm5vdAo+PgplbmRvYmoKMzAgMCBvYmoKPDwKL0EgPDwKL1MgL1VSSSAvVHlwZSAvQWN0aW9uIC9VUkkgKGh0dHBzOi8vdXBnaW5pLmNvbS8jZGF0YV9zb3VyY2VzKQo+PiAvQm9yZGVyIFsgMCAwIDAgXSAvUmVjdCBbIDQyNSAyMzMuMTU2NCA0MzQuNzMgMjQwLjY1NjQgXSAvU3VidHlwZSAvTGluayAvVHlwZSAvQW5ub3QKPj4KZW5kb2JqCjMxIDAgb2JqCjw8Ci9BIDw8Ci9TIC9VUkkgL1R5cGUgL0FjdGlvbiAvVVJJIChodHRwczovL3VwZ2luaS5jb20vI2RhdGFfc291cmNlcykKPj4gL0JvcmRlciBbIDAgMCAwIF0gL1JlY3QgWyA0MzYuMTIgMjMzLjE1NjQgNDY1LjAyIDI0MC42NTY0IF0gL1N1YnR5cGUgL0xpbmsgL1R5cGUgL0Fubm90Cj4+CmVuZG9iagozMiAwIG9iago8PAovQSA8PAovUyAvVVJJIC9UeXBlIC9BY3Rpb24gL1VSSSAoaHR0cHM6Ly91cGdpbmkuY29tLyNkYXRhX3NvdXJjZXMpCj4+IC9Cb3JkZXIgWyAwIDAgMCBdIC9SZWN0IFsgNDc1LjMgMjE1LjY1NjQgNDk1LjU4NSAyMjMuMTU2NCBdIC9TdWJ0eXBlIC9MaW5rIC9UeXBlIC9Bbm5vdAo+PgplbmRvYmoKMzMgMCBvYmoKPDwKL0EgPDwKL1MgL1VSSSAvVHlwZSAvQWN0aW9uIC9VUkkgKGh0dHBzOi8vdXBnaW5pLmNvbS8jZGF0YV9zb3VyY2VzKQo+PiAvQm9yZGVyIFsgMCAwIDAgXSAvUmVjdCBbIDQyNSAyMDguMTU2NCA0MzQuNzMgMjE1LjY1NjQgXSAvU3VidHlwZSAvTGluayAvVHlwZSAvQW5ub3QKPj4KZW5kb2JqCjM0IDAgb2JqCjw8Ci9BIDw8Ci9TIC9VUkkgL1R5cGUgL0FjdGlvbiAvVVJJIChodHRwczovL3VwZ2luaS5jb20vI2RhdGFfc291cmNlcykKPj4gL0JvcmRlciBbIDAgMCAwIF0gL1JlY3QgWyA0MzYuMTIgMjA4LjE1NjQgNDY1LjAyIDIxNS42NTY0IF0gL1N1YnR5cGUgL0xpbmsgL1R5cGUgL0Fubm90Cj4+CmVuZG9iagozNSAwIG9iago8PAovQSA8PAovUyAvVVJJIC9UeXBlIC9BY3Rpb24gL1VSSSAoaHR0cHM6Ly91cGdpbmkuY29tLyNkYXRhX3NvdXJjZXMpCj4+IC9Cb3JkZXIgWyAwIDAgMCBdIC9SZWN0IFsgNDc1LjMgMTkwLjY1NjQgNDkzLjA4IDE5OC4xNTY0IF0gL1N1YnR5cGUgL0xpbmsgL1R5cGUgL0Fubm90Cj4+CmVuZG9iagozNiAwIG9iago8PAovQSA8PAovUyAvVVJJIC9UeXBlIC9BY3Rpb24gL1VSSSAoaHR0cHM6Ly91cGdpbmkuY29tLyNkYXRhX3NvdXJjZXMpCj4+IC9Cb3JkZXIgWyAwIDAgMCBdIC9SZWN0IFsgNDI1IDE4My4xNTY0IDQzNC43MyAxOTAuNjU2NCBdIC9TdWJ0eXBlIC9MaW5rIC9UeXBlIC9Bbm5vdAo+PgplbmRvYmoKMzcgMCBvYmoKPDwKL0EgPDwKL1MgL1VSSSAvVHlwZSAvQWN0aW9uIC9VUkkgKGh0dHBzOi8vdXBnaW5pLmNvbS8jZGF0YV9zb3VyY2VzKQo+PiAvQm9yZGVyIFsgMCAwIDAgXSAvUmVjdCBbIDQ3NS4zIDE2NS42NTY0IDQ5NS41ODUgMTczLjE1NjQgXSAvU3VidHlwZSAvTGluayAvVHlwZSAvQW5ub3QKPj4KZW5kb2JqCjM4IDAgb2JqCjw8Ci9BIDw8Ci9TIC9VUkkgL1R5cGUgL0FjdGlvbiAvVVJJIChodHRwczovL3VwZ2luaS5jb20vI2RhdGFfc291cmNlcykKPj4gL0JvcmRlciBbIDAgMCAwIF0gL1JlY3QgWyA0MjUgMTU4LjE1NjQgNDM0LjczIDE2NS42NTY0IF0gL1N1YnR5cGUgL0xpbmsgL1R5cGUgL0Fubm90Cj4+CmVuZG9iagozOSAwIG9iago8PAovQSA8PAovUyAvVVJJIC9UeXBlIC9BY3Rpb24gL1VSSSAoaHR0cHM6Ly91cGdpbmkuY29tLyNkYXRhX3NvdXJjZXMpCj4+IC9Cb3JkZXIgWyAwIDAgMCBdIC9SZWN0IFsgNDc1LjMgMTQwLjY1NjQgNDk1LjU4NSAxNDguMTU2NCBdIC9TdWJ0eXBlIC9MaW5rIC9UeXBlIC9Bbm5vdAo+PgplbmRvYmoKNDAgMCBvYmoKPDwKL0EgPDwKL1MgL1VSSSAvVHlwZSAvQWN0aW9uIC9VUkkgKGh0dHBzOi8vdXBnaW5pLmNvbS8jZGF0YV9zb3VyY2VzKQo+PiAvQm9yZGVyIFsgMCAwIDAgXSAvUmVjdCBbIDQyNSAxMzMuMTU2NCA0MzQuNzMgMTQwLjY1NjQgXSAvU3VidHlwZSAvTGluayAvVHlwZSAvQW5ub3QKPj4KZW5kb2JqCjQxIDAgb2JqCjw8Ci9BIDw8Ci9TIC9VUkkgL1R5cGUgL0FjdGlvbiAvVVJJIChodHRwczovL3VwZ2luaS5jb20vI2RhdGFfc291cmNlcykKPj4gL0JvcmRlciBbIDAgMCAwIF0gL1JlY3QgWyA0MzYuMTIgMTMzLjE1NjQgNDY1LjAyIDE0MC42NTY0IF0gL1N1YnR5cGUgL0xpbmsgL1R5cGUgL0Fubm90Cj4+CmVuZG9iago0MiAwIG9iago8PAovQSA8PAovUyAvVVJJIC9UeXBlIC9BY3Rpb24gL1VSSSAoaHR0cHM6Ly91cGdpbmkuY29tLyNkYXRhX3NvdXJjZXMpCj4+IC9Cb3JkZXIgWyAwIDAgMCBdIC9SZWN0IFsgNDc1LjMgMTE1LjY1NjQgNDkzLjA4IDEyMy4xNTY0IF0gL1N1YnR5cGUgL0xpbmsgL1R5cGUgL0Fubm90Cj4+CmVuZG9iago0MyAwIG9iago8PAovQSA8PAovUyAvVVJJIC9UeXBlIC9BY3Rpb24gL1VSSSAoaHR0cHM6Ly91cGdpbmkuY29tLyNkYXRhX3NvdXJjZXMpCj4+IC9Cb3JkZXIgWyAwIDAgMCBdIC9SZWN0IFsgNDI1IDEwOC4xNTY0IDQzNC43MyAxMTUuNjU2NCBdIC9TdWJ0eXBlIC9MaW5rIC9UeXBlIC9Bbm5vdAo+PgplbmRvYmoKNDQgMCBvYmoKPDwKL0EgPDwKL1MgL1VSSSAvVHlwZSAvQWN0aW9uIC9VUkkgKGh0dHBzOi8vdXBnaW5pLmNvbS8jZGF0YV9zb3VyY2VzKQo+PiAvQm9yZGVyIFsgMCAwIDAgXSAvUmVjdCBbIDQ3NS4zIDkwLjY1NjQ0IDQ5NS41ODUgOTguMTU2NDQgXSAvU3VidHlwZSAvTGluayAvVHlwZSAvQW5ub3QKPj4KZW5kb2JqCjQ1IDAgb2JqCjw8Ci9BIDw8Ci9TIC9VUkkgL1R5cGUgL0FjdGlvbiAvVVJJIChodHRwczovL3VwZ2luaS5jb20vI2RhdGFfc291cmNlcykKPj4gL0JvcmRlciBbIDAgMCAwIF0gL1JlY3QgWyA0MjUgODMuMTU2NDQgNDM0LjczIDkwLjY1NjQ0IF0gL1N1YnR5cGUgL0xpbmsgL1R5cGUgL0Fubm90Cj4+CmVuZG9iago0NiAwIG9iago8PAovQW5ub3RzIFsgNCAwIFIgNSAwIFIgNiAwIFIgNyAwIFIgOCAwIFIgOSAwIFIgMTAgMCBSIDExIDAgUiAxMiAwIFIgMTMgMCBSIAogIDE0IDAgUiAxNSAwIFIgMTYgMCBSIDE3IDAgUiAxOCAwIFIgMTkgMCBSIDIwIDAgUiAyMSAwIFIgMjIgMCBSIDIzIDAgUiAKICAyNCAwIFIgMjUgMCBSIDI2IDAgUiAyNyAwIFIgMjggMCBSIDI5IDAgUiAzMCAwIFIgMzEgMCBSIDMyIDAgUiAzMyAwIFIgCiAgMzQgMCBSIDM1IDAgUiAzNiAwIFIgMzcgMCBSIDM4IDAgUiAzOSAwIFIgNDAgMCBSIDQxIDAgUiA0MiAwIFIgNDMgMCBSIAogIDQ0IDAgUiA0NSAwIFIgXSAvQ29udGVudHMgMTQ0IDAgUiAvTWVkaWFCb3ggWyAwIDAgNTk1LjI3NTYgODQxLjg4OTggXSAvUGFyZW50IDE0MyAwIFIgL1Jlc291cmNlcyA8PAovRm9udCAxIDAgUiAvUHJvY1NldCBbIC9QREYgL1RleHQgL0ltYWdlQiAvSW1hZ2VDIC9JbWFnZUkgXQo+PiAvUm90YXRlIDAgCiAgL1RyYW5zIDw8Cgo+PiAvVHlwZSAvUGFnZQo+PgplbmRvYmoKNDcgMCBvYmoKPDwKL0EgPDwKL1MgL1VSSSAvVHlwZSAvQWN0aW9uIC9VUkkgKGh0dHBzOi8vdXBnaW5pLmNvbS8jZGF0YV9zb3VyY2VzKQo+PiAvQm9yZGVyIFsgMCAwIDAgXSAvUmVjdCBbIDQ3NS4zIDc4Mi42NzQ4IDQ5My4wOCA3OTAuMTc0OCBdIC9TdWJ0eXBlIC9MaW5rIC9UeXBlIC9Bbm5vdAo+PgplbmRvYmoKNDggMCBvYmoKPDwKL0EgPDwKL1MgL1VSSSAvVHlwZSAvQWN0aW9uIC9VUkkgKGh0dHBzOi8vdXBnaW5pLmNvbS8jZGF0YV9zb3VyY2VzKQo+PiAvQm9yZGVyIFsgMCAwIDAgXSAvUmVjdCBbIDQyNSA3NzUuMTc0OCA0MzQuNzMgNzgyLjY3NDggXSAvU3VidHlwZSAvTGluayAvVHlwZSAvQW5ub3QKPj4KZW5kb2JqCjQ5IDAgb2JqCjw8Ci9BIDw8Ci9TIC9VUkkgL1R5cGUgL0FjdGlvbiAvVVJJIChodHRwczovL3VwZ2luaS5jb20vI2RhdGFfc291cmNlcykKPj4gL0JvcmRlciBbIDAgMCAwIF0gL1JlY3QgWyA0NzUuMyA3MzIuNjc0OCA0OTUuNTg1IDc0MC4xNzQ4IF0gL1N1YnR5cGUgL0xpbmsgL1R5cGUgL0Fubm90Cj4+CmVuZG9iago1MCAwIG9iago8PAovQSA8PAovUyAvVVJJIC9UeXBlIC9BY3Rpb24gL1VSSSAoaHR0cHM6Ly91cGdpbmkuY29tLyNkYXRhX3NvdXJjZXMpCj4+IC9Cb3JkZXIgWyAwIDAgMCBdIC9SZWN0IFsgNDI1IDcyNS4xNzQ4IDQzNC43MyA3MzIuNjc0OCBdIC9TdWJ0eXBlIC9MaW5rIC9UeXBlIC9Bbm5vdAo+PgplbmRvYmoKNTEgMCBvYmoKPDwKL0EgPDwKL1MgL1VSSSAvVHlwZSAvQWN0aW9uIC9VUkkgKGh0dHBzOi8vdXBnaW5pLmNvbS8jZGF0YV9zb3VyY2VzKQo+PiAvQm9yZGVyIFsgMCAwIDAgXSAvUmVjdCBbIDQ3NS4zIDcwNy42NzQ4IDQ5NS41ODUgNzE1LjE3NDggXSAvU3VidHlwZSAvTGluayAvVHlwZSAvQW5ub3QKPj4KZW5kb2JqCjUyIDAgb2JqCjw8Ci9BIDw8Ci9TIC9VUkkgL1R5cGUgL0FjdGlvbiAvVVJJIChodHRwczovL3VwZ2luaS5jb20vI2RhdGFfc291cmNlcykKPj4gL0JvcmRlciBbIDAgMCAwIF0gL1JlY3QgWyA0MjUgNzAwLjE3NDggNDM0LjczIDcwNy42NzQ4IF0gL1N1YnR5cGUgL0xpbmsgL1R5cGUgL0Fubm90Cj4+CmVuZG9iago1MyAwIG9iago8PAovQSA8PAovUyAvVVJJIC9UeXBlIC9BY3Rpb24gL1VSSSAoaHR0cHM6Ly91cGdpbmkuY29tLyNkYXRhX3NvdXJjZXMpCj4+IC9Cb3JkZXIgWyAwIDAgMCBdIC9SZWN0IFsgNDM2LjEyIDcwMC4xNzQ4IDQ2NS4wMiA3MDcuNjc0OCBdIC9TdWJ0eXBlIC9MaW5rIC9UeXBlIC9Bbm5vdAo+PgplbmRvYmoKNTQgMCBvYmoKPDwKL0EgPDwKL1MgL1VSSSAvVHlwZSAvQWN0aW9uIC9VUkkgKGh0dHBzOi8vdXBnaW5pLmNvbS8jZGF0YV9zb3VyY2VzKQo+PiAvQm9yZGVyIFsgMCAwIDAgXSAvUmVjdCBbIDQ3NS4zIDY4Mi42NzQ4IDQ5NS41ODUgNjkwLjE3NDggXSAvU3VidHlwZSAvTGluayAvVHlwZSAvQW5ub3QKPj4KZW5kb2JqCjU1IDAgb2JqCjw8Ci9BIDw8Ci9TIC9VUkkgL1R5cGUgL0FjdGlvbiAvVVJJIChodHRwczovL3VwZ2luaS5jb20vI2RhdGFfc291cmNlcykKPj4gL0JvcmRlciBbIDAgMCAwIF0gL1JlY3QgWyA0MjUgNjc1LjE3NDggNDM0LjczIDY4Mi42NzQ4IF0gL1N1YnR5cGUgL0xpbmsgL1R5cGUgL0Fubm90Cj4+CmVuZG9iago1NiAwIG9iago8PAovQSA8PAovUyAvVVJJIC9UeXBlIC9BY3Rpb24gL1VSSSAoaHR0cHM6Ly91cGdpbmkuY29tLyNkYXRhX3NvdXJjZXMpCj4+IC9Cb3JkZXIgWyAwIDAgMCBdIC9SZWN0IFsgNDc1LjMgNjMyLjY3NDggNDk1LjU4NSA2NDAuMTc0OCBdIC9TdWJ0eXBlIC9MaW5rIC9UeXBlIC9Bbm5vdAo+PgplbmRvYmoKNTcgMCBvYmoKPDwKL0EgPDwKL1MgL1VSSSAvVHlwZSAvQWN0aW9uIC9VUkkgKGh0dHBzOi8vdXBnaW5pLmNvbS8jZGF0YV9zb3VyY2VzKQo+PiAvQm9yZGVyIFsgMCAwIDAgXSAvUmVjdCBbIDQyNSA2MjUuMTc0OCA0MzQuNzMgNjMyLjY3NDggXSAvU3VidHlwZSAvTGluayAvVHlwZSAvQW5ub3QKPj4KZW5kb2JqCjU4IDAgb2JqCjw8Ci9BIDw8Ci9TIC9VUkkgL1R5cGUgL0FjdGlvbiAvVVJJIChodHRwczovL3VwZ2luaS5jb20vI2RhdGFfc291cmNlcykKPj4gL0JvcmRlciBbIDAgMCAwIF0gL1JlY3QgWyA0MzYuMTIgNjI1LjE3NDggNDY1LjAyIDYzMi42NzQ4IF0gL1N1YnR5cGUgL0xpbmsgL1R5cGUgL0Fubm90Cj4+CmVuZG9iago1OSAwIG9iago8PAovQSA8PAovUyAvVVJJIC9UeXBlIC9BY3Rpb24gL1VSSSAoaHR0cHM6Ly91cGdpbmkuY29tLyNkYXRhX3NvdXJjZXMpCj4+IC9Cb3JkZXIgWyAwIDAgMCBdIC9SZWN0IFsgNDc1LjMgNjA3LjY3NDggNDk1LjU4NSA2MTUuMTc0OCBdIC9TdWJ0eXBlIC9MaW5rIC9UeXBlIC9Bbm5vdAo+PgplbmRvYmoKNjAgMCBvYmoKPDwKL0EgPDwKL1MgL1VSSSAvVHlwZSAvQWN0aW9uIC9VUkkgKGh0dHBzOi8vdXBnaW5pLmNvbS8jZGF0YV9zb3VyY2VzKQo+PiAvQm9yZGVyIFsgMCAwIDAgXSAvUmVjdCBbIDQyNSA2MDAuMTc0OCA0MzQuNzMgNjA3LjY3NDggXSAvU3VidHlwZSAvTGluayAvVHlwZSAvQW5ub3QKPj4KZW5kb2JqCjYxIDAgb2JqCjw8Ci9BIDw8Ci9TIC9VUkkgL1R5cGUgL0FjdGlvbiAvVVJJIChodHRwczovL3VwZ2luaS5jb20vI2RhdGFfc291cmNlcykKPj4gL0JvcmRlciBbIDAgMCAwIF0gL1JlY3QgWyA0MzYuMTIgNjAwLjE3NDggNDY1LjAyIDYwNy42NzQ4IF0gL1N1YnR5cGUgL0xpbmsgL1R5cGUgL0Fubm90Cj4+CmVuZG9iago2MiAwIG9iago8PAovQSA8PAovUyAvVVJJIC9UeXBlIC9BY3Rpb24gL1VSSSAoaHR0cHM6Ly91cGdpbmkuY29tLyNkYXRhX3NvdXJjZXMpCj4+IC9Cb3JkZXIgWyAwIDAgMCBdIC9SZWN0IFsgNDc1LjMgNTgyLjY3NDggNDk1LjU4NSA1OTAuMTc0OCBdIC9TdWJ0eXBlIC9MaW5rIC9UeXBlIC9Bbm5vdAo+PgplbmRvYmoKNjMgMCBvYmoKPDwKL0EgPDwKL1MgL1VSSSAvVHlwZSAvQWN0aW9uIC9VUkkgKGh0dHBzOi8vdXBnaW5pLmNvbS8jZGF0YV9zb3VyY2VzKQo+PiAvQm9yZGVyIFsgMCAwIDAgXSAvUmVjdCBbIDQyNSA1NzUuMTc0OCA0MzQuNzMgNTgyLjY3NDggXSAvU3VidHlwZSAvTGluayAvVHlwZSAvQW5ub3QKPj4KZW5kb2JqCjY0IDAgb2JqCjw8Ci9BIDw8Ci9TIC9VUkkgL1R5cGUgL0FjdGlvbiAvVVJJIChodHRwczovL3VwZ2luaS5jb20vI2RhdGFfc291cmNlcykKPj4gL0JvcmRlciBbIDAgMCAwIF0gL1JlY3QgWyA0MzYuMTIgNTc1LjE3NDggNDY1LjAyIDU4Mi42NzQ4IF0gL1N1YnR5cGUgL0xpbmsgL1R5cGUgL0Fubm90Cj4+CmVuZG9iago2NSAwIG9iago8PAovQSA8PAovUyAvVVJJIC9UeXBlIC9BY3Rpb24gL1VSSSAoaHR0cHM6Ly91cGdpbmkuY29tLyNkYXRhX3NvdXJjZXMpCj4+IC9Cb3JkZXIgWyAwIDAgMCBdIC9SZWN0IFsgNDc1LjMgNTU3LjY3NDggNDkzLjA4IDU2NS4xNzQ4IF0gL1N1YnR5cGUgL0xpbmsgL1R5cGUgL0Fubm90Cj4+CmVuZG9iago2NiAwIG9iago8PAovQSA8PAovUyAvVVJJIC9UeXBlIC9BY3Rpb24gL1VSSSAoaHR0cHM6Ly91cGdpbmkuY29tLyNkYXRhX3NvdXJjZXMpCj4+IC9Cb3JkZXIgWyAwIDAgMCBdIC9SZWN0IFsgNDI1IDU1MC4xNzQ4IDQzNC43MyA1NTcuNjc0OCBdIC9TdWJ0eXBlIC9MaW5rIC9UeXBlIC9Bbm5vdAo+PgplbmRvYmoKNjcgMCBvYmoKPDwKL0EgPDwKL1MgL1VSSSAvVHlwZSAvQWN0aW9uIC9VUkkgKGh0dHBzOi8vdXBnaW5pLmNvbS8jZGF0YV9zb3VyY2VzKQo+PiAvQm9yZGVyIFsgMCAwIDAgXSAvUmVjdCBbIDQ3NS4zIDUzMi42NzQ4IDQ5NS41ODUgNTQwLjE3NDggXSAvU3VidHlwZSAvTGluayAvVHlwZSAvQW5ub3QKPj4KZW5kb2JqCjY4IDAgb2JqCjw8Ci9BIDw8Ci9TIC9VUkkgL1R5cGUgL0FjdGlvbiAvVVJJIChodHRwczovL3VwZ2luaS5jb20vI2RhdGFfc291cmNlcykKPj4gL0JvcmRlciBbIDAgMCAwIF0gL1JlY3QgWyA0MjUgNTI1LjE3NDggNDM0LjczIDUzMi42NzQ4IF0gL1N1YnR5cGUgL0xpbmsgL1R5cGUgL0Fubm90Cj4+CmVuZG9iago2OSAwIG9iago8PAovQSA8PAovUyAvVVJJIC9UeXBlIC9BY3Rpb24gL1VSSSAoaHR0cHM6Ly91cGdpbmkuY29tLyNkYXRhX3NvdXJjZXMpCj4+IC9Cb3JkZXIgWyAwIDAgMCBdIC9SZWN0IFsgNDc1LjMgNDgyLjY3NDggNDkzLjA4IDQ5MC4xNzQ4IF0gL1N1YnR5cGUgL0xpbmsgL1R5cGUgL0Fubm90Cj4+CmVuZG9iago3MCAwIG9iago8PAovQSA8PAovUyAvVVJJIC9UeXBlIC9BY3Rpb24gL1VSSSAoaHR0cHM6Ly91cGdpbmkuY29tLyNkYXRhX3NvdXJjZXMpCj4+IC9Cb3JkZXIgWyAwIDAgMCBdIC9SZWN0IFsgNDI1IDQ3NS4xNzQ4IDQzNC43MyA0ODIuNjc0OCBdIC9TdWJ0eXBlIC9MaW5rIC9UeXBlIC9Bbm5vdAo+PgplbmRvYmoKNzEgMCBvYmoKPDwKL0EgPDwKL1MgL1VSSSAvVHlwZSAvQWN0aW9uIC9VUkkgKGh0dHBzOi8vdXBnaW5pLmNvbS8jZGF0YV9zb3VyY2VzKQo+PiAvQm9yZGVyIFsgMCAwIDAgXSAvUmVjdCBbIDQ3NS4zIDQ1Ny42NzQ4IDQ5NS41ODUgNDY1LjE3NDggXSAvU3VidHlwZSAvTGluayAvVHlwZSAvQW5ub3QKPj4KZW5kb2JqCjcyIDAgb2JqCjw8Ci9BIDw8Ci9TIC9VUkkgL1R5cGUgL0FjdGlvbiAvVVJJIChodHRwczovL3VwZ2luaS5jb20vI2RhdGFfc291cmNlcykKPj4gL0JvcmRlciBbIDAgMCAwIF0gL1JlY3QgWyA0MjUgNDUwLjE3NDggNDM0LjczIDQ1Ny42NzQ4IF0gL1N1YnR5cGUgL0xpbmsgL1R5cGUgL0Fubm90Cj4+CmVuZG9iago3MyAwIG9iago8PAovQSA8PAovUyAvVVJJIC9UeXBlIC9BY3Rpb24gL1VSSSAoaHR0cHM6Ly91cGdpbmkuY29tLyNkYXRhX3NvdXJjZXMpCj4+IC9Cb3JkZXIgWyAwIDAgMCBdIC9SZWN0IFsgNDM2LjEyIDQ1MC4xNzQ4IDQ2NS4wMiA0NTcuNjc0OCBdIC9TdWJ0eXBlIC9MaW5rIC9UeXBlIC9Bbm5vdAo+PgplbmRvYmoKNzQgMCBvYmoKPDwKL0EgPDwKL1MgL1VSSSAvVHlwZSAvQWN0aW9uIC9VUkkgKGh0dHBzOi8vdXBnaW5pLmNvbS8jZGF0YV9zb3VyY2VzKQo+PiAvQm9yZGVyIFsgMCAwIDAgXSAvUmVjdCBbIDQ3NS4zIDQzMi42NzQ4IDQ5NS41ODUgNDQwLjE3NDggXSAvU3VidHlwZSAvTGluayAvVHlwZSAvQW5ub3QKPj4KZW5kb2JqCjc1IDAgb2JqCjw8Ci9BIDw8Ci9TIC9VUkkgL1R5cGUgL0FjdGlvbiAvVVJJIChodHRwczovL3VwZ2luaS5jb20vI2RhdGFfc291cmNlcykKPj4gL0JvcmRlciBbIDAgMCAwIF0gL1JlY3QgWyA0MjUgNDI1LjE3NDggNDM0LjczIDQzMi42NzQ4IF0gL1N1YnR5cGUgL0xpbmsgL1R5cGUgL0Fubm90Cj4+CmVuZG9iago3NiAwIG9iago8PAovQSA8PAovUyAvVVJJIC9UeXBlIC9BY3Rpb24gL1VSSSAoaHR0cHM6Ly91cGdpbmkuY29tLyNkYXRhX3NvdXJjZXMpCj4+IC9Cb3JkZXIgWyAwIDAgMCBdIC9SZWN0IFsgNDM2LjEyIDQyNS4xNzQ4IDQ2NS4wMiA0MzIuNjc0OCBdIC9TdWJ0eXBlIC9MaW5rIC9UeXBlIC9Bbm5vdAo+PgplbmRvYmoKNzcgMCBvYmoKPDwKL0EgPDwKL1MgL1VSSSAvVHlwZSAvQWN0aW9uIC9VUkkgKGh0dHBzOi8vdXBnaW5pLmNvbS8jZGF0YV9zb3VyY2VzKQo+PiAvQm9yZGVyIFsgMCAwIDAgXSAvUmVjdCBbIDQ3NS4zIDQwNy42NzQ4IDQ5NS41ODUgNDE1LjE3NDggXSAvU3VidHlwZSAvTGluayAvVHlwZSAvQW5ub3QKPj4KZW5kb2JqCjc4IDAgb2JqCjw8Ci9BIDw8Ci9TIC9VUkkgL1R5cGUgL0FjdGlvbiAvVVJJIChodHRwczovL3VwZ2luaS5jb20vI2RhdGFfc291cmNlcykKPj4gL0JvcmRlciBbIDAgMCAwIF0gL1JlY3QgWyA0MjUgNDAwLjE3NDggNDM0LjczIDQwNy42NzQ4IF0gL1N1YnR5cGUgL0xpbmsgL1R5cGUgL0Fubm90Cj4+CmVuZG9iago3OSAwIG9iago8PAovQSA8PAovUyAvVVJJIC9UeXBlIC9BY3Rpb24gL1VSSSAoaHR0cHM6Ly91cGdpbmkuY29tLyNkYXRhX3NvdXJjZXMpCj4+IC9Cb3JkZXIgWyAwIDAgMCBdIC9SZWN0IFsgNDM2LjEyIDQwMC4xNzQ4IDQ2NS4wMiA0MDcuNjc0OCBdIC9TdWJ0eXBlIC9MaW5rIC9UeXBlIC9Bbm5vdAo+PgplbmRvYmoKODAgMCBvYmoKPDwKL0EgPDwKL1MgL1VSSSAvVHlwZSAvQWN0aW9uIC9VUkkgKGh0dHBzOi8vdXBnaW5pLmNvbS8jZGF0YV9zb3VyY2VzKQo+PiAvQm9yZGVyIFsgMCAwIDAgXSAvUmVjdCBbIDQ3NS4zIDM4Mi42NzQ4IDQ5My4wOCAzOTAuMTc0OCBdIC9TdWJ0eXBlIC9MaW5rIC9UeXBlIC9Bbm5vdAo+PgplbmRvYmoKODEgMCBvYmoKPDwKL0EgPDwKL1MgL1VSSSAvVHlwZSAvQWN0aW9uIC9VUkkgKGh0dHBzOi8vdXBnaW5pLmNvbS8jZGF0YV9zb3VyY2VzKQo+PiAvQm9yZGVyIFsgMCAwIDAgXSAvUmVjdCBbIDQyNSAzNzUuMTc0OCA0MzQuNzMgMzgyLjY3NDggXSAvU3VidHlwZSAvTGluayAvVHlwZSAvQW5ub3QKPj4KZW5kb2JqCjgyIDAgb2JqCjw8Ci9BIDw8Ci9TIC9VUkkgL1R5cGUgL0FjdGlvbiAvVVJJIChodHRwczovL3VwZ2luaS5jb20vI2RhdGFfc291cmNlcykKPj4gL0JvcmRlciBbIDAgMCAwIF0gL1JlY3QgWyA0NzUuMyAzNTcuNjc0OCA0OTMuMDggMzY1LjE3NDggXSAvU3VidHlwZSAvTGluayAvVHlwZSAvQW5ub3QKPj4KZW5kb2JqCjgzIDAgb2JqCjw8Ci9BIDw8Ci9TIC9VUkkgL1R5cGUgL0FjdGlvbiAvVVJJIChodHRwczovL3VwZ2luaS5jb20vI2RhdGFfc291cmNlcykKPj4gL0JvcmRlciBbIDAgMCAwIF0gL1JlY3QgWyA0MjUgMzUwLjE3NDggNDM0LjczIDM1Ny42NzQ4IF0gL1N1YnR5cGUgL0xpbmsgL1R5cGUgL0Fubm90Cj4+CmVuZG9iago4NCAwIG9iago8PAovQSA8PAovUyAvVVJJIC9UeXBlIC9BY3Rpb24gL1VSSSAoaHR0cHM6Ly91cGdpbmkuY29tLyNkYXRhX3NvdXJjZXMpCj4+IC9Cb3JkZXIgWyAwIDAgMCBdIC9SZWN0IFsgNDc1LjMgMzMyLjY3NDggNDkzLjA4IDM0MC4xNzQ4IF0gL1N1YnR5cGUgL0xpbmsgL1R5cGUgL0Fubm90Cj4+CmVuZG9iago4NSAwIG9iago8PAovQSA8PAovUyAvVVJJIC9UeXBlIC9BY3Rpb24gL1VSSSAoaHR0cHM6Ly91cGdpbmkuY29tLyNkYXRhX3NvdXJjZXMpCj4+IC9Cb3JkZXIgWyAwIDAgMCBdIC9SZWN0IFsgNDI1IDMyNS4xNzQ4IDQzNC43MyAzMzIuNjc0OCBdIC9TdWJ0eXBlIC9MaW5rIC9UeXBlIC9Bbm5vdAo+PgplbmRvYmoKODYgMCBvYmoKPDwKL0EgPDwKL1MgL1VSSSAvVHlwZSAvQWN0aW9uIC9VUkkgKGh0dHBzOi8vdXBnaW5pLmNvbS8jZGF0YV9zb3VyY2VzKQo+PiAvQm9yZGVyIFsgMCAwIDAgXSAvUmVjdCBbIDQ3NS4zIDMwNy42NzQ4IDQ5NS41ODUgMzE1LjE3NDggXSAvU3VidHlwZSAvTGluayAvVHlwZSAvQW5ub3QKPj4KZW5kb2JqCjg3IDAgb2JqCjw8Ci9BIDw8Ci9TIC9VUkkgL1R5cGUgL0FjdGlvbiAvVVJJIChodHRwczovL3VwZ2luaS5jb20vI2RhdGFfc291cmNlcykKPj4gL0JvcmRlciBbIDAgMCAwIF0gL1JlY3QgWyA0MjUgMzAwLjE3NDggNDM0LjczIDMwNy42NzQ4IF0gL1N1YnR5cGUgL0xpbmsgL1R5cGUgL0Fubm90Cj4+CmVuZG9iago4OCAwIG9iago8PAovQSA8PAovUyAvVVJJIC9UeXBlIC9BY3Rpb24gL1VSSSAoaHR0cHM6Ly91cGdpbmkuY29tLyNkYXRhX3NvdXJjZXMpCj4+IC9Cb3JkZXIgWyAwIDAgMCBdIC9SZWN0IFsgNDM2LjEyIDMwMC4xNzQ4IDQ2NS4wMiAzMDcuNjc0OCBdIC9TdWJ0eXBlIC9MaW5rIC9UeXBlIC9Bbm5vdAo+PgplbmRvYmoKODkgMCBvYmoKPDwKL0EgPDwKL1MgL1VSSSAvVHlwZSAvQWN0aW9uIC9VUkkgKGh0dHBzOi8vdXBnaW5pLmNvbS8jZGF0YV9zb3VyY2VzKQo+PiAvQm9yZGVyIFsgMCAwIDAgXSAvUmVjdCBbIDQ3NS4zIDI1Ny42NzQ4IDQ5NS41ODUgMjY1LjE3NDggXSAvU3VidHlwZSAvTGluayAvVHlwZSAvQW5ub3QKPj4KZW5kb2JqCjkwIDAgb2JqCjw8Ci9BIDw8Ci9TIC9VUkkgL1R5cGUgL0FjdGlvbiAvVVJJIChodHRwczovL3VwZ2luaS5jb20vI2RhdGFfc291cmNlcykKPj4gL0JvcmRlciBbIDAgMCAwIF0gL1JlY3QgWyA0MjUgMjUwLjE3NDggNDM0LjczIDI1Ny42NzQ4IF0gL1N1YnR5cGUgL0xpbmsgL1R5cGUgL0Fubm90Cj4+CmVuZG9iago5MSAwIG9iago8PAovQW5ub3RzIFsgNDcgMCBSIDQ4IDAgUiA0OSAwIFIgNTAgMCBSIDUxIDAgUiA1MiAwIFIgNTMgMCBSIDU0IDAgUiA1NSAwIFIgNTYgMCBSIAogIDU3IDAgUiA1OCAwIFIgNTkgMCBSIDYwIDAgUiA2MSAwIFIgNjIgMCBSIDYzIDAgUiA2NCAwIFIgNjUgMCBSIDY2IDAgUiAKICA2NyAwIFIgNjggMCBSIDY5IDAgUiA3MCAwIFIgNzEgMCBSIDcyIDAgUiA3MyAwIFIgNzQgMCBSIDc1IDAgUiA3NiAwIFIgCiAgNzcgMCBSIDc4IDAgUiA3OSAwIFIgODAgMCBSIDgxIDAgUiA4MiAwIFIgODMgMCBSIDg0IDAgUiA4NSAwIFIgODYgMCBSIAogIDg3IDAgUiA4OCAwIFIgODkgMCBSIDkwIDAgUiBdIC9Db250ZW50cyAxNDUgMCBSIC9NZWRpYUJveCBbIDAgMCA1OTUuMjc1NiA4NDEuODg5OCBdIC9QYXJlbnQgMTQzIDAgUiAvUmVzb3VyY2VzIDw8Ci9Gb250IDEgMCBSIC9Qcm9jU2V0IFsgL1BERiAvVGV4dCAvSW1hZ2VCIC9JbWFnZUMgL0ltYWdlSSBdCj4+IC9Sb3RhdGUgMCAKICAvVHJhbnMgPDwKCj4+IC9UeXBlIC9QYWdlCj4+CmVuZG9iago5MiAwIG9iago8PAovQSA8PAovUyAvVVJJIC9UeXBlIC9BY3Rpb24gL1VSSSAoaHR0cHM6Ly91cGdpbmkuY29tLyNkYXRhX3NvdXJjZXMpCj4+IC9Cb3JkZXIgWyAwIDAgMCBdIC9SZWN0IFsgMTUgNDU2LjA3NDkgNDYuNDA1IDQ2My41NzQ5IF0gL1N1YnR5cGUgL0xpbmsgL1R5cGUgL0Fubm90Cj4+CmVuZG9iago5MyAwIG9iago8PAovQSA8PAovUyAvVVJJIC9UeXBlIC9BY3Rpb24gL1VSSSAoaHR0cHM6Ly91cGdpbmkuY29tLyNkYXRhX3NvdXJjZXMpCj4+IC9Cb3JkZXIgWyAwIDAgMCBdIC9SZWN0IFsgMTUgNDMxLjA3NDkgNDYuNDA1IDQzOC41NzQ5IF0gL1N1YnR5cGUgL0xpbmsgL1R5cGUgL0Fubm90Cj4+CmVuZG9iago5NCAwIG9iago8PAovQSA8PAovUyAvVVJJIC9UeXBlIC9BY3Rpb24gL1VSSSAoaHR0cHM6Ly91cGdpbmkuY29tLyNkYXRhX3NvdXJjZXMpCj4+IC9Cb3JkZXIgWyAwIDAgMCBdIC9SZWN0IFsgNDcuNzk1IDQzMS4wNzQ5IDc2LjY5NSA0MzguNTc0OSBdIC9TdWJ0eXBlIC9MaW5rIC9UeXBlIC9Bbm5vdAo+PgplbmRvYmoKOTUgMCBvYmoKPDwKL0EgPDwKL1MgL1VSSSAvVHlwZSAvQWN0aW9uIC9VUkkgKGh0dHBzOi8vdXBnaW5pLmNvbS8jZGF0YV9zb3VyY2VzKQo+PiAvQm9yZGVyIFsgMCAwIDAgXSAvUmVjdCBbIDE1IDQwNi4wNzQ5IDQ2LjQwNSA0MTMuNTc0OSBdIC9TdWJ0eXBlIC9MaW5rIC9UeXBlIC9Bbm5vdAo+PgplbmRvYmoKOTYgMCBvYmoKPDwKL0EgPDwKL1MgL1VSSSAvVHlwZSAvQWN0aW9uIC9VUkkgKGh0dHBzOi8vdXBnaW5pLmNvbS8jZGF0YV9zb3VyY2VzKQo+PiAvQm9yZGVyIFsgMCAwIDAgXSAvUmVjdCBbIDQ3Ljc5NSA0MDYuMDc0OSA3Ni42OTUgNDEzLjU3NDkgXSAvU3VidHlwZSAvTGluayAvVHlwZSAvQW5ub3QKPj4KZW5kb2JqCjk3IDAgb2JqCjw8Ci9BIDw8Ci9TIC9VUkkgL1R5cGUgL0FjdGlvbiAvVVJJIChodHRwczovL3VwZ2luaS5jb20vI2RhdGFfc291cmNlcykKPj4gL0JvcmRlciBbIDAgMCAwIF0gL1JlY3QgWyAxNSAzODEuMDc0OSA0Ni40MDUgMzg4LjU3NDkgXSAvU3VidHlwZSAvTGluayAvVHlwZSAvQW5ub3QKPj4KZW5kb2JqCjk4IDAgb2JqCjw8Ci9BIDw8Ci9TIC9VUkkgL1R5cGUgL0FjdGlvbiAvVVJJIChodHRwczovL3VwZ2luaS5jb20vI2RhdGFfc291cmNlcykKPj4gL0JvcmRlciBbIDAgMCAwIF0gL1JlY3QgWyA0Ny43OTUgMzgxLjA3NDkgNzYuNjk1IDM4OC41NzQ5IF0gL1N1YnR5cGUgL0xpbmsgL1R5cGUgL0Fubm90Cj4+CmVuZG9iago5OSAwIG9iago8PAovQSA8PAovUyAvVVJJIC9UeXBlIC9BY3Rpb24gL1VSSSAoaHR0cHM6Ly91cGdpbmkuY29tLyNkYXRhX3NvdXJjZXMpCj4+IC9Cb3JkZXIgWyAwIDAgMCBdIC9SZWN0IFsgMTUgMzU2LjA3NDkgNDMuOSAzNjMuNTc0OSBdIC9TdWJ0eXBlIC9MaW5rIC9UeXBlIC9Bbm5vdAo+PgplbmRvYmoKMTAwIDAgb2JqCjw8Ci9BIDw8Ci9TIC9VUkkgL1R5cGUgL0FjdGlvbiAvVVJJIChodHRwczovL3VwZ2luaS5jb20vI2RhdGFfc291cmNlcykKPj4gL0JvcmRlciBbIDAgMCAwIF0gL1JlY3QgWyAxNSAzMzEuMDc0OSA0Ni40MDUgMzM4LjU3NDkgXSAvU3VidHlwZSAvTGluayAvVHlwZSAvQW5ub3QKPj4KZW5kb2JqCjEwMSAwIG9iago8PAovQSA8PAovUyAvVVJJIC9UeXBlIC9BY3Rpb24gL1VSSSAoaHR0cHM6Ly91cGdpbmkuY29tLyNkYXRhX3NvdXJjZXMpCj4+IC9Cb3JkZXIgWyAwIDAgMCBdIC9SZWN0IFsgMTUgMzA2LjA3NDkgNDYuNDA1IDMxMy41NzQ5IF0gL1N1YnR5cGUgL0xpbmsgL1R5cGUgL0Fubm90Cj4+CmVuZG9iagoxMDIgMCBvYmoKPDwKL0EgPDwKL1MgL1VSSSAvVHlwZSAvQWN0aW9uIC9VUkkgKGh0dHBzOi8vdXBnaW5pLmNvbS8jZGF0YV9zb3VyY2VzKQo+PiAvQm9yZGVyIFsgMCAwIDAgXSAvUmVjdCBbIDQ3Ljc5NSAzMDYuMDc0OSA3Ni42OTUgMzEzLjU3NDkgXSAvU3VidHlwZSAvTGluayAvVHlwZSAvQW5ub3QKPj4KZW5kb2JqCjEwMyAwIG9iago8PAovQSA8PAovUyAvVVJJIC9UeXBlIC9BY3Rpb24gL1VSSSAoaHR0cHM6Ly91cGdpbmkuY29tLyNkYXRhX3NvdXJjZXMpCj4+IC9Cb3JkZXIgWyAwIDAgMCBdIC9SZWN0IFsgMTUgMjgxLjA3NDkgNDMuOSAyODguNTc0OSBdIC9TdWJ0eXBlIC9MaW5rIC9UeXBlIC9Bbm5vdAo+PgplbmRvYmoKMTA0IDAgb2JqCjw8Ci9BIDw8Ci9TIC9VUkkgL1R5cGUgL0FjdGlvbiAvVVJJIChodHRwczovL3VwZ2luaS5jb20vI2RhdGFfc291cmNlcykKPj4gL0JvcmRlciBbIDAgMCAwIF0gL1JlY3QgWyAxNSAyNTYuMDc0OSA0Ni40MDUgMjYzLjU3NDkgXSAvU3VidHlwZSAvTGluayAvVHlwZSAvQW5ub3QKPj4KZW5kb2JqCjEwNSAwIG9iago8PAovQSA8PAovUyAvVVJJIC9UeXBlIC9BY3Rpb24gL1VSSSAoaHR0cHM6Ly91cGdpbmkuY29tLyNkYXRhX3NvdXJjZXMpCj4+IC9Cb3JkZXIgWyAwIDAgMCBdIC9SZWN0IFsgMTUgMjMxLjA3NDkgNDMuOSAyMzguNTc0OSBdIC9TdWJ0eXBlIC9MaW5rIC9UeXBlIC9Bbm5vdAo+PgplbmRvYmoKMTA2IDAgb2JqCjw8Ci9BIDw8Ci9TIC9VUkkgL1R5cGUgL0FjdGlvbiAvVVJJIChodHRwczovL3VwZ2luaS5jb20vI2RhdGFfc291cmNlcykKPj4gL0JvcmRlciBbIDAgMCAwIF0gL1JlY3QgWyAxNSAyMDYuMDc0OSA0Ni40MDUgMjEzLjU3NDkgXSAvU3VidHlwZSAvTGluayAvVHlwZSAvQW5ub3QKPj4KZW5kb2JqCjEwNyAwIG9iago8PAovQSA8PAovUyAvVVJJIC9UeXBlIC9BY3Rpb24gL1VSSSAoaHR0cHM6Ly91cGdpbmkuY29tLyNkYXRhX3NvdXJjZXMpCj4+IC9Cb3JkZXIgWyAwIDAgMCBdIC9SZWN0IFsgMTUgMTgxLjA3NDkgNDYuNDA1IDE4OC41NzQ5IF0gL1N1YnR5cGUgL0xpbmsgL1R5cGUgL0Fubm90Cj4+CmVuZG9iagoxMDggMCBvYmoKPDwKL0EgPDwKL1MgL1VSSSAvVHlwZSAvQWN0aW9uIC9VUkkgKGh0dHBzOi8vdXBnaW5pLmNvbS8jZGF0YV9zb3VyY2VzKQo+PiAvQm9yZGVyIFsgMCAwIDAgXSAvUmVjdCBbIDQ3Ljc5NSAxODEuMDc0OSA3Ni42OTUgMTg4LjU3NDkgXSAvU3VidHlwZSAvTGluayAvVHlwZSAvQW5ub3QKPj4KZW5kb2JqCjEwOSAwIG9iago8PAovQSA8PAovUyAvVVJJIC9UeXBlIC9BY3Rpb24gL1VSSSAoaHR0cHM6Ly91cGdpbmkuY29tLyNkYXRhX3NvdXJjZXMpCj4+IC9Cb3JkZXIgWyAwIDAgMCBdIC9SZWN0IFsgMTUgMTU2LjA3NDkgNDYuNDA1IDE2My41NzQ5IF0gL1N1YnR5cGUgL0xpbmsgL1R5cGUgL0Fubm90Cj4+CmVuZG9iagoxMTAgMCBvYmoKPDwKL0EgPDwKL1MgL1VSSSAvVHlwZSAvQWN0aW9uIC9VUkkgKGh0dHBzOi8vdXBnaW5pLmNvbS8jZGF0YV9zb3VyY2VzKQo+PiAvQm9yZGVyIFsgMCAwIDAgXSAvUmVjdCBbIDE1IDEzMS4wNzQ5IDQ2LjQwNSAxMzguNTc0OSBdIC9TdWJ0eXBlIC9MaW5rIC9UeXBlIC9Bbm5vdAo+PgplbmRvYmoKMTExIDAgb2JqCjw8Ci9BIDw8Ci9TIC9VUkkgL1R5cGUgL0FjdGlvbiAvVVJJIChodHRwczovL3VwZ2luaS5jb20vI2RhdGFfc291cmNlcykKPj4gL0JvcmRlciBbIDAgMCAwIF0gL1JlY3QgWyA0Ny43OTUgMTMxLjA3NDkgNzYuNjk1IDEzOC41NzQ5IF0gL1N1YnR5cGUgL0xpbmsgL1R5cGUgL0Fubm90Cj4+CmVuZG9iagoxMTIgMCBvYmoKPDwKL0EgPDwKL1MgL1VSSSAvVHlwZSAvQWN0aW9uIC9VUkkgKGh0dHBzOi8vdXBnaW5pLmNvbS8jZGF0YV9zb3VyY2VzKQo+PiAvQm9yZGVyIFsgMCAwIDAgXSAvUmVjdCBbIDE1IDEwNi4wNzQ5IDQ2LjQwNSAxMTMuNTc0OSBdIC9TdWJ0eXBlIC9MaW5rIC9UeXBlIC9Bbm5vdAo+PgplbmRvYmoKMTEzIDAgb2JqCjw8Ci9BIDw8Ci9TIC9VUkkgL1R5cGUgL0FjdGlvbiAvVVJJIChodHRwczovL3VwZ2luaS5jb20vI2RhdGFfc291cmNlcykKPj4gL0JvcmRlciBbIDAgMCAwIF0gL1JlY3QgWyA0Ny43OTUgMTA2LjA3NDkgNzYuNjk1IDExMy41NzQ5IF0gL1N1YnR5cGUgL0xpbmsgL1R5cGUgL0Fubm90Cj4+CmVuZG9iagoxMTQgMCBvYmoKPDwKL0EgPDwKL1MgL1VSSSAvVHlwZSAvQWN0aW9uIC9VUkkgKGh0dHBzOi8vdXBnaW5pLmNvbS8jZGF0YV9zb3VyY2VzKQo+PiAvQm9yZGVyIFsgMCAwIDAgXSAvUmVjdCBbIDE1IDgxLjA3NDkzIDQ2LjQwNSA4OC41NzQ5MyBdIC9TdWJ0eXBlIC9MaW5rIC9UeXBlIC9Bbm5vdAo+PgplbmRvYmoKMTE1IDAgb2JqCjw8Ci9BIDw8Ci9TIC9VUkkgL1R5cGUgL0FjdGlvbiAvVVJJIChodHRwczovL3VwZ2luaS5jb20vI2RhdGFfc291cmNlcykKPj4gL0JvcmRlciBbIDAgMCAwIF0gL1JlY3QgWyA0Ny43OTUgODEuMDc0OTMgNzYuNjk1IDg4LjU3NDkzIF0gL1N1YnR5cGUgL0xpbmsgL1R5cGUgL0Fubm90Cj4+CmVuZG9iagoxMTYgMCBvYmoKPDwKL0Fubm90cyBbIDkyIDAgUiA5MyAwIFIgOTQgMCBSIDk1IDAgUiA5NiAwIFIgOTcgMCBSIDk4IDAgUiA5OSAwIFIgMTAwIDAgUiAxMDEgMCBSIAogIDEwMiAwIFIgMTAzIDAgUiAxMDQgMCBSIDEwNSAwIFIgMTA2IDAgUiAxMDcgMCBSIDEwOCAwIFIgMTA5IDAgUiAxMTAgMCBSIDExMSAwIFIgCiAgMTEyIDAgUiAxMTMgMCBSIDExNCAwIFIgMTE1IDAgUiBdIC9Db250ZW50cyAxNDYgMCBSIC9NZWRpYUJveCBbIDAgMCA1OTUuMjc1NiA4NDEuODg5OCBdIC9QYXJlbnQgMTQzIDAgUiAvUmVzb3VyY2VzIDw8Ci9Gb250IDEgMCBSIC9Qcm9jU2V0IFsgL1BERiAvVGV4dCAvSW1hZ2VCIC9JbWFnZUMgL0ltYWdlSSBdCj4+IC9Sb3RhdGUgMCAKICAvVHJhbnMgPDwKCj4+IC9UeXBlIC9QYWdlCj4+CmVuZG9iagoxMTcgMCBvYmoKPDwKL0EgPDwKL1MgL1VSSSAvVHlwZSAvQWN0aW9uIC9VUkkgKGh0dHBzOi8vdXBnaW5pLmNvbS8jZGF0YV9zb3VyY2VzKQo+PiAvQm9yZGVyIFsgMCAwIDAgXSAvUmVjdCBbIDE1IDc3OC45MjQ4IDQzLjkgNzg2LjQyNDggXSAvU3VidHlwZSAvTGluayAvVHlwZSAvQW5ub3QKPj4KZW5kb2JqCjExOCAwIG9iago8PAovQSA8PAovUyAvVVJJIC9UeXBlIC9BY3Rpb24gL1VSSSAoaHR0cHM6Ly91cGdpbmkuY29tLyNkYXRhX3NvdXJjZXMpCj4+IC9Cb3JkZXIgWyAwIDAgMCBdIC9SZWN0IFsgMTUgNzUzLjkyNDggNDYuNDA1IDc2MS40MjQ4IF0gL1N1YnR5cGUgL0xpbmsgL1R5cGUgL0Fubm90Cj4+CmVuZG9iagoxMTkgMCBvYmoKPDwKL0EgPDwKL1MgL1VSSSAvVHlwZSAvQWN0aW9uIC9VUkkgKGh0dHBzOi8vdXBnaW5pLmNvbS8jZGF0YV9zb3VyY2VzKQo+PiAvQm9yZGVyIFsgMCAwIDAgXSAvUmVjdCBbIDE1IDcyOC45MjQ4IDQzLjkgNzM2LjQyNDggXSAvU3VidHlwZSAvTGluayAvVHlwZSAvQW5ub3QKPj4KZW5kb2JqCjEyMCAwIG9iago8PAovQSA8PAovUyAvVVJJIC9UeXBlIC9BY3Rpb24gL1VSSSAoaHR0cHM6Ly91cGdpbmkuY29tLyNkYXRhX3NvdXJjZXMpCj4+IC9Cb3JkZXIgWyAwIDAgMCBdIC9SZWN0IFsgMTUgNzAzLjkyNDggNDYuNDA1IDcxMS40MjQ4IF0gL1N1YnR5cGUgL0xpbmsgL1R5cGUgL0Fubm90Cj4+CmVuZG9iagoxMjEgMCBvYmoKPDwKL0EgPDwKL1MgL1VSSSAvVHlwZSAvQWN0aW9uIC9VUkkgKGh0dHBzOi8vdXBnaW5pLmNvbS8jZGF0YV9zb3VyY2VzKQo+PiAvQm9yZGVyIFsgMCAwIDAgXSAvUmVjdCBbIDQ3Ljc5NSA3MDMuOTI0OCA3Ni42OTUgNzExLjQyNDggXSAvU3VidHlwZSAvTGluayAvVHlwZSAvQW5ub3QKPj4KZW5kb2JqCjEyMiAwIG9iago8PAovQSA8PAovUyAvVVJJIC9UeXBlIC9BY3Rpb24gL1VSSSAoaHR0cHM6Ly91cGdpbmkuY29tLyNkYXRhX3NvdXJjZXMpCj4+IC9Cb3JkZXIgWyAwIDAgMCBdIC9SZWN0IFsgMTUgNjc4LjkyNDggNDYuNDA1IDY4Ni40MjQ4IF0gL1N1YnR5cGUgL0xpbmsgL1R5cGUgL0Fubm90Cj4+CmVuZG9iagoxMjMgMCBvYmoKPDwKL0EgPDwKL1MgL1VSSSAvVHlwZSAvQWN0aW9uIC9VUkkgKGh0dHBzOi8vdXBnaW5pLmNvbS8jZGF0YV9zb3VyY2VzKQo+PiAvQm9yZGVyIFsgMCAwIDAgXSAvUmVjdCBbIDQ3Ljc5NSA2NzguOTI0OCA3Ni42OTUgNjg2LjQyNDggXSAvU3VidHlwZSAvTGluayAvVHlwZSAvQW5ub3QKPj4KZW5kb2JqCjEyNCAwIG9iago8PAovQSA8PAovUyAvVVJJIC9UeXBlIC9BY3Rpb24gL1VSSSAoaHR0cHM6Ly91cGdpbmkuY29tLyNkYXRhX3NvdXJjZXMpCj4+IC9Cb3JkZXIgWyAwIDAgMCBdIC9SZWN0IFsgMTUgNjUzLjkyNDggNDYuNDA1IDY2MS40MjQ4IF0gL1N1YnR5cGUgL0xpbmsgL1R5cGUgL0Fubm90Cj4+CmVuZG9iagoxMjUgMCBvYmoKPDwKL0EgPDwKL1MgL1VSSSAvVHlwZSAvQWN0aW9uIC9VUkkgKGh0dHBzOi8vdXBnaW5pLmNvbS8jZGF0YV9zb3VyY2VzKQo+PiAvQm9yZGVyIFsgMCAwIDAgXSAvUmVjdCBbIDQ3Ljc5NSA2NTMuOTI0OCA3Ni42OTUgNjYxLjQyNDggXSAvU3VidHlwZSAvTGluayAvVHlwZSAvQW5ub3QKPj4KZW5kb2JqCjEyNiAwIG9iago8PAovQSA8PAovUyAvVVJJIC9UeXBlIC9BY3Rpb24gL1VSSSAoaHR0cHM6Ly91cGdpbmkuY29tLyNkYXRhX3NvdXJjZXMpCj4+IC9Cb3JkZXIgWyAwIDAgMCBdIC9SZWN0IFsgMTUgNjI4LjkyNDggNDMuOSA2MzYuNDI0OCBdIC9TdWJ0eXBlIC9MaW5rIC9UeXBlIC9Bbm5vdAo+PgplbmRvYmoKMTI3IDAgb2JqCjw8Ci9BIDw8Ci9TIC9VUkkgL1R5cGUgL0FjdGlvbiAvVVJJIChodHRwczovL3VwZ2luaS5jb20vI2RhdGFfc291cmNlcykKPj4gL0JvcmRlciBbIDAgMCAwIF0gL1JlY3QgWyAxNSA2MDMuOTI0OCA0My45IDYxMS40MjQ4IF0gL1N1YnR5cGUgL0xpbmsgL1R5cGUgL0Fubm90Cj4+CmVuZG9iagoxMjggMCBvYmoKPDwKL0EgPDwKL1MgL1VSSSAvVHlwZSAvQWN0aW9uIC9VUkkgKGh0dHBzOi8vdXBnaW5pLmNvbS8jZGF0YV9zb3VyY2VzKQo+PiAvQm9yZGVyIFsgMCAwIDAgXSAvUmVjdCBbIDE1IDU3OC45MjQ4IDQzLjkgNTg2LjQyNDggXSAvU3VidHlwZSAvTGluayAvVHlwZSAvQW5ub3QKPj4KZW5kb2JqCjEyOSAwIG9iago8PAovQSA8PAovUyAvVVJJIC9UeXBlIC9BY3Rpb24gL1VSSSAoaHR0cHM6Ly91cGdpbmkuY29tLyNkYXRhX3NvdXJjZXMpCj4+IC9Cb3JkZXIgWyAwIDAgMCBdIC9SZWN0IFsgMTUgNTUzLjkyNDggNDYuNDA1IDU2MS40MjQ4IF0gL1N1YnR5cGUgL0xpbmsgL1R5cGUgL0Fubm90Cj4+CmVuZG9iagoxMzAgMCBvYmoKPDwKL0EgPDwKL1MgL1VSSSAvVHlwZSAvQWN0aW9uIC9VUkkgKGh0dHBzOi8vdXBnaW5pLmNvbS8jZGF0YV9zb3VyY2VzKQo+PiAvQm9yZGVyIFsgMCAwIDAgXSAvUmVjdCBbIDQ3Ljc5NSA1NTMuOTI0OCA3Ni42OTUgNTYxLjQyNDggXSAvU3VidHlwZSAvTGluayAvVHlwZSAvQW5ub3QKPj4KZW5kb2JqCjEzMSAwIG9iago8PAovQSA8PAovUyAvVVJJIC9UeXBlIC9BY3Rpb24gL1VSSSAoaHR0cHM6Ly91cGdpbmkuY29tLyNkYXRhX3NvdXJjZXMpCj4+IC9Cb3JkZXIgWyAwIDAgMCBdIC9SZWN0IFsgMTUgNTI4LjkyNDggNDYuNDA1IDUzNi40MjQ4IF0gL1N1YnR5cGUgL0xpbmsgL1R5cGUgL0Fubm90Cj4+CmVuZG9iagoxMzIgMCBvYmoKPDwKL0EgPDwKL1MgL1VSSSAvVHlwZSAvQWN0aW9uIC9VUkkgKG1haWx0bzpzYWxlc0B1cGdpbmkuY29tKQo+PiAvQm9yZGVyIFsgMCAwIDAgXSAvUmVjdCBbIDE1Ni41IDUwMi4wNjczIDIxNy44OCA1MTMuMzE3MyBdIC9TdWJ0eXBlIC9MaW5rIC9UeXBlIC9Bbm5vdAo+PgplbmRvYmoKMTMzIDAgb2JqCjw8Ci9Bbm5vdHMgWyAxMTcgMCBSIDExOCAwIFIgMTE5IDAgUiAxMjAgMCBSIDEyMSAwIFIgMTIyIDAgUiAxMjMgMCBSIDEyNCAwIFIgMTI1IDAgUiAxMjYgMCBSIAogIDEyNyAwIFIgMTI4IDAgUiAxMjkgMCBSIDEzMCAwIFIgMTMxIDAgUiAxMzIgMCBSIF0gL0NvbnRlbnRzIDE0NyAwIFIgL01lZGlhQm94IFsgMCAwIDU5NS4yNzU2IDg0MS44ODk4IF0gL1BhcmVudCAxNDMgMCBSIC9SZXNvdXJjZXMgPDwKL0ZvbnQgMSAwIFIgL1Byb2NTZXQgWyAvUERGIC9UZXh0IC9JbWFnZUIgL0ltYWdlQyAvSW1hZ2VJIF0KPj4gL1JvdGF0ZSAwIAogIC9UcmFucyA8PAoKPj4gL1R5cGUgL1BhZ2UKPj4KZW5kb2JqCjEzNCAwIG9iago8PAovT3V0bGluZXMgMTM2IDAgUiAvUGFnZU1vZGUgL1VzZU5vbmUgL1BhZ2VzIDE0MyAwIFIgL1R5cGUgL0NhdGFsb2cKPj4KZW5kb2JqCjEzNSAwIG9iago8PAovQXV0aG9yICgpIC9DcmVhdGlvbkRhdGUgKEQ6MjAyNDA4MDUyMDE2NTErMDAnMDAnKSAvQ3JlYXRvciAoXCh1bnNwZWNpZmllZFwpKSAvS2V5d29yZHMgKCkgL01vZERhdGUgKEQ6MjAyNDA4MDUyMDE2NTErMDAnMDAnKSAvUHJvZHVjZXIgKHhodG1sMnBkZiA8aHR0cHM6Ly9naXRodWIuY29tL3hodG1sMnBkZi94aHRtbDJwZGYvPikgCiAgL1N1YmplY3QgKCkgL1RpdGxlICgpIC9UcmFwcGVkIC9GYWxzZQo+PgplbmRvYmoKMTM2IDAgb2JqCjw8Ci9Db3VudCAzIC9GaXJzdCAxMzcgMCBSIC9MYXN0IDEzNyAwIFIgL1R5cGUgL091dGxpbmVzCj4+CmVuZG9iagoxMzcgMCBvYmoKPDwKL0NvdW50IC0xIC9EZXN0IFsgNDYgMCBSIC9GaXQgXSAvRmlyc3QgMTM4IDAgUiAvTGFzdCAxMzggMCBSIC9QYXJlbnQgMTM2IDAgUiAvVGl0bGUgKERhdGEgc2VhcmNoIHJlcG9ydCkKPj4KZW5kb2JqCjEzOCAwIG9iago8PAovQ291bnQgLTQgL0Rlc3QgWyA0NiAwIFIgL0ZpdCBdIC9GaXJzdCAxMzkgMCBSIC9MYXN0IDE0MiAwIFIgL1BhcmVudCAxMzcgMCBSIC9UaXRsZSAoQWxsIHJlbGV2YW50IGZlYXR1cmVzLiBBY2N1cmFjeSBhZnRlciBlbnJpY2htZW50KQo+PgplbmRvYmoKMTM5IDAgb2JqCjw8Ci9EZXN0IFsgNDYgMCBSIC9GaXQgXSAvTmV4dCAxNDAgMCBSIC9QYXJlbnQgMTM4IDAgUiAvVGl0bGUgKEFsbCByZWxldmFudCBmZWF0dXJlcy4gQWNjdXJhY3kgYWZ0ZXIgZW5yaWNobWVudCkKPj4KZW5kb2JqCjE0MCAwIG9iago8PAovRGVzdCBbIDQ2IDAgUiAvRml0IF0gL05leHQgMTQxIDAgUiAvUGFyZW50IDEzOCAwIFIgL1ByZXYgMTM5IDAgUiAvVGl0bGUgKFJlbGV2YW50IGRhdGEgc291cmNlcykKPj4KZW5kb2JqCjE0MSAwIG9iago8PAovRGVzdCBbIDQ2IDAgUiAvRml0IF0gL05leHQgMTQyIDAgUiAvUGFyZW50IDEzOCAwIFIgL1ByZXYgMTQwIDAgUiAvVGl0bGUgKEFsbCByZWxldmFudCBmZWF0dXJlcy4gTGlzdGluZyBcKDUyIGl0ZW1zXCkpCj4+CmVuZG9iagoxNDIgMCBvYmoKPDwKL0Rlc3QgWyAxMTYgMCBSIC9GaXQgXSAvUGFyZW50IDEzOCAwIFIgL1ByZXYgMTQxIDAgUiAvVGl0bGUgKERlc2NyaXB0aW9uIG9mIEF1dG9GRSBmZWF0dXJlIG5hbWVzKQo+PgplbmRvYmoKMTQzIDAgb2JqCjw8Ci9Db3VudCA0IC9LaWRzIFsgNDYgMCBSIDkxIDAgUiAxMTYgMCBSIDEzMyAwIFIgXSAvVHlwZSAvUGFnZXMKPj4KZW5kb2JqCjE0NCAwIG9iago8PAovRmlsdGVyIFsgL0FTQ0lJODVEZWNvZGUgL0ZsYXRlRGVjb2RlIF0gL0xlbmd0aCA2MDI3Cj4+CnN0cmVhbQpHYiIvbEQwK0lBW0UlMWY7dCpOOVprSzI3OC5hanJDOl1vJWgwWD8tcXIlK1xcRC1QcCZ0UHQ6Pj9PTm0tSyJnXlJAbz88NWJdXj5TX19NK0N1Qk10JVoxM0ciQDdoZSJWdVREcVokLGguL25OcXI6dCwrJjZgPnEnVm4mcUVWWEpBazQ2S3BpWFthcF8qcnUyLlwhalkyUEw7U05wWEZwcFpgIidYLmdrcSgjLG4kcTl0NkRJKy4oYUNkVnVzODUzNVFDO15BaTU7N1woL3E1ZjQjY2IqMzUucU50JkptNEFMbVEqQj8xLmUxUWBHXjluXyMrJkZXYT91TSMrSCs9MWlxWHJTUD9icV9zIVUwKW5wVnJpKkNFKU4qU1E2JiMzUjBQRl1qTG0wS3AuaWw2RzFkbmVxTl8/KUolL2khZ1xlSmVbQWhuKmYmOVdQRVVhITRFVjBNZWxBWWFTSmlTRj9aWGhwQG5ePig7WF1BNmc4PCVELWltZVdNbihEJDhgcFlEalpyYGpqO1tfKTRwXiomNikmaV1NdCNEW01CSj1LW1JBYCpUdF1QTTgmR1ZET1U1JEREWSNhUC9nMnU2SmRMMC1oMGlEQm9JJTZsaGpZODciKFowTjFbamEvYC8rI19sJTU7OWYtR1sqNEYmRTJcSUxTXEgzX05pWikyYjgkUThFJ29kclZFXG82M1plOmolQ09qPiReKEshXTBCLChJSDhfMD5EVkhGXHUoVzdfLz0nY2g1SlJvXWMvNVgrOEE0MGhOdDluTzZVL1J1OyQsO2RIYVNrX2o9WT0zWWwxXXN0M3BwQ1pCdVdkPSUzUyw7bC1eIkA4MyFXVDRnREtHS1RsYURRVVA3Xmx0NXFKUVUqLTUqLE4iSHF0ST8nYmRTQEVzXWhBTi4oVCwsJnU/JEcxQ2A9VCwuYFBbLkdcKEltTk1xZCI0MSdfcGBUVjF1YCFTOiR0TVRvcjxHO2U9NnFvdSRFWXBhTUFdRF9VKj8qVXBQNGgnN2ZgVm1OXGtuYS9PRDc7JDUyVls2X2skX0pBcE1JMEJtIV5CIXBZc2hrYkQ1SW9xNzQkJHA9bzc8MzRbXmRnUzI6cl5WJT5JbWU4XzM9WW5SUTJfOltxRGYwSlBUQihRT2ZXT1pZZ1ghaGxoPDE9SS0pJTkmM2pNYlhtcD9lL3BCTjtDczYyX0JZP2tTTXE4NUVRTmhTI2BBJlsvYk8sZnIjQVFfbFEoX2RSS2JiQitkJioqP01tPEQvdW5fMFQ2X3BiMztRU2cpKzJJOlVIWmUmPFwva3NpJEBCSDY5SSRPN0olaDtPSD87VEIrRWs7VnVCaE1EU2ssPkRPWklJIj1PWlZcaiFUJXRyQGZRNmtmOWI/RjBsVio2My4jZFJvOC8kYVs7W0E5O0NeJDg3SUlZY0xJVFlERGJEPmNVNz9OVilxPGUkSTN1X3AoQUIiX1wqbEJIKUUrZidpaFQ6MUgrN1k+MkNyQEpzIWU2TUcoJjgpNkYrLDlnQVVsUGZRTzxyRFMrX0A/LWtyRzVnWClbalI+cWNJNTBSPDMkW2lNLmNqJjFNOG5yWyFvZ0AkciJ1Lj4haiZDMWVcOyEkXT11dHFdKE84aTRXbGFsMydCLzklNjlDMEVrPkgyLVllcj9sUj0hNVA9dF4yQjE7cDAodXRWViUjZShVNFhuI1ZuVE0iRjswWWM+LzlqUFkjUj5QI0ZJajI8UighNl5ATUdFJFhXcWZqPHFsK24kcmBSQE5ZI25ObilOXXVcLkRyL1NuIWp0K1pvNU9PYjUzPyhmZF45RGlSTT5vNVNiU09SLHI7KihiJWJRNGptU0hCQHI6YjhCQGhWPSFtdEYtQlxcJWw7RnU7ajZybEpeUi5NYCFuZGNMIU1bRCwqQ1dHQi1vQWNyYF1OczAvRnBTblNlIUQ1bS88c1lHP1EnNDEwZz5JXzc3XTE8V2pGW1Q+Q1ohXmlkT1puN0JjUChmRWwwUGU2MXIzZCRhV1ktU0k0MEQ3WnE7P2gncSsvcEhFRG4xL21TV0RDPExOJGZrNzlcQjMsIUJvIz1zSiZCa2FPJmAtYmhDOmlwcVlPQFI/VzhQOi1nMEsoIlhuUmNra2ttcWA2QVknRik1T101TUU7QllaNW4+T1hGPCwqQCosLl4qXjIpMTlBZlpzRUdLQD1pOU5UL0lNISFxXW1HP001LDQvbFJPZCgiYiIhaGJGVVIkcDVhcjlqNzhDSkhhKjVadF46NElmIzBnc2E5Y2xzcSlvRVJYNTUtdTxvKUpbbVUvP2QxMUFyWG1qMihLbT1KN0ZBblcvWlNvQ0gxUzUpO3VQRypoPVY/VWonckBLVWxfXFVeWGJTLXIvRT9AKHBOQmhPUDgobl9oZXQmbCpgWEtLSEYob2MmLmlgRy4rUE5OSVwrPXVsVDBYcj9VQG1gaVhtZyRSNTJfXEsjKDtmXiVXMEhoK1xZSmNzJjFBZ1BJP0c/OGJdRDhzQ0ZvPDY1Xl5gQ1YwZytSOW40TTNZQTk6JjhaZVdVYCkqcDMsaW5mQV8kYHRcMTw2PE1KSyo6cD5rR1M/K3JJJy9zaW42W1hHdV1qWEJpMSQvT1ojQTpJdCt1P21eQnE6OyhnZFgvKkxsUy1BWUhVUWpGOV8pMCJRT28oZz9OOiE8NS5CMyZFTztxcWYoWC1MMmFqQV1FSS5SXmZGPD5McWZbMmNPM1RSVlA4VzxGYmMqWytdPm9IaVcvVmhiL2E2My1KLi4iNU1TRHFCMmtJOTUzQltXZFlhU0xTSzVfcEFeNWU3IiI8NVVHXmNUYy1DRXIidF4zbWFuNF1VTStDKjZAOkFiQmR1NUNwN18vLDFrY3U6IStoL1RHL0YlU2ZfdFpubUluTW5xIjgoJW1uczY/cjohbFIpWkkzOjBeYERtTy1GJ3UzRmYjOWQ1SlQqZkVPSkpPXF43LGsidTg+ZmBpTy1NOjlob1hcQClFKz5wLzNDVzxQInA3JjhDSSxTb2dmUF4sIV88Zkx1UV0nVmRJXlJpJWFrU3QmRmhpSThmYCc9ZGgzSG8wRzVnWTRAVClkV1tWIVEtczQjdTQxN29WWXEsPExAcitYTFY5bGc3LjMqIXUxOmVlZyEnJ2xAMzlQJUFoRUQ5KFw6L0FDNjo1TVpnbFMobTZgcjBWRWBNO1pUOFpfKyRYbUZqTTpTKGppNm9yT0ZoQkciKUcqdSErSVdBMDsqZzMoIzxTOEBhP0lOQiw5IUlJQSJJbEBCbzs+XlFoTFsrTllYcmkjRW82ZVpdPjxNXDkya1AjQUVPRWFqbWRVUC0qalZSQDdPdFRbKSJuVGM1Y0YwczYyPVBIRjElRjtwT21bUV8hQlEtMVkhVWdFRGNRNkJnSCFCbiNkXkBzc3FqTUpQQnVWMGchVHA1ZTFWUDtfI0pHUyJvMipCXytGcUJKQm1hP1Q8MmdFRjpETEFtJU5rVS0qM0wsKG9yTlImJWJlUnFgL21cWz4oKVZYaSdEMS1TOFhaajRxalMuU1E0V0UsSWBiZy1JQCcpVW9JTSVFS0hUJjdxTlNGPHJeY0otVlw2aT8iNmJAa3RebjAsdWEocG85KWtmdVU+Iy5IUSlKYylgTmxmYUdlPjoxPlVvISxCWmtJU19uTVkrR1wzL1M4aC5qU3M9dW45KzNEbF1JOi0+UVpYYj5FPDAiXDdTUT1HRyRTTUBPMjRfZkxXT0VFZlwnc0slcEVaREssOmVEJXUyW3NkSVs7ZiNYb08yWVZqPl5vN1RfUSU3Xjs9Q0luSFwocEMxSHJNYVNlMGFtQGJLKlVDRWg9J25lXGJLX1lkaWJeMy9ZIUFUJ0JBVWAjN2dOZDEhI3IvJWpBVV9IJ2dOZDEhJk1dbXJBVV5sbGdOZDEzKyMvaDwtM2NAUT8tS3NMR2JnUmNCKzorXGhCPW9FTSMjTT1SQmdtOU5dTFc1Mi1kJEYqMSFAW1FxbjBYLjZFPF0yJW9LZG1gNF4zY0ZGaGU1VUBUIkIpOUdDTjsnITAxMUw3LFsjKFFCU0hsJFYmYkJfNjlIOW5xND48VWpRcW9NSGlbQUMkSlQ2K1Y0RypINUlARzpxQWZbaXJpKU1RTVZDZG4pTU1PKDVpamI4LUVZSysqVyooK0xaOz9RIitxP0pnaiZRcGZsUVA2dGcoV2EmVSlRRUxOKUBSOVJHVD1bWGEwYFtjUyQuZmYpK2xRcFtdS1VxYUEhQSIiLilrYidPOHE+NiRgcl1vS0lVVnRXOSVYY0tacT9laztuMTQ8KlpkJGVdcUtUci48OkBFPWldLmYvKE1xXEwqNFU4XElGUm5ibzsqcUE9PC5KPW41J0ddIl08OnEiKy8kI29RQXFzLTs5JCs+RG4jXCM0RW5jIkQ+LyYrSUlbV3JmZzg/UC0lOk1HYUE/cyNOb2JnNFsiTSpvK10wWlY/XUw+YEJBIzRxSm5sR1E3cXRIN29cIlRnQEM9YTdIW2M5NFowK0c5cFpaVFViYChAcDJjbFhEYG1jTFZVQU8mZ0hORF5XX2M5aUcyPTomb0IwPys7WCtTUF4pX3UrYChfbWo+UzsvXFxRTWkkO2heRFpNLTpjLCczK0tzVGVaYT86S2AtaiQtJmV1ZjtyYGN1ODQ+cE9tVHBWQ0MwQzUwQCZQRUIsbUk9TVJKQz03SExSamBhYT9CSmc3NThxYWFDcFFbOTI9OGM/WTtrRWJqQFBlVWdoJ1ptNCwsPy48JC1Ka2F1XFJUaEBfOUEnWCVAVlUiKz0sVnEqXyhqSUcnM1FuKF9RN002aGkuKlRMbWk/PT4+V0EpTXFOXSxOLGdYV0U3cz8pNSpPKVdlUWNDSG07ZG9JPEU/WFljU04sSSdnSk8iOVQ8clhFXFQ7X2ZdN1gqZGBUW2NcPi00Z2hiP0pdXVEsYDI6cmVmWWZuK0ktRVxVZDtnI1c6XTxOcEFEaj8jaExcdVhCWGo0M2dzVlgxMHFaUldmME9LcEImR3U+clUpVnMyNkAoJCheI11pW0hhaiI9YzFwNzheRm9CZl9bbklzNC9aKiJiNjIkYXRtTDRONU5KalFHVCd0OlxOcXIrMi42dDUhOVBza1RaZV0kIiFkKzBVSGFPUERaZGwnSWglbSRtMWM7KXEhXnNfJ3JGSGU8YWpKQDxKRUBmdCRpKDpCVkwyQyIrNnA6RGxBKDhlXUhUMT4+WG9KT1AuZ0tIQiteO2ZiUmdJMjplPEIqQEA/QyQhVDBwJVQyTm9tYmgzX0pbWDVnK1BjPyUxPE9YTmNWR3BKXWItI0VSLTc7ZCJCPiwtO2hnaF9fPiNpVygyW25JUEdtM1JxWE4kQGdlXUhcVWc1LSIjYWQ4NzVDajJrMkshcj0jV3RpQkVJQnVOXlp1YD5iTTZoW3U2JHFhcDdJcHRlXDBsKlxcMlAqPjlsTUVZRFZDOTlRKl1ZWD4iI1l0Ok9hbS0tXk0oZD9oLEU0MDZ0WiRjPVlJJTxdMkRzbFouME8scWkvZTtVMW0wUDFQJ2A+MU91REZYbWYmYWxWakNDW2pkOiZDIk1VUlAxc1ZDPidtYEkrOFxDYypMWEszb1E+c1Y/Zj9cWklmI1Q/Py9aZ0BFcmFrYkgrXklGIk1cTUVsJ0VmMUxLYUJEKUM/UjZKV2NhYFY4KmJPQiRfI19oLUxIPVJVUUpNc2FCVDY/U2snV1s1PmVtKDE8bS85Sj5uLj1CIzFrRiF1IWMrNXIpTS02KDtbQ2khSFIsbGVoa0hIbDtnWD1UcXBNcydEMTNLMUJXPUg5MlZXQ3Q4UipOLG1LaHBANW5CQDVxQWZKdSVlWFZQIzwvRl4nRzsuKlNrJzs8QFQjNztQLEhPSzhMWV1eLnEmNURFSGtZQ29TW2pWRy8oVGlbP0tLXC5rczhtSSs1RD9VLGVzNz42QDpSalRLLmNCLEwxKSlwRksvPmJgQ2g1OTRROEdOW1s9Q14sNTFAckg8KShpSkgqW2FMZmhscyhnXEhtcitRLmY3SmMvbSVxWC81SXFscC9UTCFoVGMqOEVVbV8+PG9fNVRnJVhWSm1xLCpbSSElZmJdKTskVUo9KjpBcjdCLkVdYFxPLT5yPVYyLzE7LCw3b3RXSk9uTFgjQ2ZFb2pxVkZdNT5nSztKJVliMENtOVEsZzw0ZzdaSENTOWsxTU0vW1ouZGguQzNZJlNyREkxUDxyVitxLWVoQ246LEpqciQnbkMwMVAsOi9mamZmITNrW29AUjVbOydjKWJLOjtMcG9jV1t1X1wnbCNxbGw2c1FwVyslYl4/THBvYz1WZ29qXFI8RkMpck5WKEskMksvJWZeamxFIkJxM0dlcFgjMyhePS10KnRgOC9YVFRKcThDSk5DQlw3ckgoa3VgNGA6WEdJOyYkbltoQGFnVjZAS1dmRS5rXGc+YkAqIjc1NWVAL1duQy1pKCRXUWE4IjQtPj1iQkorJVZBUzVMTyZPUTBRNkBbamNuYU9MPiQhVG5fPnBKMjJwO11oc1dANFhjJT9SJ283YlQ5KCFcOyY4K0ImX0FEazdvPkw+R1k/IUokMklGNEFKKmMzJCUybCgnTGMvYER1SHFwb0VrPkVlQ2FAOzRiZDFjakxdPi9LWStPSz1rYiMxQzwzTFtsalJOI1JianUyX11CTlBBaVRuRyFjYFdUREE7M3AzP2Q1bEVJQzAmJ11uSTsrbDNpT0k2ckFzamxTUUhoQF4tQyFlKGpGanVHYEFvdUBpci1mYk0xQSdeNS4oaTFMMSwyS2BtKExvMV1bSl5dMkw+NF06MV42UCMpalAqaEs0SU07YjhKYkVNIUdecCw6VidlRXJzISNpcWU/Kzg7ZCcyUyxkSmFcMzsnI09zOWllLWJycTFUaGlJYlVlIV9yJDFZLF5bWkVacjVFSGUxcl9TWUAvJG5eMm8udTM0LydGPGZyPVBgWGdlLEItRTVuXjxOQ2wlbzVyIThDJzstb2dmLWZXSzsvVnM9aVtrYm8tZmRjcERPcU8kL0o2U15qQDwnYlNlTCo4T2pHSzY3bz0vcSdCRUFJQ2EiM25JTlVOQXIoKW4tPFxvbStnRCZWTC83WzkpN3RfZSQuZmhgTCkzXnBWLmFiSSpgT0smR0pAN15KVDkoIVxcVHByK1ttWEpuTzw2cCVHdHMxKTZzUUBHKyU8X2M6NUhBSTZEJmNNN0NkXD1PRGsqJkwlR11JSl5pP0QsPF5jY2JzXS1dO2hWY2dOKjRtVyZTZkNoIlJIUDA5VWFoOjcpTCZbaig6OlBnJmM4QjY+ZE0hanVGVUEmb2k9ZElNQ28rMz9kNWxFSUMwJiddbkk7K2wzaDxJMCtqM2psU1FoXkBmTV5kTzQpXDtJZSU2b0dEQyVvQjxuW14lN2RcViEza3AxdU06KF09SDAwVnUqNDolJTloYlRBLDwsZGlJJGNpJ1RqMGJbc1A8cmpYIU0tUEddVzIuUEE0YTBjMTRPXGU5Oyk6UEhJVHU0KUokMihXbSE4VnRdI1xhaWghW3VAQSNGWiUuUjlCKWdbYzh0WUxSZFQzQU40aVxITDdOaU9PQERIblYoZCppJEwhImRlKE9ZKE5wbzUyY1VhJVZFOlpiWVFwI3AuRVwjOGgoYzxrNFwzTGM5dWE6IU5bY1hFNXBDMj0mbiJwXmJlYmg7SE8tW3BZbTdpSVtAKDFjRSZFYVlTRVUxPDJLa3U2VTtONWBNP2tlRVgtXUQkZGUoT1koM1o/UFMzYl9KYSZFaUpUTkBSSmVvXHIzKEE9RCZRcEs7RjdvXj5zVE5ARmZbZTdXa1hLbydjWWM4W2lUVzpuWT1bX3Q7TzJLSzo/U2lUa0Q8Ll9FMD5TX2Q6JmpBU1RZTFZgWjYnMT1tWWBNRUJJc04hT2gqP0dXaD9tSjBMWTNPUiVmMnBQLyVYLjQvNk50UjdkVTZBRiczOyNYS2E/YyVGMERqQTdxc1FEI2lyLDklUGhkJFk/NlJGJScqajdrcT0uOjJwOj5TKDxYfj5lbmRzdHJlYW0KZW5kb2JqCjE0NSAwIG9iago8PAovRmlsdGVyIFsgL0FTQ0lJODVEZWNvZGUgL0ZsYXRlRGVjb2RlIF0gL0xlbmd0aCA2Mzg5Cj4+CnN0cmVhbQpHYiIvbD9aWTZlRy9gQTk7dCk0bmZrTjtHODw/NjJubyZfZTtrJGB1XCR1Jlc8QFpbZkFwXyNTVCIpQ0ZDOywrUDkzY3VfbV8sREFLNF03SzNdamQjVDhrKVJram1xcFpyS3M0cnRQRCptXCknLm05VDZYXkpmajdgT2ZXUlJeK0MhckxzI1JdL1RhS3IpOTFlPFJGbEo9bmY/SG1QQE85MF8rZXFSbio3bkZBNVc1ZE0sSzRpcVQhJTU+Ok5MZ25hXGxELG1UOlJtT05aOy81bUdXM1lnR0QoaFUqVkswSSpEaGRxYVlbaCUpPyFZKmlMXkkvUG1fNyVvcHQ8UWppSU1oaitSbmphYTVYXXFzM0xHU3M2bmtGQStBdSpgT2siQTJwXnFQNE8sJFZcTmAyYEZCKC9vV2JwP0dqNFlsQTdaQVgoPTRJV244OkM1S2RJbSJRW0RvPVBXRFxNKkZzWDQoVDllS0tzNCdSUkosXF1RcFErY09cU2YrPElHMDAxSS85MF8wTyE9XUkjJ1MuZlJKMVpxczM0VFxHYGkxcT0rJUByUHVyRlEpXnBkKlpzZFVMTmk6aGdVP0hxZ1klZTg1cyYnOC9GJFVJXVZnK1JdO2ciN2o0UTZLYGMnWF5gYjIyYHFfIS48cVUta2YxaiFgSDo3ZCd0RFpBaGlhNV5WJm5FJVFqXCYxWmFGISlRIXI1akJZIV9ec2k9Vzs4ZElYK3ByPE5WNmVSYldhQGRkVCouXyE0VS1dJVBXNWIscWtJaXFiIUdBKElRSTUzbXNnWHNwRVNEcjI/J25BNnVdbT4oLkY+SDZaOlI9MjJtZjFqUGU5alZRMytyVzxXNTVfZFUyMm1gS3ItZyY3QXBEdT5lWW07cUBKcF4qZ1F0bl5ETFgpNjcsRm1dKDJWI1E9QkZlYy9WY1E7R1hMRytBZmZqRSVeMlxjclV1a0FqJ2h1YGJMPkVLRUlAV1g6cikqMzw/MVg8cWtxMU41KENGXmlPZiFja1BhMTdAVUoqdWEwNUEpcD90NkQzalQlYjZlXFxJXDEuJkIoLUk7a2g7UlA3ajYnNE1pRnQ9PUlRZCVpRyc+I21XTF0jS1w1TFNjMmZpO1spVitPcl9fcGBFZVJibVxmPC5ucWBkMjRRKC4wXWY5XU5qMVtVKiIpbnVfLzhpZm4/bnMjc3RTYTg+ZzZaKyk6RT5LYyQrP3JrQXJhNm0hbWlWc18tbV1UbUQpNmByNkslS3QvWDM6SVFjYUtOKzxTP1pPRy0/LXA9MDtAJ3BVc2AnYjBSTXJGJ2VcKXFIMi9UTy89aypiOV44OmM0Ozh0RyVQXyNXY0pva0ItaktvXHRjcj9jKFlobWpjW247Ni5ILGJraD1TSy9qXC9Lb1lySVMucCUkSHBlT21BWD9ZQyhGQURlXjkrdVFxcVhgcSkuUzw0KCk0akBzTUE3VEpdcXNWJ1NXVGhVRD1jYXJRRzskbXM4TTM7blMlWGA7MFJxVWZrUzNsVlNBZGtEN25KYURhVVMyV1UzTypESCdkM05KMjs4MGxtUko/ZFE3LmtAbjpyY2gkZjVXYFNaXVFvLW9mXkM4SEY/T29xQldzPFFqUklvOC41T0VSI1pkbGwzUGNnPmUuXk48clZzMkpbPCotN1VGLnAwZ0lKZlBYTzpVKDVEKSRFPDZiUjVoW3NdOnFSRTkwLmIuIjYoV2A2XSRyKzM2YG5JTlVwTFxEPXMkX19oQ3EiMWZqRSg0PFlcJSdFLSwoQmo9LSdnbyIqR2hTOFNzP1BsWE9bRGVnJ1w4KGBdSEhdMktXJmBXcDksNj0pM1ErIWNRKnBRQF5dMUpCVD8kNVtYK0VZXkczPFw9VGhPOilgITVoX2soVFtBXVwhZWtUdEskZ1FFYmdJXzMhb1ZOXCg5SltCZ1RmQ09rZWE+Ims/Zz1kbWI9XkooUlMpXkg7XmxvXkhoRjghPWZKQy1ZSV5tS15LamdlPGJqMjhRVUozPzJqTnJOLXEjaWJpUzlnRmcrZlxuQVk3PDM+TGtlPEQlZlg/WUleQz9IQUFOQnA5Ky1tN1Q3aVNeWWRBKyp0JGAwOTAvaUA/JypJOj88dV1GUT5dLmZeMyF1b15GZjtePDQyI0ooOkdrWGRrIzl1az9IT1UnczFXb082JW5HPSo/VzheM3MtaEslPVhfaC5iQ1smJyk0VldRLFhZPjItKmxpMmhSMz00YGJIU1IjT1klUydnLGo3NFBrT3QwQVNvOkEidFJJTnNAcEptUFtmLksvUitRJzNFV0JabTlIPlciWVxwUVRHXCxuNzJrUGltT2UsPUFJcTNaJ09tW0YlTEdlISxWPnJnPzdmI3VKWFM1IXRxbD5sJ2BDcVRzT2c6anVhXjk7SWVZclVea25dWjBlOVBwSmVRI0A2Zm4yWGRnYEBXXFlsU08wV2xISmVkSV1gYzZlcTJHQDVTcXQmTkFsRlpEKCgnUUdGSVVeVCNtQDtXIVtGPD4/VkhEY2luMHU+c2FqQVROPydkZUVhSlkpUkhYOVdiVHFMZz1JdEFOIlU2SzNDP2xPL29xP0FcIlBhdWJIPGFHbzYsQFUyLC07XzxOPC5lWj9LJT1RPz5ZI1dhREU3bztyTlQnc3JBQ11YWFc6RjdsJFkydURAPF5LWFthPGJoYk5GJFcrSHBwajJyMlk5SmxkXlY1PGV0ITk3OkRJUVRLbWkwNGxUMXI8RDUlUjU8RUhQL0ReczwnU0djRkNoLFgvVGhfMiFDbFpKLj1wZ2lkV2VgRXJJcTlGRyhGSytTNCYjSEFxYk1MaDw0Iz5acWxmWUUkbmpSQyc/KS44TnErblBaZzhoXXNsPy05Oz8hR2pdNFk2SDJtYi90WDs6STVuLG1AQVIvcEMxOUdZdCUhaDVUWV1TSUZpITxtKzgkYmRYTmxiMVg4PD0mT05TXiRoZkxsJE1bTElCLjopKEw4UDhtPzNkZSsqQm0sbGchIzNZITtfP1snY2BKJ3N0U3A9Wj5hT2JlQS03YlVuYFBxJWUtQyVGWC5aPSQhSExxPVxCPiU5aHFCVi44LTFLQU9xJjtEY3N0ZVFQdTxKb2VgMj88dXQ7UFxpZUQzdFxPTHErPyhhR09YLT5iSEI6OlwjPUI1Y085QkVeOipuMGxBWysnOjFOUFZbYmBzLGJUWVEwZUpfJ3NlWHFnW1FMXG5WR2ouZltZPGYvVzY9RF9mQ2pjV0Q2PD9hLmxSSEs2LmNvRklgPio3Wz5PQilkP2UvdCkmLDRuYkRBS1kvb2tMJEZGaG48OT0wRjYjZV1aVGo7Uk5oIkhaQXEjNDsicEpvdG4xZD5BLTFdPkpwbz5KIWs0cDk/VyNtbC9cYUhWPStyODcyT29oXTszKjlpOUpqKC9kOyYvZT1DbyZIP11cRzwyUEZTOmo6YSRyMCkmJUJASSFqTTNGUGlHMCo6aFNRVDNNKDtEWVNsLFtvOVMpJ05WQkMmSlNcbTlFRFZIVTAlRk1UQys9MEY2I1UhISlraG1lVTNYU143Wz4uYU5DX2NQOz8vNW9kOiddaVE7JFVnOy5NZCdGPT9MOCorZHBFNWxHKSx0T21hXi1mQ1d0OlNOTGBfYmBQcmlZZjwxMEE7Y0VDPGg3REpEQyJqXU9MIW5NV01iPE9sbEM7biJqWFxSRy9ULFI9R2RXOkk4XChlTW1eUjMobUc5SmwqKG0/YSZXKC5gUzVDbXNoQFs7QUk4W1c+WFNfcDAtbDpUQyFBYEg1UnReKjkkT3I1R01nMSkhbmBnUkdbSnVpTjA4SUkmYTFqIUZON0ZaWXBOUG80a2ZTZTVSTys7Ik0yaDclMUInIzU8bkhAWjcoLSJnRl0iLk42RCVkVUluVC5ZUmhLVDAtRSk1ZW4lKVUzTiZKXkReJCtiU2VUcWpwZTpXYWksXWBtaSpOMCgoXHRISDtHMWwncDNZTCxzRS4xKXRwJUg5QWgxcWRLSSFZZ2tHJ3RuSTltOkNARFxqLkFlW2M2VydTTUgpKkhJYEZAXzJoLj03KD1hX2UxSEFdcl5KJktxOlo/MjRTImI/RzQxSmJKcS1uSF09Ym1HREI5N0w6PHBQWzluJExjVlIkIWBHOXBWXSdvZGViUGA2YVkkVShdbDdkXCMpOV1zbW5yUnAka1BRJ3NONkFgaDpELjtGTkRxOUluWG1dcHFxSVUmcm88YGs5KSZeUkU6W041P1RdZF9GOkYyPllBblkwXEMiVlkjNXNPOmk/Xjxsbl5kMm1CXExRZmhLZ1NiaCt1JlxmIytfU2UrTVwlQEdGVi0vRGFSQ25xcWJTaiFgMTNdXlhRJj1VMl9iOGJ1VFtXTToyWUpSTzomNV5yXG0pNShCLWosb0d0T2phPTxgXTUoSGZhalNfOmJeMmI4QmdqZGQvZHUla0JLKUU+TCZrMiVkMWpRLVttPTJnV2tiNCR0Rzs3N3FpYiUiZiJ1JCIjKDRKVW44QVI4aDJsNSoraWplQTpKVlROWixxdSpYVU1sUztzQWFFSzNPVXAqWmN1VyxcP2ZPZFBZZFVaM2FlY0xIKGhcIiNaQypSOVksNVA2NldDPCIrMGErLGlZYk1wMEI8KGJeQlZXKC0yLnBBMDwhNi51I05JXkBrOidOK0YjczhqKzU8MGFXOUk5MSFhU3Q3QkoyM0QqLDtKNFM3TCg+PzhcQ1ZeL2EjbylMTj90ZCcwanA/SDdaXkslI0FrNThRaFEiTihWMlEhIyYrInFIOzQ/WmlWcClqVWE2TVo5TD5lVEwtcXRHVS1nTEVdUUk+UzN1ZzthU3Q3QkotbjtsaWZUVnUtX2djQ2E+a01hVmdIVl9QTEpMRykjOysyb1ZgO0tFPUBZQkE0XXBvKFE6dS4zV0tnZzkpO108VTlqdFUrbHM3bCFqWSROKTUnPUFUbS5obklyW1M4S3EoTyM4QkNla0ZGWF1ZTFo0R2BuTCgoNjw2LidGRGw3cypxMzA6ZGdfZmsqTzYhODA1cnQjZF9TZFpsX1cmNDk8KF88NjlMcSxMbCI8R0NkTCkhaDEkLDJmIWpZJE4pK1UqXkVzTmZuZnE0ZHBVSi9sbCJIUzYmOkpTci0tS1o7IjdxMEsxTi9qWixiVy1BVVZnSFZfUExKTEcpIzcpcDE4QCQoYSJcXlJPWDRSWT84KmlUbE1zVTwuSHRKNk1wX3NKS1Ruak4jZyEjK0E6UCJJTFo0R1hyUTQ6KCdsamYnLDljckpkZkNyWiovWzZxYGgvMiI6YSwiYF1VZUlCaz4rai5GKD04RTVMUTtqOEIzRy1fTj8tVUVGKD1LLTBrUCkzJT0qKTc+b1MkXmtAcT5jajdfbGpDRWNKM0paVVZPVCE7YyEjOU1hYD9RUSdQTEJPXmo7YSVJQGBHJSElVCI+M09NJS5QL2EjbylMTj90ZCcwanA/NSJOXksrTXM2ZUFUOyQxLk9GQlw5SzRLY0IxN2EsJEdfPVo2ZFErW3JvQFU/JDk8biRPY11PYGtsO0g9JWBLWTlxaWZKMC5jX1MsN3EwSzFOIi9aLWtFKj9JbU9kVHQ6NTxuI2o6YWJAVVEjZjRFUWYiaDRMLTRgYzNtKzxBLVxiNiNxJG5wWEN0STdfKGVZWDNAVHI8bHFeQnI7LCw3cCJIUzYmOkpTci06IT5VI08rY2pxOjwtNCtiVyxmZWAvSG51KkNodEFrPjhnXm1PZFR0OjU8biNqQTVgcU47PVk7YSsrRmNRQl1ANl81TlUiIiMvXTBVbjhBUjhoMGxUO0BZdTsrVCVAZCFAbS5NTUZVIywtYDcmR2E+anJxS147SzAjSDNgKi1tIjNfSWtqJk1LcShPJEcuUC9RNTwwYjBOS0kkNzg8PFRpKlFOWzk4IV1DWUgsNkdEWDkxMDhVbmpVdC9QN01uJzJmPCssOVpsSVA2IS9vKi9bNlFwKlphPzw2Lic2TytjanE6J1tfWkYhcilkKTFPRCY1X1lecW5vaFVSUzNLIlNjQWRyXnIoKW5GKzxBTFEjWTEyRmBIZjp1UGNPc0BpTTw5QSdlTiQuISMmNj81cElOTFBFUSJzajthJUk2TTtlKSInIT8lJ1RbcTY6Sk0ubk9FMmZrTSZDZHUzXkFDaDZoNUUzXCIjWkMqUjlZLDpdKmJEZWlsWEYwaDlhYGFIRWJlMCxUdDsqSXAwclM6cE9AVS4mYyJhNClqKlViaS5ZNTwwVE9lTTY0dTQ7K3FhMz86Vz8xJDkqMSchYV9eKkNuWDdrN0JgZzFdQ3AsKiooJUw2aCw/MlwiI1pDKlI5WSw1UDY2V2xAWDB1IiFTXmY7QVNGIVVKZUItXmtAbzdJVEVnKFhUMiRjMzxZPWxscV5AXFcvdSdLKlhVTWxTLjhAPWs+NDhSWjlMPmlUTC1xdEdVLW8hYWxpXj5FWHA0R2wvJElbakUqQD83UiQ+ZTRtSVpBKiE3Qik9XS0kdSJmInUkJWAhYV1QKCRIPS4nM0pDODMkZzRKRiQnLCMsbVcpLWxyXUpUOj9CZittMlphJyFhX14qTT5hRVRtLmhwcjVuLiYnbGpmK2daZFI4cm9BL1wyYiQiJCw8Yj1FRjt0QiwqKkgvVGs2N1ZZWjQ9WydQRUxBcVptYCRWOUxxL0hOSV5AazonUllZRiFyKDlmcTRjRTphLCF1NDsrcWEzPz1iWmNDb0ouQilLZDchIzlNYWFrUSg6RXJQLUEzJmE7am5LVSZvST85SiFObVI9O1AtP28hKG1VNykhJClcSTZNYWo0VTlvTV5GQStcRE5JXkBrOjwkLWxqckF0QzZNO2UpaiFZcGglYCdBNXFpZktLUGBAYlppL3NEcy1fb11NKkhNXzBnWmRSOHJvQS9cMmIqZXJPM0ZPNWRXI1xPRStET0NTLzcsVmFaOUQ4Oi5rQGNkQSF1TDBIb05oMV1qc0kzPm5KVmNDb0ouQTpKVlw1X1lecW5PVWIjakUsblozSlpVVlIuMlEhIichPyUsXUJULWJQQEBOaVM1OkdgL2pQaCYoNUcrTGk/bHI9ZSQ6ZTkkJypvJzJEMHI9amB0TiFcYmVaJjJYSG81PDBVUzZJKTlMLFwyQ0YzXkFDaDZoKl5ncm9BME8kOTxuJE9kUFlkVUI9SzozQCZPQEhjdTVLZSlCKCFxOEE/ZFciNzxyJSNBazU4UWhRIk4oVjJRISMmKyJxSDs0P1ppVnApalVhNk1aOUw+ZVRMLXF0R1UtZ0xFXVFJPlMzdWc7YVN0N0JKLW47bGlmVFZ1LV9nY0NhPmtNYVZnSFZfUExKTEcpIzsrMmpKX1c4M2ZaM2VgP1MkbWlrL1l1OHAxMjY4MnBxP0IxN2EsJEJAdDxqZU9eN1o5TD5lOCNfa3MjVGE8KlQ6Q3E6PDZSPypPK2NqcTo8LTNdanJBdENAYEclIU5oXVJ0Mz4/RDBIY3U1S2UpQighcSw5TDVVSFY1aDBkKz5xLSJWKCYwSWVDNyEpLEAkbCI8R0NkTCpkQ1BYRWUnYVN0NzJKLW47bGlmVD8kYWxyZD9FWHAmNStvQEpQIUBtLk1NRlYtcVQ4WDdWK200cyJTYUopbTpKUVtkQSluOmZkXEF1c2EiXF5ST1g0Ulk/OCppVGxNc1U8Lkh0SjZNcF9zSktUbmpOI2chIytBOlAiSUxaNEdYclE0OignbGpmJyw5Y3JKZGZDcloqL1s2cWBoLzIiOmEsImBdVWVJQms+K2ouRig9OEU1TFE7ajhCM0ctX04/LVVFRig9Sy0wa1ApMyU9Kik3Pm9TJF5rQHE+Y2o3X2xqQ0VjSjNKWlVWT1QhO2MhIzlNYWA/UVEnUExCT15qO2ElSUBgRyUhJVQiPjNPTSUuUC9hI28pTE4/dGQnMGhZVDUiRVg6I0s1WkYuSHRJS1A3aiVySSluNERnYy1aYlBKIkxwQF5cajE1OnE1RmQ7Vm9VMkNcJVZBTnFwbyVaNzU0Vj5cJ243N1AzXTEhdWYoVDpiV3MvYE5GakFkSSpjcDYicWgsSmxEbWNtUEVbYGRDQy1RP0wsMmotOS8hWDo4Kz0/NUZHXjo4cjUqMEhZRkUjREJtVU9GQzVOKkEtMzImNjJXWjpKNl9DJ2NbaTE5JDchRWFfZUQ6NlVFViQ9WytLIU5Ec2pmTGEzKz0tW1M9cE4pbFRXKCJhMSw7LkRmTzU0OWc6TEBeVjFoLDY3SDcrOVhGLG9EV1FuKDtzSzgzXFc4TiMhNmxjN0o6Wi0oISFkQSNHYCtyTnRXQD4lLWJPWmBLYzc+dC08JlNSbkQjUDxHW0g3T3VpZyRMRVZRVyVtMHRTZjVBPFdIIWcnPXM+Z3Q8WzdiXEsjKjcpXShxNkJgXTsuRGpMbFIyRVRCKS5cVmUmMyw6XF1uLVJEOUZHQlpIb09sTjgkLUwxI1pXKiVLZnJMb2NNaE9TYHVQMF5nL08kJ2xUW0JuQi46c1VdY2JZWEFlcSlXdFRKJlJvVyM4WTM5Wml+PmVuZHN0cmVhbQplbmRvYmoKMTQ2IDAgb2JqCjw8Ci9GaWx0ZXIgWyAvQVNDSUk4NURlY29kZSAvRmxhdGVEZWNvZGUgXSAvTGVuZ3RoIDU2NzEKPj4Kc3RyZWFtCkdiIi9sPkVkZ00oISM1MS5KVkNhMUgjPmMiPj1dLC0oL2wvOjdYQW5RZDBPcU1SIzFvTW5AXGNpYnIwOihCUGwuM003UW5QVl1Kc2cmY2BkXklRM2EoTGVoTDgkKVssZWM0NkY7PXAyNmQ5IzVwTGw6S0E1MnA6SDdXODg8SUpyPElzNFRdbVlhZSxjQHJZRDI3MnNdVjBOSVo8cDtPYEFMV24zcWlOXD1fUnFWaWBNcTxEa29QLDloMSlCSVRhRz1LNmpMa0dIakRnSzBZRGlbRztxOnVhXVAtb3NJRUkvXEduUmckRXNhSUVaXHNLTUlzLjxpSDZaPiQmYlk+V0Q9a2YuczhNYChJc3EoM2tmbG9OUmtMTzxfbmJ0b14vakw0KltdLisyIS5BdEI7czI0SFQsMnJgJlVLIzhlQ2pOK1IsXThFZ2M6Imp1YUUtVTNXZ3FbP2kzOWlrSWhOa2Y8RjlEc2hPQ1xtPCRXKiZiOk5pRDdlIjFwLnFnPmc1SmtjaEkrRUFmIztLN05cKT5fcC0pSWArJ2k5WEtfLzpuRmY9aTpxInVpUW86bk4iJmk4dW9PYj1paDNBYl1xdT1LZGttQ2JpVi9fcT1cW2ohWSsranNMcm9CO2ZmLT5MYTJTJ1wkQzRDPD5cWl1wMFwoLEJmZTVaLCRvPCwmNl1JUyYtbk5BTzo9aSwrL2pdODAsa0gpO2hGLTdVKj4vWzcwPD45RXNOR0okaj1qLmBDYz42ZXVCIWowTzdzNllSR3FfPio8LjwnUWtDaylUTTZvNjBJVDAnNlM+UyNFX2toQDlTJWYlN1JePjRtYWRnIi1MYVM9KloiT2RNZ2NZU2s0PDowSXJMNlY1alorPEBWdC49QWMwYFA6JWRJTVpyOFFiUmdQPU5oUTEkMV0vaik5cnIrIS1LUDFFZl4zR1dHJXBiZSpBVmUzRjFmUGs7S2UubGJTR1BPIi9zIjk0UUJTXWU/YE9ySGFaKC1nbClcdSorcHAiODQ8K18xI20uK3FIcXAhVV1BLEYtJiU8IjFcV1lFJz4/KUFiaWwmZ08mb3JAISNtJDhcMTo8WDZwV0VoPEVhaWMpaDdGTS9daWBxM0JIOEAwKVFJLkdJX0k/KFY1OyJMUWIxcHVma0VmTzMqLF1aSylsPiovajIudElXczJWVnFeMFIiTj1FUDFrI0s9QGZlIzxFUz0xT0JgSlJRNFs7K1cyV3I9WCFJK0llaz5aKycjJidIOD1vXksoaS5eT25jJ3QsJSluQmVdKCtgMUQ0bjkhNltFN09nby1ZS3BcVzNHJkA2US5jNmhGZStxUWBPSUtuP1EmV28xIkZMZlAiQT5NO3EqW2VNZUVBJDYnRzBxdEg3LkJbTXEmYE89UWdaYUxlSTxHc2FiU0REVzJfZF4qWzREJWBycEQ9NydrcS5bOT43SmQ7Rk5pcmY0Xi9CPVYpIUM+PUNKOGhuRlo1OVk4J15ka2BGPEtIOGZjYUU3TEVkLVlLcFxSJz4/bTZSaCZpXW9iaHUmVz0kbjQtLDpyTWpjcmopWVAmNzlCLF80QEosJic5NUhFXmRWUE4zWzxFKnE3J0o+OV1qS0gxaEgpaEFaNlYjKCkwRCNbKW00TEppUUFWSCg7ImpXRVBkbjBBTChjT0ZNR0ZdZ1ZsSzdEWmZQSzJBZDRRaUJRJmVkMyMrWnA/Jk9GIk9bMWNqNSZra0xrMCUuJT5SVUMycDwtZTcoJjVRaCIwb1ZjN2o3Z1Jnck42a0hOVXBYR0FbUGdPImMkOkBpP0oxNjlVMFMkcnVUJTZHJlhqYCNyX0BlQ2F0OTVIbDspKChOUldmcSRKXCo4QGUzLSFLXCVwLUxAWWg0QitOM2ImSWgvWFxpZFxMKUJBPlBbJjIwZlhYJXVdT2dMMmdccV1hLDRKQWJWZzQoYjtubGZKVnAtUFRhdEVUcVdROWUoTC5tME5zdGleUClvT2RrZXFLLlVrJEJdbm47YzdAQTouIz5hSkYyUyFAITd1Uz9aVkslP0FBJytBQVlzVXAvRGgkSjprJz89Xl5PNl1wVDpkOjReTUVpc2c9TmddJXJGbzRkIV0hSHJVITNbP2NNcipZJy50UGRSJjI0ay9DV1xgSS03TkM6ZDAuSDArYk0/J0wvXi8lO19NZzokXTJbXWVFVWRmNlRHJ3BkbVU8J28yJ1Fib2krLWYtcDFnQiI7YyxZXWs5bCFPXDZXKyhGZyEuRmYjKStDTkZONC9yR05nUGokPCZxcyZLKF07RFVGOS0mbldqSVUkSU1fODAkIWI4RGQxR1hRayY3SmEldVU9UU85XSRmcD0tUzg8Z09US01gb0clTTA2dDllQydWPUAiWi5pajhsJklwdDBqJnNEMCk2Mk0+RTszWy5GRFtHLWlSI1tubyxeO3Jici8nVmM4az1nbXJPMF1DTTxTRGNGU3MoPEUlKlJGWThIbVNgX2I3OycxUltkNCtLJkUxcHMsSkAwT1YoTD02cDJySkFXRU1EOV5sIlJTdVk3bz4zV11IcTZAQFFLQlVOOFE5Im4wYXMqLiltW0xvXDEvUS1gMk8sZElAbDdKdShSZyIjJzdtJjlmcVJLWExLKzsnRlUuaTtGIXE2Q00qK1U5SHUpRTQ8dVhkTUFNU005MGlSR08kNiFbZmwobzlXK1lxPk5aIiEtInFkOzNaWjJxM1g9UnAmYiUwQmRvIm8mRiEvM2hnRDlCLlZMdUcsblJGZC1WLkxuPGFxVzdMLzV0LU4nMVJbZDQyQSI8VlBMMTsvSUYhVlZJL0ViWml0LG1AUFdpK2YvWENcJC8yIz1OaFpBbSVgRFMncCpaYDRXLig5Pm5XaklVJ0BCWlZeV2xsVWRWaUA2VDlwLE43YFM9JiNhXyE2Wm4jJ0M1STQkZD4+SChOUDNpN11fTzZSYVFGJidBVFU6MW4iNC5nVnJKQVdFV2FGcFNdSHE2QEBRS0QzZi9YQ1wkLzIjPU5oWkFtJWBEUXFpKGxhMjs+aU5cakBkNykwbjNYblFsQCYxbktWOlIoPUs/WiZjS3AvQVNqUz08KE9HImxqQEF0UlRlLjZZXyQ/XDw9Vjh1SkcoPztVU3JYNCI3X1xNckpCYmVXYUZwU11IcTZAQFFLRDNmL1hDXE0xQGYmKkNdWWUqMDtpUFtgLzAkbCFTQ05yNT1ZKFdFRGEnVSgyLzZiKlkjbktMbDNkW18/LCdOJmIwNj1xXz41JkBdKjlZYm1sXyxiaVtQRElrVyM5Zy5sNjcmNUlqV2Ira21ISjQ6NTgtY1s/YycxLVohP10wJipUVTZXISpzcDxMajlPRDVvZU0qLEw4WWVBc0dKXG1JWlVeUW50IyslQiI1YFheLzttLjojQjAldVRiKUlfZGNfOWVHSGY9Si8lWFY5NSNbZVdmKiVLYiFANi1yXFxyO2Y3NCYzaSQsTzlOYjpnM1hvJ1BPRkJiJlliZnJgWWZnRFhmTXQncm5lRyw5PGs2LSg3Iz5sWyciLUluOjJORDpQY2MzaCMwI2wwQjhlW1RQZm1HOF4jUCdXVk9ETkNYSXNkKzs6XF1GL3FYbzIlUHU3ckM9NltkSyYwWU1nIVhYbGZPXzhnbSZIV3RxJEpULVMmaT42KSwtJD1sVDJLLjcmbUEiK0pVQ2xLKXBPLzRbVjI3N2xeczltS2VRMFxycShLKHU+aTUsQlk8by1ucjpZKGUzZF9kUzNQXzdrZy9ZPzJNRTQhbEk9ZT1PTUtYcCVXTUNWT2dCIyZwbVlgP2Y8InAtZCpiPypeclZfPDJiSDQ3Kk5wOSNiaXA1VUJfRiM2aUQ5JHJpJXRGbVU3NDlxPic6NlMkL1Q4ZGlHKC83LyoxX2pxKWNOVTxQRENBIVc/alUsMCs3WmQrYi1CN0Y6c0kqczNVXFJiVVhOdTEqKG5cYDk5QSpyLW8ubUZBZj0kMlAtO21ULSZSJkBkZV5APGghVDshRWI0X14uZi9VUiRsaktVK0ZWcydgJm8mSHJlTm1dSTIwOlNSbi1HTUN0RUlOWj9NQV0uZEhzXyknYllQREoyL2kzdGo4QDRra2ZXQS9lU0Z1amJrN3BpKk10OlFsWV9OSHJQNFJbNk0lQ01nWkVzb0goPUwkUGpVPXRqRiQlKzt1Oj1ZJVN1dSFnPi4uVFtbVHQzSTF1SkBOVUEoNixzRENdSHRfcj8lZV9YJGszKSNLRjNnbyg0JV5eU2IyJkE9Km49M0ZrMkk4LkNjNz5TckdeW3BrcVpqNWglVlVQNFo5MyFkVzRhU2VWbzkjUFBIOi5SK2tRTktnX0d0ZFA6LmRiZl1QTi1NSy0icDk0OnMrMSpqRkRtPCktb0ghRGdxNm07V2JdXlRCb0g6RidHYUoyIWVUajc1UG9PYjRnRVMnMVVnXWA1JXQvXURGTWMhWm5FJDA4MzwsRURoZWFgR2xzZzlRZnJzSks+dUx0bUdcVDp1LHNKU1VoRzFUM0JzUUwsR0s6LzFvJiwvblZWPF1SbEVmV2VxNEZua2gwLUVMJU4tKypdNlosU102ckFXbFpTVVNNcl9QLERNP1A8NTI/KDlqdVNqNlJlPHMzWG4wMTNJMC8sRV5Wc0IrOkE1RiJoUD51ZE50WFMqZEBLQlRLTVBgISg3UzRDVV4vITtVY1hLOmlATj1oY09cV1VBclhgWWosJC43WlJqYClGLV9WUFM1X15zWSQtM0NBJUMoXSNFcWZ1RWsxKVhvNTpXXm5pW3RWcjtlZGQsZ0xSVVJWcUZCR1Y1MEktdTNDYSUkJ3FcR3VNJnIiRSZQLkBkUT9wPjU8UCVbRzkxJl9jPDhbOT1aV0BnS15XOVhgPzN0NTkoPTlyKDVUL0k0IlBkRl9jQF5hKFs/WldjcUIzUztWaEJiSVBnT3FfVXVZcV9BWz5VJDNrcWcvZ0oqWS1RKDtPbW41Im1DS1oxTUI6WDFtJTVhVnBSQiNdLj1wbk1YNTQ3KkVHWUYjWFJESDpsP21QOCxaPD1iLDI6Qi01U3M2NiJESUJscG8+XTxVYWIlJGNfRj9ja01kQU9ZVGhVXEFbdXVWRiFsKEo7OzBWVmNSYTs2cE1lbFtqSStxSGhCKEYvaFwjQTReSSNtMlFTaFoqQVFjSEhxcDRPW2tKJiRASVVaSVpyaFxwOHFnP1JVcXFsWl5rMGl1V0c3WEZEbis4VSxoN3JHYmFaJ2VPPlxBQipWLE9oSzZCcCRXVi1NKG5CPk8mMDFMNFJzTDdkIXI1NiFmW1xPMzgiNFlLQ3VJQ1RgNzQsaUVMWDhHLlA0anJCRDM4NS0paHEuSFxoP3BfWmNcR2ZWND9qPkRpbmRhWmQ7NF9IKUViZi5wVitUYklub0owIkUvZkNvPktMNzAvcVFqS0g9W09TYFEnSXJWPk5HZjNAb2ZeIUJMPz8wSEspM0dWNTY2N00uX1wmdSUnVnNKNidFIU9vZjpPMSpyNSpyTnBoUidaVERqKkJiMT9nUmdAW1k9JzF0Zi06KkgldWQtJkhDJmJvJUlkZi8iNHJDXSNPRDJoISFIR3FzJ1hxbGxoKlA1Vyg7XS1VOCUqQTAhTCs2V0dQb1lkLV1HbyZOMnFuMFcyNjptZWpkcjxGa2E2I1BFK1FcaTNFciUjSXFWVDM6a1BBY2hCL1lNclkqKFBCLVk4KnMvLClkQVoyMHVnRUE/SyQoZiRcQEsjVGNiJjdwPFYmN3FAUFRrXGgjUy1VInVhP2NXdFxPaTcwa24yJ21mMTFnXlomVGVsUlwtKGwxKTxBLilkWFUkNkgyJywmO2JYZGYjPj5fYSVjSTZRNnMuKy02WEQiMzBOcDM1Im8qYDpcdERxZXIyNiVHZlBKIzZnODtjZjI2T0okW1tUVWU/I2dKaVomZC4jYzRNJz50O2pvMCchUjkmYkNZdDFcTHVNQzYiP3BBVyNcSURqW2k9VChXSmRDYCg4ImhEJkdXOmpSa10vLmghU1lXIXQpX2IoXSNGJ1I/OlBicWs4JGNHJVhqOkZvcW83UzJBbkhFL0lvSSxxNCVLSylzJyxtYUxYZiRSSy4ydGBJSnAwb0ApakhxJkthYm1bMCdqJD5lJCkuQ2laJmQuIyxRJDkrVGxfRSRUV2w8YCchIyE5UkhsLVJbJzZqO2Fgayw6MENkc3FaS2VUTiZVYzNILGtUTzYwVDk8UnRvcl5hK18ybUJjPlFsTFooNTVLdFRjZClWMUM1aUFlbDMqJ3UpYFQoJDU6XiZVZls9Xy9uM1xfO0hsYEtWQmwiVTQkJTg2SWFjVDc4NiRBJkApcW9KQSlyR28yS10+aEMhW1ZJa05IJXRla14kW1tOU2U/JjAmQDUsdUgrYnJtT1FtX2chWXFNRkFXaCRDaitEJkg4b0Mlb2Y5XDo7S1NtZjxYKGxpWkJmR2cnUEBELXEnTmNTSVgpakk0Ll1tMUhURidRZDBQVG81cjVBJm1fXENAVWM6QXI+KVl0bEtSX2coZUFQXW9nUilqSHEmXW0xSFRGJ1I/OlBicW0mR28yUV8+aEMhW1ZJQC9gKGxpWkJhPD9jbGpwPTdhaVg8OUdYS2tWImxDIm5RK0QmSDhvQyVvZjlcOjtLU21mPFgobGlaQmZHZydQQEQtcSdOY1NJWClqSTQuXW0xSFRGJ1FkMFBUbzVyNUEmbV9ZazIxLSFBakVVVW9ZSSVjYkMuTTBrInVzSENFc3A0Oks0aTAnaiQ+O21ZOE9MVllzakt0VGNkQzZuYmcwR3J1X09AKEViYlMsSExmR0RfWyghRzVXT0tyPC1xMDB0Qy1MOzE2Y2BsN2clKihAXGxqWlM5WWhoSk5hI1BkPSU4LCpSaEUyNGUzQTBBKDhlTFpKKyNFRWo+XFs7QlZnXXI3ZkkpY2RARClEW2F1XnM6JTgrc05oRTI0ZTNBMFktOSUxJCQ0Oks3ajAnaiQ+ZSQuW2slKihAXGo6Rm9xbzdTMkFuSEUwNDxgdT5MMjlGSnVPS3I8LXEwMHRDLUw7MTZjYGw3ZyUqKEBcbGpaUzlZaGhKTmEjUGQ9JTgsKlJoRTI0ZTNBMEEoOGVMWkorI0VFaj1EQVVTLVtlRylmSFlwSDdmOFp1OV9Vcy0nODJgQnJSaSFFbERfITAjWE9JSDFHOUhtO2RoPGpKZj07cD5wdV9ONj5kcSxPUzhEbTdOUiomYllpMTArODguZlFsQCNVJiVjOE1WdV5nTypPQG0/QzQwPllLQVApYmBVbSEqamAqLWVIO2M6LWRtS2cwYTQzJDE5cjFaWyYoMGQpQ1ZhbFRuWT5mNGIwODpJXDNEL0xESyxNOWgianI8XTpYZV80VjJASj5mbERCT1lLITVDMm1NJ21Ua3IwNFZWWE4+ZztcP09ZSyFlW2xeX3JcJGE4O2cpREx0NCZzIUApLDA5RVdvWVVDXHQzPytYVV9gcS5cZiFuNzlDaGJiLENRZShfcEpBOl5hJHJSVV08TTdIY1ghS3Rxa1NvV1cyayZ1YDRCLnVbYUttJSJRN2liUzM3SExaTDtKX1pqfj5lbmRzdHJlYW0KZW5kb2JqCjE0NyAwIG9iago8PAovRmlsdGVyIFsgL0FTQ0lJODVEZWNvZGUgL0ZsYXRlRGVjb2RlIF0gL0xlbmd0aCAyNTY5Cj4+CnN0cmVhbQpHYiIvKz8jU0lVJ1JlPDJpKyNmcCQ4M15qQG8jSUlbSFBzSGJOP01KJjdnVmloKV1ebGZrcD9MN3U8SSQ9VlJqYls9byQpOmNCVEU0aGZ1Pz0nJFlRIjJhc0BSYi5IWVRwSC4vbypRJD9abVpMaD9AV2YwZDReRVlKK3NPRi83OTAlbS5rVzZFdVd0ZVJ1Wj1cZVlgLnI3S04oclVNLlxFcTxbQkkyYW9CUzJDLTNeS1MxTlQ0VVN1U1UjOlclSTRabmAkWkhSTUVsSiEwYz1NVUBhQEQvOGBJUUAxNV9TWSRrJioqW1UhNWlrVEE6TyFJZVVuSzJvIS0nIUEtTC5gQUAuXERvZnRFZ1VNVWJHOGQ2bCIkX1haNWtxTEEjIjRAY0AzNkJtOXUkQGtwQSlwZFsuWUVSLEZ0VGxmNkgiRSRiSD4sOmRGSjVoNXJUOWBuZkErbFJILEZsREkidWxLLWNJZWFrW1xEIkA+JTVnJ0UpUkkuJClHKFtSNGNjOiNlZz47PVojIlxSRmEyPEc5RWtvcE5QImxGZkFOZUxxTEBtTlAxSzFjdFcqZEwwIkNXOyMnLVRGOkksLCZTbnJlZ2BuYFtxdWRVJycnP2lCNktJOEVeP1VnaSVQUFItTWxnJFUqPj0vYTQ2UjtvMVo1VSNecmEjSDM3J2JSYy1ibXNWZmFqVSgoM1gqMFRaXSdQSVQ4Njkqcl5zZF1HSVYyV05KQjArM2BpSUJmZDonO2xdZl4xOStQJGI3S0ZjLDZtNTwxO3M0SDBPNElTKFpHUzpwbVIhJyhbcVNnOzdEK1NDLHFVK04jOWU/Pik4bEt1KCRbaGFIb05dXnI7KCJyOldTbHBxKXI3ZUFAaz5XYl1LSmwyLjtCbWs7NE90USlwZTEmciZnOz0hN0NhMlokK2ZtZ0VWSWRzUEJxQnF1RzYjcV9QVWRySyU5Ty9wZ046VTBJTSwhSEMmbF9ZcGBqX1NxT1I/QiNvV1JbOXUlXEpuMnI2OG9DKEc9K1cxcjJ0Z1kwPnVbWTlfOUhEJGdlZk90VHRWOShVTlwrQi1RJHFDLmc2blRWL2Mpb1VoTyx1ZT1KMzVhaFNlZj9XamtNPmVpazIlPltpMDdsY0o3YTdqRUEvajkrRjdjS2w2NzhrVi1nVzZvQ1lfdVBmRWdySTEzOD0oNVs3TFw1LkM7SzJcKyNzKy8sI2JbTidESm51PUVxNlwpUGA5UDoqR2BcNHBkRUNNaDhzZFJSblJibSFTWD1aLlkramtPWUcuVW5pZ2tRcjxbU3M2Ri48cl9bQnU2VkdOZ0YhIjNZajNuWywyZzAmXEBZWHNLKiVdTSFLc1BeKiNsOnA+JkJEPG48Ji1tPjlVMUA4ZklJJWQwc0hWXEthcCc/Rkw9ZE1RI3A7O1BYZ1YvMVUoLTlHLjlEVykvZDtKX1pnMjNPSyQpTDRcOiFCJURdV18lYFlAImlUYidXQXUqV2g8REArLyJkZXFNaFdsYTA7dGM9SWJrQT04LV5cYiU2cWM/cSxWRCwmUC0lNlVIOnFjMTEmLjRxa0NqKFlRcSkyQFdUPjtAQzRBbUplLVtBMFNpMDhBYWE7YXNYJDg8dXFBUWwvcD9HTUA4SFY1RGJORG1uLk5qb2I8JVFlcnVbanVPJjhFQDo2bCRDRl51cmEtQ0dBbDRkR3JAR19xOiJ0OGxCaGFpVVJoN0FcIWlCTV4tTiQiIVdJTUAnUVtNS3RRbkA+QlFyXitzPm5jYiglaGVtKUJxPVFSYjNQOCJjJ0xbJjxcQzwzTXE5cEdjKV5aJDhuSDtsaTpJPjQvbExpJW5LNXBtSnB1aE1vS2RyRUxhUmMqWV91OztoPUpCLEMrRSpZM082NXVyYD9NZVhwb1MsRm1ma2g9b2VbWGYlU1kzSWxvITUoTVxCYFJjZTBXSiwybjRXVSJtRmQpNy80VD1RKjhAYUlfQVVEOW5DQ3Rpa01TVl5LWVJlQUpLX1JPNyNgW0EjY1Q/VS1pZ2JXbS9QaDtrWkF1QlY5QlxHRWxbY3QtTy5AYSRTMlRASUdrVmBOS1FzNiR1Sz0vLGw2MEtgKm1DMkUiYCUzV3I+NDttWmVxVC9bQEw3MjAuQGFUXTJHVClUZTcjN29ESmUjYy0naEFfU1xob09AVWdELEtQaVRtS3QuckFdK0Y0QCk8NFMxZ01iXSNNLTQ6QVticW4/WFVRNUFgKyYpOztgTTZFQ24pLHJaLDk+cWd0SnVQOGhAc2w0LCVgKWA1WGQ2JC9LM2QkWShcVG5oLFQ8L1ZDWGwlXjlmYj5wZ3QySkg8SWAlZSdoY2VxVC9bP3BWITY3UVo8RkNXIi5AWWI5VFZVUmY5NFs6LykwPU8/QjxkOCZZKiRGKT1HQmdUOWhmIzoxXEkqLiVJWGJRN200MmVUK0crRyJmLHQ9ck02Ykw6R1s6LypaPUtOKCZtMWRqSiUzKTRgQzNBMEZWZjZOamZKazBYWDJBTzJLbFxdXWBdMGglaC5FO2ZGL3NdMkptUFI2bVhANzlbZihCP1IkXTBoWDFxJDdfUlIhXmotKlRJJVwpaSJjRS5OcFZvMz1tZlBJSSlESmUjYy0hJShhQWlrXWYuRSc0Y1Y/dSdqVEY1aEFJKi4lSVhiUTdtNDJlVCtHK0ciZix0PXJNNmJMOkdbOi8qWj1LTigmbTFkakolMyk0YEMzQTBGVmY2TmpmSmswWFgyQU8yS2xcXV1gXTBoJWguRTtmQSNrIXVKbVBFV0dNP1cnbSdVV0leYV5JUWpaUShXI2UpLTNBLS9jND9eIktGRXBMUC4uJWtuSjItRyZNW2heTkohaWY9LVA/IUJZV1BMblsmcUEwYzgtPl9JcSdhZG9hNSY/PyhhaENeQylBXTVKNiNqN1lvVVVwckdhLmJlNFFkYFY/PUBRNUwoVSs+IkxVKUY8Rlo3YTRVU2wvIz1TXiVWMVh0MzB1WVYpWkQvQVZEZTZgZUREQEEsPDRAak11SmdDaDlSIllGb1lVXmEta1hFLz87Sk1FXmJBR1hrZ1VwZzJuSD1gNWdRYj5xO3NNI0k7QnVTQkRtZiU9XSgxO2spUkFkTnNhcFcyJnFtNmZcSmdVKiNGPmdNVSlnN3FpKTlnRlFOYS8nPVZkIWYoVi4vXThDXzsoQC43Mk4mPltPNz1XXDBzMWtjQFhFSEwlI1t1RUtfOU5zYDlxT1pkI08pL1RaczBPNVwhWWBFO2RRR104JDBhSEgxL2ooSmprTEpdL0JWJWhHVm8qXT9ILk1OIlMmQEArPWMzVnAqcD1pRjRPaDxfSXFzISdUJFM7LVFcI3FYLUNJLCYtYUVTTWVyVUIkLFUwT1tkMj1nXmFdRypoVFJsP1JTS0hMbSQkY3RpLnQkWVtAM1pldCEzP2hYRzlEI34+ZW5kc3RyZWFtCmVuZG9iagp4cmVmCjAgMTQ4CjAwMDAwMDAwMDAgNjU1MzUgZiAKMDAwMDAwMDA3MyAwMDAwMCBuIAowMDAwMDAwMTE0IDAwMDAwIG4gCjAwMDAwMDAyMjEgMDAwMDAgbiAKMDAwMDAwMDMzMyAwMDAwMCBuIAowMDAwMDAwNDk0IDAwMDAwIG4gCjAwMDAwMDA2NzQgMDAwMDAgbiAKMDAwMDAwMDkwMiAwMDAwMCBuIAowMDAwMDAxMDYzIDAwMDAwIG4gCjAwMDAwMDEyNDMgMDAwMDAgbiAKMDAwMDAwMTQyNSAwMDAwMCBuIAowMDAwMDAxNjA1IDAwMDAwIG4gCjAwMDAwMDE4MzQgMDAwMDAgbiAKMDAwMDAwMTk5NiAwMDAwMCBuIAowMDAwMDAyMTc3IDAwMDAwIG4gCjAwMDAwMDI0MDYgMDAwMDAgbiAKMDAwMDAwMjU2OCAwMDAwMCBuIAowMDAwMDAyNzQ1IDAwMDAwIG4gCjAwMDAwMDI5NzQgMDAwMDAgbiAKMDAwMDAwMzEzNiAwMDAwMCBuIAowMDAwMDAzMzE3IDAwMDAwIG4gCjAwMDAwMDM1NDYgMDAwMDAgbiAKMDAwMDAwMzcwOCAwMDAwMCBuIAowMDAwMDAzODg3IDAwMDAwIG4gCjAwMDAwMDQxMTYgMDAwMDAgbiAKMDAwMDAwNDI5NyAwMDAwMCBuIAowMDAwMDA0NDc1IDAwMDAwIG4gCjAwMDAwMDQ2NTYgMDAwMDAgbiAKMDAwMDAwNDgzNCAwMDAwMCBuIAowMDAwMDA1MDE1IDAwMDAwIG4gCjAwMDAwMDUxOTYgMDAwMDAgbiAKMDAwMDAwNTM3NCAwMDAwMCBuIAowMDAwMDA1NTU1IDAwMDAwIG4gCjAwMDAwMDU3MzYgMDAwMDAgbiAKMDAwMDAwNTkxNCAwMDAwMCBuIAowMDAwMDA2MDk1IDAwMDAwIG4gCjAwMDAwMDYyNzUgMDAwMDAgbiAKMDAwMDAwNjQ1MyAwMDAwMCBuIAowMDAwMDA2NjM0IDAwMDAwIG4gCjAwMDAwMDY4MTIgMDAwMDAgbiAKMDAwMDAwNjk5MyAwMDAwMCBuIAowMDAwMDA3MTcxIDAwMDAwIG4gCjAwMDAwMDczNTIgMDAwMDAgbiAKMDAwMDAwNzUzMiAwMDAwMCBuIAowMDAwMDA3NzEwIDAwMDAwIG4gCjAwMDAwMDc4OTEgMDAwMDAgbiAKMDAwMDAwODA2OSAwMDAwMCBuIAowMDAwMDA4NTg5IDAwMDAwIG4gCjAwMDAwMDg3NjkgMDAwMDAgbiAKMDAwMDAwODk0NyAwMDAwMCBuIAowMDAwMDA5MTI4IDAwMDAwIG4gCjAwMDAwMDkzMDYgMDAwMDAgbiAKMDAwMDAwOTQ4NyAwMDAwMCBuIAowMDAwMDA5NjY1IDAwMDAwIG4gCjAwMDAwMDk4NDYgMDAwMDAgbiAKMDAwMDAxMDAyNyAwMDAwMCBuIAowMDAwMDEwMjA1IDAwMDAwIG4gCjAwMDAwMTAzODYgMDAwMDAgbiAKMDAwMDAxMDU2NCAwMDAwMCBuIAowMDAwMDEwNzQ1IDAwMDAwIG4gCjAwMDAwMTA5MjYgMDAwMDAgbiAKMDAwMDAxMTEwNCAwMDAwMCBuIAowMDAwMDExMjg1IDAwMDAwIG4gCjAwMDAwMTE0NjYgMDAwMDAgbiAKMDAwMDAxMTY0NCAwMDAwMCBuIAowMDAwMDExODI1IDAwMDAwIG4gCjAwMDAwMTIwMDUgMDAwMDAgbiAKMDAwMDAxMjE4MyAwMDAwMCBuIAowMDAwMDEyMzY0IDAwMDAwIG4gCjAwMDAwMTI1NDIgMDAwMDAgbiAKMDAwMDAxMjcyMiAwMDAwMCBuIAowMDAwMDEyOTAwIDAwMDAwIG4gCjAwMDAwMTMwODEgMDAwMDAgbiAKMDAwMDAxMzI1OSAwMDAwMCBuIAowMDAwMDEzNDQwIDAwMDAwIG4gCjAwMDAwMTM2MjEgMDAwMDAgbiAKMDAwMDAxMzc5OSAwMDAwMCBuIAowMDAwMDEzOTgwIDAwMDAwIG4gCjAwMDAwMTQxNjEgMDAwMDAgbiAKMDAwMDAxNDMzOSAwMDAwMCBuIAowMDAwMDE0NTIwIDAwMDAwIG4gCjAwMDAwMTQ3MDAgMDAwMDAgbiAKMDAwMDAxNDg3OCAwMDAwMCBuIAowMDAwMDE1MDU4IDAwMDAwIG4gCjAwMDAwMTUyMzYgMDAwMDAgbiAKMDAwMDAxNTQxNiAwMDAwMCBuIAowMDAwMDE1NTk0IDAwMDAwIG4gCjAwMDAwMTU3NzUgMDAwMDAgbiAKMDAwMDAxNTk1MyAwMDAwMCBuIAowMDAwMDE2MTM0IDAwMDAwIG4gCjAwMDAwMTYzMTUgMDAwMDAgbiAKMDAwMDAxNjQ5MyAwMDAwMCBuIAowMDAwMDE3MDMzIDAwMDAwIG4gCjAwMDAwMTcyMTAgMDAwMDAgbiAKMDAwMDAxNzM4NyAwMDAwMCBuIAowMDAwMDE3NTY4IDAwMDAwIG4gCjAwMDAwMTc3NDUgMDAwMDAgbiAKMDAwMDAxNzkyNiAwMDAwMCBuIAowMDAwMDE4MTAzIDAwMDAwIG4gCjAwMDAwMTgyODQgMDAwMDAgbiAKMDAwMDAxODQ1OSAwMDAwMCBuIAowMDAwMDE4NjM3IDAwMDAwIG4gCjAwMDAwMTg4MTUgMDAwMDAgbiAKMDAwMDAxODk5NyAwMDAwMCBuIAowMDAwMDE5MTczIDAwMDAwIG4gCjAwMDAwMTkzNTEgMDAwMDAgbiAKMDAwMDAxOTUyNyAwMDAwMCBuIAowMDAwMDE5NzA1IDAwMDAwIG4gCjAwMDAwMTk4ODMgMDAwMDAgbiAKMDAwMDAyMDA2NSAwMDAwMCBuIAowMDAwMDIwMjQzIDAwMDAwIG4gCjAwMDAwMjA0MjEgMDAwMDAgbiAKMDAwMDAyMDYwMyAwMDAwMCBuIAowMDAwMDIwNzgxIDAwMDAwIG4gCjAwMDAwMjA5NjMgMDAwMDAgbiAKMDAwMDAyMTE0MSAwMDAwMCBuIAowMDAwMDIxMzIzIDAwMDAwIG4gCjAwMDAwMjE3MzQgMDAwMDAgbiAKMDAwMDAyMTkxMCAwMDAwMCBuIAowMDAwMDIyMDg4IDAwMDAwIG4gCjAwMDAwMjIyNjQgMDAwMDAgbiAKMDAwMDAyMjQ0MiAwMDAwMCBuIAowMDAwMDIyNjI0IDAwMDAwIG4gCjAwMDAwMjI4MDIgMDAwMDAgbiAKMDAwMDAyMjk4NCAwMDAwMCBuIAowMDAwMDIzMTYyIDAwMDAwIG4gCjAwMDAwMjMzNDQgMDAwMDAgbiAKMDAwMDAyMzUyMCAwMDAwMCBuIAowMDAwMDIzNjk2IDAwMDAwIG4gCjAwMDAwMjM4NzIgMDAwMDAgbiAKMDAwMDAyNDA1MCAwMDAwMCBuIAowMDAwMDI0MjMyIDAwMDAwIG4gCjAwMDAwMjQ0MTAgMDAwMDAgbiAKMDAwMDAyNDU4MiAwMDAwMCBuIAowMDAwMDI0OTM0IDAwMDAwIG4gCjAwMDAwMjUwMjQgMDAwMDAgbiAKMDAwMDAyNTI3OCAwMDAwMCBuIAowMDAwMDI1MzU1IDAwMDAwIG4gCjAwMDAwMjU0ODMgMDAwMDAgbiAKMDAwMDAyNTY0MSAwMDAwMCBuIAowMDAwMDI1Nzc0IDAwMDAwIG4gCjAwMDAwMjU4OTQgMDAwMDAgbiAKMDAwMDAyNjAzNiAwMDAwMCBuIAowMDAwMDI2MTU3IDAwMDAwIG4gCjAwMDAwMjYyNDIgMDAwMDAgbiAKMDAwMDAzMjM2MiAwMDAwMCBuIAowMDAwMDM4ODQ0IDAwMDAwIG4gCjAwMDAwNDQ2MDggMDAwMDAgbiAKdHJhaWxlcgo8PAovSUQgCls8ZGEyZmIzODViOWVkNDY4YTMwY2ZkMzVjNDEwMzViNmQ+PGRhMmZiMzg1YjllZDQ2OGEzMGNmZDM1YzQxMDM1YjZkPl0KJSBSZXBvcnRMYWIgZ2VuZXJhdGVkIFBERiBkb2N1bWVudCAtLSBkaWdlc3QgKGh0dHA6Ly93d3cucmVwb3J0bGFiLmNvbSkKCi9JbmZvIDEzNSAwIFIKL1Jvb3QgMTM0IDAgUgovU2l6ZSAxNDgKPj4Kc3RhcnR4cmVmCjQ3MjcwCiUlRU9GCg==\" target=\"_blank\">\n",
              "        <button>📊 Download PDF report</button></a>"
            ]
          },
          "metadata": {}
        }
      ]
    },
    {
      "cell_type": "code",
      "source": [
        "model = CatBoostRegressor(verbose=False, allow_writing_files=False, random_state=0)"
      ],
      "metadata": {
        "id": "bia6dS6FfaWb"
      },
      "execution_count": null,
      "outputs": []
    },
    {
      "cell_type": "code",
      "source": [
        "enricher.calculate_metrics(\n",
        "    X_train, y_train,\n",
        "    eval_set = [(X_test, y_test)],\n",
        "    estimator = model,\n",
        "    scoring = \"mean_absolute_percentage_error\"\n",
        ")"
      ],
      "metadata": {
        "colab": {
          "base_uri": "https://localhost:8080/",
          "height": 128
        },
        "id": "iCNMQIqth8v0",
        "outputId": "2bff08fe-11c7-4dd6-e10a-e484c764c6bf"
      },
      "execution_count": null,
      "outputs": [
        {
          "output_type": "stream",
          "name": "stdout",
          "text": [
            "Calculating accuracy uplift after enrichment...\n"
          ]
        },
        {
          "output_type": "execute_result",
          "data": {
            "text/plain": [
              "  Dataset type  Rows  Mean target  Baseline mean_absolute_percentage_error  \\\n",
              "0        Train  9000      52.1781                                 0.277590   \n",
              "1       Eval 1  3000      52.5507                                 0.284291   \n",
              "\n",
              "   Enriched mean_absolute_percentage_error    Uplift  \n",
              "0                                 0.198566  0.079024  \n",
              "1                                 0.199641  0.084650  "
            ],
            "text/html": [
              "\n",
              "  <div id=\"df-4e1e21b1-c939-4223-ad77-fc7cba19f619\" class=\"colab-df-container\">\n",
              "    <div>\n",
              "<style scoped>\n",
              "    .dataframe tbody tr th:only-of-type {\n",
              "        vertical-align: middle;\n",
              "    }\n",
              "\n",
              "    .dataframe tbody tr th {\n",
              "        vertical-align: top;\n",
              "    }\n",
              "\n",
              "    .dataframe thead th {\n",
              "        text-align: right;\n",
              "    }\n",
              "</style>\n",
              "<table border=\"1\" class=\"dataframe\">\n",
              "  <thead>\n",
              "    <tr style=\"text-align: right;\">\n",
              "      <th></th>\n",
              "      <th>Dataset type</th>\n",
              "      <th>Rows</th>\n",
              "      <th>Mean target</th>\n",
              "      <th>Baseline mean_absolute_percentage_error</th>\n",
              "      <th>Enriched mean_absolute_percentage_error</th>\n",
              "      <th>Uplift</th>\n",
              "    </tr>\n",
              "  </thead>\n",
              "  <tbody>\n",
              "    <tr>\n",
              "      <th>0</th>\n",
              "      <td>Train</td>\n",
              "      <td>9000</td>\n",
              "      <td>52.1781</td>\n",
              "      <td>0.277590</td>\n",
              "      <td>0.198566</td>\n",
              "      <td>0.079024</td>\n",
              "    </tr>\n",
              "    <tr>\n",
              "      <th>1</th>\n",
              "      <td>Eval 1</td>\n",
              "      <td>3000</td>\n",
              "      <td>52.5507</td>\n",
              "      <td>0.284291</td>\n",
              "      <td>0.199641</td>\n",
              "      <td>0.084650</td>\n",
              "    </tr>\n",
              "  </tbody>\n",
              "</table>\n",
              "</div>\n",
              "    <div class=\"colab-df-buttons\">\n",
              "\n",
              "  <div class=\"colab-df-container\">\n",
              "    <button class=\"colab-df-convert\" onclick=\"convertToInteractive('df-4e1e21b1-c939-4223-ad77-fc7cba19f619')\"\n",
              "            title=\"Convert this dataframe to an interactive table.\"\n",
              "            style=\"display:none;\">\n",
              "\n",
              "  <svg xmlns=\"http://www.w3.org/2000/svg\" height=\"24px\" viewBox=\"0 -960 960 960\">\n",
              "    <path d=\"M120-120v-720h720v720H120Zm60-500h600v-160H180v160Zm220 220h160v-160H400v160Zm0 220h160v-160H400v160ZM180-400h160v-160H180v160Zm440 0h160v-160H620v160ZM180-180h160v-160H180v160Zm440 0h160v-160H620v160Z\"/>\n",
              "  </svg>\n",
              "    </button>\n",
              "\n",
              "  <style>\n",
              "    .colab-df-container {\n",
              "      display:flex;\n",
              "      gap: 12px;\n",
              "    }\n",
              "\n",
              "    .colab-df-convert {\n",
              "      background-color: #E8F0FE;\n",
              "      border: none;\n",
              "      border-radius: 50%;\n",
              "      cursor: pointer;\n",
              "      display: none;\n",
              "      fill: #1967D2;\n",
              "      height: 32px;\n",
              "      padding: 0 0 0 0;\n",
              "      width: 32px;\n",
              "    }\n",
              "\n",
              "    .colab-df-convert:hover {\n",
              "      background-color: #E2EBFA;\n",
              "      box-shadow: 0px 1px 2px rgba(60, 64, 67, 0.3), 0px 1px 3px 1px rgba(60, 64, 67, 0.15);\n",
              "      fill: #174EA6;\n",
              "    }\n",
              "\n",
              "    .colab-df-buttons div {\n",
              "      margin-bottom: 4px;\n",
              "    }\n",
              "\n",
              "    [theme=dark] .colab-df-convert {\n",
              "      background-color: #3B4455;\n",
              "      fill: #D2E3FC;\n",
              "    }\n",
              "\n",
              "    [theme=dark] .colab-df-convert:hover {\n",
              "      background-color: #434B5C;\n",
              "      box-shadow: 0px 1px 3px 1px rgba(0, 0, 0, 0.15);\n",
              "      filter: drop-shadow(0px 1px 2px rgba(0, 0, 0, 0.3));\n",
              "      fill: #FFFFFF;\n",
              "    }\n",
              "  </style>\n",
              "\n",
              "    <script>\n",
              "      const buttonEl =\n",
              "        document.querySelector('#df-4e1e21b1-c939-4223-ad77-fc7cba19f619 button.colab-df-convert');\n",
              "      buttonEl.style.display =\n",
              "        google.colab.kernel.accessAllowed ? 'block' : 'none';\n",
              "\n",
              "      async function convertToInteractive(key) {\n",
              "        const element = document.querySelector('#df-4e1e21b1-c939-4223-ad77-fc7cba19f619');\n",
              "        const dataTable =\n",
              "          await google.colab.kernel.invokeFunction('convertToInteractive',\n",
              "                                                    [key], {});\n",
              "        if (!dataTable) return;\n",
              "\n",
              "        const docLinkHtml = 'Like what you see? Visit the ' +\n",
              "          '<a target=\"_blank\" href=https://colab.research.google.com/notebooks/data_table.ipynb>data table notebook</a>'\n",
              "          + ' to learn more about interactive tables.';\n",
              "        element.innerHTML = '';\n",
              "        dataTable['output_type'] = 'display_data';\n",
              "        await google.colab.output.renderOutput(dataTable, element);\n",
              "        const docLink = document.createElement('div');\n",
              "        docLink.innerHTML = docLinkHtml;\n",
              "        element.appendChild(docLink);\n",
              "      }\n",
              "    </script>\n",
              "  </div>\n",
              "\n",
              "\n",
              "<div id=\"df-09587f2c-b357-45b0-b887-dabd5f7a78ce\">\n",
              "  <button class=\"colab-df-quickchart\" onclick=\"quickchart('df-09587f2c-b357-45b0-b887-dabd5f7a78ce')\"\n",
              "            title=\"Suggest charts\"\n",
              "            style=\"display:none;\">\n",
              "\n",
              "<svg xmlns=\"http://www.w3.org/2000/svg\" height=\"24px\"viewBox=\"0 0 24 24\"\n",
              "     width=\"24px\">\n",
              "    <g>\n",
              "        <path d=\"M19 3H5c-1.1 0-2 .9-2 2v14c0 1.1.9 2 2 2h14c1.1 0 2-.9 2-2V5c0-1.1-.9-2-2-2zM9 17H7v-7h2v7zm4 0h-2V7h2v10zm4 0h-2v-4h2v4z\"/>\n",
              "    </g>\n",
              "</svg>\n",
              "  </button>\n",
              "\n",
              "<style>\n",
              "  .colab-df-quickchart {\n",
              "      --bg-color: #E8F0FE;\n",
              "      --fill-color: #1967D2;\n",
              "      --hover-bg-color: #E2EBFA;\n",
              "      --hover-fill-color: #174EA6;\n",
              "      --disabled-fill-color: #AAA;\n",
              "      --disabled-bg-color: #DDD;\n",
              "  }\n",
              "\n",
              "  [theme=dark] .colab-df-quickchart {\n",
              "      --bg-color: #3B4455;\n",
              "      --fill-color: #D2E3FC;\n",
              "      --hover-bg-color: #434B5C;\n",
              "      --hover-fill-color: #FFFFFF;\n",
              "      --disabled-bg-color: #3B4455;\n",
              "      --disabled-fill-color: #666;\n",
              "  }\n",
              "\n",
              "  .colab-df-quickchart {\n",
              "    background-color: var(--bg-color);\n",
              "    border: none;\n",
              "    border-radius: 50%;\n",
              "    cursor: pointer;\n",
              "    display: none;\n",
              "    fill: var(--fill-color);\n",
              "    height: 32px;\n",
              "    padding: 0;\n",
              "    width: 32px;\n",
              "  }\n",
              "\n",
              "  .colab-df-quickchart:hover {\n",
              "    background-color: var(--hover-bg-color);\n",
              "    box-shadow: 0 1px 2px rgba(60, 64, 67, 0.3), 0 1px 3px 1px rgba(60, 64, 67, 0.15);\n",
              "    fill: var(--button-hover-fill-color);\n",
              "  }\n",
              "\n",
              "  .colab-df-quickchart-complete:disabled,\n",
              "  .colab-df-quickchart-complete:disabled:hover {\n",
              "    background-color: var(--disabled-bg-color);\n",
              "    fill: var(--disabled-fill-color);\n",
              "    box-shadow: none;\n",
              "  }\n",
              "\n",
              "  .colab-df-spinner {\n",
              "    border: 2px solid var(--fill-color);\n",
              "    border-color: transparent;\n",
              "    border-bottom-color: var(--fill-color);\n",
              "    animation:\n",
              "      spin 1s steps(1) infinite;\n",
              "  }\n",
              "\n",
              "  @keyframes spin {\n",
              "    0% {\n",
              "      border-color: transparent;\n",
              "      border-bottom-color: var(--fill-color);\n",
              "      border-left-color: var(--fill-color);\n",
              "    }\n",
              "    20% {\n",
              "      border-color: transparent;\n",
              "      border-left-color: var(--fill-color);\n",
              "      border-top-color: var(--fill-color);\n",
              "    }\n",
              "    30% {\n",
              "      border-color: transparent;\n",
              "      border-left-color: var(--fill-color);\n",
              "      border-top-color: var(--fill-color);\n",
              "      border-right-color: var(--fill-color);\n",
              "    }\n",
              "    40% {\n",
              "      border-color: transparent;\n",
              "      border-right-color: var(--fill-color);\n",
              "      border-top-color: var(--fill-color);\n",
              "    }\n",
              "    60% {\n",
              "      border-color: transparent;\n",
              "      border-right-color: var(--fill-color);\n",
              "    }\n",
              "    80% {\n",
              "      border-color: transparent;\n",
              "      border-right-color: var(--fill-color);\n",
              "      border-bottom-color: var(--fill-color);\n",
              "    }\n",
              "    90% {\n",
              "      border-color: transparent;\n",
              "      border-bottom-color: var(--fill-color);\n",
              "    }\n",
              "  }\n",
              "</style>\n",
              "\n",
              "  <script>\n",
              "    async function quickchart(key) {\n",
              "      const quickchartButtonEl =\n",
              "        document.querySelector('#' + key + ' button');\n",
              "      quickchartButtonEl.disabled = true;  // To prevent multiple clicks.\n",
              "      quickchartButtonEl.classList.add('colab-df-spinner');\n",
              "      try {\n",
              "        const charts = await google.colab.kernel.invokeFunction(\n",
              "            'suggestCharts', [key], {});\n",
              "      } catch (error) {\n",
              "        console.error('Error during call to suggestCharts:', error);\n",
              "      }\n",
              "      quickchartButtonEl.classList.remove('colab-df-spinner');\n",
              "      quickchartButtonEl.classList.add('colab-df-quickchart-complete');\n",
              "    }\n",
              "    (() => {\n",
              "      let quickchartButtonEl =\n",
              "        document.querySelector('#df-09587f2c-b357-45b0-b887-dabd5f7a78ce button');\n",
              "      quickchartButtonEl.style.display =\n",
              "        google.colab.kernel.accessAllowed ? 'block' : 'none';\n",
              "    })();\n",
              "  </script>\n",
              "</div>\n",
              "\n",
              "    </div>\n",
              "  </div>\n"
            ],
            "application/vnd.google.colaboratory.intrinsic+json": {
              "type": "dataframe",
              "summary": "{\n  \"name\": \")\",\n  \"rows\": 2,\n  \"fields\": [\n    {\n      \"column\": \"Dataset type\",\n      \"properties\": {\n        \"dtype\": \"string\",\n        \"num_unique_values\": 2,\n        \"samples\": [\n          \"Eval 1\",\n          \"Train\"\n        ],\n        \"semantic_type\": \"\",\n        \"description\": \"\"\n      }\n    },\n    {\n      \"column\": \"Rows\",\n      \"properties\": {\n        \"dtype\": \"number\",\n        \"std\": 4242,\n        \"min\": 3000,\n        \"max\": 9000,\n        \"num_unique_values\": 2,\n        \"samples\": [\n          3000,\n          9000\n        ],\n        \"semantic_type\": \"\",\n        \"description\": \"\"\n      }\n    },\n    {\n      \"column\": \"Mean target\",\n      \"properties\": {\n        \"dtype\": \"number\",\n        \"std\": 0.26346798667010657,\n        \"min\": 52.1781,\n        \"max\": 52.5507,\n        \"num_unique_values\": 2,\n        \"samples\": [\n          52.5507,\n          52.1781\n        ],\n        \"semantic_type\": \"\",\n        \"description\": \"\"\n      }\n    },\n    {\n      \"column\": \"Baseline mean_absolute_percentage_error\",\n      \"properties\": {\n        \"dtype\": \"number\",\n        \"std\": 0.004738354571013159,\n        \"min\": 0.27759003506934876,\n        \"max\": 0.2842910803670081,\n        \"num_unique_values\": 2,\n        \"samples\": [\n          0.2842910803670081,\n          0.27759003506934876\n        ],\n        \"semantic_type\": \"\",\n        \"description\": \"\"\n      }\n    },\n    {\n      \"column\": \"Enriched mean_absolute_percentage_error\",\n      \"properties\": {\n        \"dtype\": \"number\",\n        \"std\": 0.0007607020043189593,\n        \"min\": 0.1985656491537004,\n        \"max\": 0.19964144424513267,\n        \"num_unique_values\": 2,\n        \"samples\": [\n          0.19964144424513267,\n          0.1985656491537004\n        ],\n        \"semantic_type\": \"\",\n        \"description\": \"\"\n      }\n    },\n    {\n      \"column\": \"Uplift\",\n      \"properties\": {\n        \"dtype\": \"number\",\n        \"std\": 0.003977652566694199,\n        \"min\": 0.07902438591564837,\n        \"max\": 0.08464963612187545,\n        \"num_unique_values\": 2,\n        \"samples\": [\n          0.08464963612187545,\n          0.07902438591564837\n        ],\n        \"semantic_type\": \"\",\n        \"description\": \"\"\n      }\n    }\n  ]\n}"
            }
          },
          "metadata": {},
          "execution_count": 19
        }
      ]
    },
    {
      "cell_type": "code",
      "source": [
        "enriched_X_train = enricher.transform(X_train, keep_input=True)\n",
        "enriched_X_test = enricher.transform(X_test, keep_input=True)"
      ],
      "metadata": {
        "colab": {
          "base_uri": "https://localhost:8080/",
          "height": 547
        },
        "id": "HHFNjnraiN79",
        "outputId": "ff5899a3-6357-4dcc-c09d-cd92cb8a2034"
      },
      "execution_count": null,
      "outputs": [
        {
          "output_type": "display_data",
          "data": {
            "text/plain": [
              "[============================================================] 100% Finished"
            ],
            "text/html": [
              "<progress style='width:60ex' max='100' value='100'></progress>  100% Finished</br>"
            ]
          },
          "metadata": {}
        },
        {
          "output_type": "stream",
          "name": "stdout",
          "text": [
            "You use Trial access to Upgini data enrichment. Limit for Trial: 10000 rows. You have already enriched: 0 rows.\n",
            "\n",
            "WARNING: Search started with DATE search key only\n",
            "Try to add other keys like the COUNTRY, POSTAL_CODE, PHONE NUMBER, EMAIL/HEM, IPv4 to your training dataset\n",
            "for search through all the available data sources.\n",
            "See docs https://github.com/upgini/upgini#-total-239-countries-and-up-to-41-years-of-history\n",
            "\n"
          ]
        },
        {
          "output_type": "display_data",
          "data": {
            "text/plain": [
              "<IPython.core.display.HTML object>"
            ],
            "text/html": [
              "<table><tr><th style='font-weight:bold'>Column name</th><th style='font-weight:bold'>Status</th><th style='font-weight:bold'>Errors</th></tr><tr><td>date</td><td style='background-color:#DAF7A6;color:black'>All valid</td><td>-</td></tr></table>"
            ]
          },
          "metadata": {}
        },
        {
          "output_type": "stream",
          "name": "stdout",
          "text": [
            "\n",
            "Running search request, search_id=51dd6d9f-bca6-45be-a2bb-4a796678cb13\n",
            "We'll send email notification once it's completed, just use your personal api_key from profile.upgini.com\n",
            "\n",
            "Retrieving selected features from data sources...\n"
          ]
        },
        {
          "output_type": "display_data",
          "data": {
            "text/plain": [
              "[============================================================] 100% Finished"
            ],
            "text/html": [
              "<progress style='width:60ex' max='100' value='100'></progress>  100% Finished</br>"
            ]
          },
          "metadata": {}
        },
        {
          "output_type": "stream",
          "name": "stdout",
          "text": [
            "You use Trial access to Upgini data enrichment. Limit for Trial: 10000 rows. You have already enriched: 0 rows.\n",
            "\n",
            "WARNING: Search started with DATE search key only\n",
            "Try to add other keys like the COUNTRY, POSTAL_CODE, PHONE NUMBER, EMAIL/HEM, IPv4 to your training dataset\n",
            "for search through all the available data sources.\n",
            "See docs https://github.com/upgini/upgini#-total-239-countries-and-up-to-41-years-of-history\n",
            "\n"
          ]
        },
        {
          "output_type": "display_data",
          "data": {
            "text/plain": [
              "<IPython.core.display.HTML object>"
            ],
            "text/html": [
              "<table><tr><th style='font-weight:bold'>Column name</th><th style='font-weight:bold'>Status</th><th style='font-weight:bold'>Errors</th></tr><tr><td>date</td><td style='background-color:#DAF7A6;color:black'>All valid</td><td>-</td></tr></table>"
            ]
          },
          "metadata": {}
        },
        {
          "output_type": "stream",
          "name": "stdout",
          "text": [
            "\n",
            "Running search request, search_id=67e7fa0a-b295-4cee-a65a-1db4fb5166f6\n",
            "We'll send email notification once it's completed, just use your personal api_key from profile.upgini.com\n",
            "\n",
            "Retrieving selected features from data sources...\n"
          ]
        }
      ]
    },
    {
      "cell_type": "code",
      "source": [
        "enriched_X_train.head()"
      ],
      "metadata": {
        "colab": {
          "base_uri": "https://localhost:8080/",
          "height": 338
        },
        "id": "gCbrLbaRjp8O",
        "outputId": "e6c01a73-de6f-4be4-8725-15d2615f0830"
      },
      "execution_count": null,
      "outputs": [
        {
          "output_type": "execute_result",
          "data": {
            "text/plain": [
              "             date  store  item  f_weather_date_weather_umap_33_89bb7578  \\\n",
              "88343  2014-11-27      9     5                                 4.909312   \n",
              "556754 2017-07-09      5    31                                 5.371850   \n",
              "280906 2017-03-09      4    16                                 4.598542   \n",
              "431960 2015-10-22      7    24                                 4.876057   \n",
              "622747 2013-03-23      2    35                                 4.688609   \n",
              "\n",
              "        f_weather_date_weather_umap_24_2e14c9a6  \\\n",
              "88343                                  5.674027   \n",
              "556754                                 4.423287   \n",
              "280906                                 5.950113   \n",
              "431960                                 5.330633   \n",
              "622747                                 5.814490   \n",
              "\n",
              "        f_weather_date_weather_umap_48_b39cd0c4  f_autofe_div_ba625fe9  \\\n",
              "88343                                  4.679622               0.477416   \n",
              "556754                                 5.589923               0.814465   \n",
              "280906                                 4.983271               1.786635   \n",
              "431960                                 5.456733               0.872105   \n",
              "622747                                 5.063934            -226.541010   \n",
              "\n",
              "        f_autofe_mul_c256dd85  f_autofe_div_91ddec39  f_autofe_div_cf5dd7be  \\\n",
              "88343                0.339529               0.000363               0.474228   \n",
              "556754              -0.734068              -0.000647              -0.861559   \n",
              "280906               0.483547               0.000359               0.530807   \n",
              "431960               0.370228               0.000372               0.454828   \n",
              "622747              -0.983553              -0.000607              -1.253758   \n",
              "\n",
              "        ...  f_financial_date_gold_7d_to_1y_ae310379  \\\n",
              "88343   ...                                 0.942746   \n",
              "556754  ...                                 0.972527   \n",
              "280906  ...                                 0.971912   \n",
              "431960  ...                                 0.999785   \n",
              "622747  ...                                 0.968988   \n",
              "\n",
              "        f_financial_date_natural_gas_92dac942  \\\n",
              "88343                                   4.355   \n",
              "556754                                  2.864   \n",
              "280906                                  2.901   \n",
              "431960                                  2.404   \n",
              "622747                                  3.927   \n",
              "\n",
              "        f_financial_date_silver_7d_to_1y_0ccfe462  \\\n",
              "88343                                    0.846432   \n",
              "556754                                   0.894612   \n",
              "280906                                   1.000197   \n",
              "431960                                   0.997748   \n",
              "622747                                   0.943314   \n",
              "\n",
              "        f_financial_date_silver_e4e33014  \\\n",
              "88343                             16.548   \n",
              "556754                            15.371   \n",
              "280906                            17.257   \n",
              "431960                            15.696   \n",
              "622747                            28.666   \n",
              "\n",
              "        f_financial_date_snp500_7d_to_1y_378b9f99  \\\n",
              "88343                                    1.082332   \n",
              "556754                                   1.066855   \n",
              "280906                                   1.097910   \n",
              "431960                                   0.987253   \n",
              "622747                                   1.097460   \n",
              "\n",
              "        f_financial_date_stoxx_043cbcd4  \\\n",
              "88343                        346.279999   \n",
              "556754                       380.179993   \n",
              "280906                       372.579987   \n",
              "431960                       362.640015   \n",
              "622747                       294.040009   \n",
              "\n",
              "        f_weather_date_weather_umap_14_63480984  \\\n",
              "88343                                  4.971499   \n",
              "556754                                 5.227480   \n",
              "280906                                 5.608715   \n",
              "431960                                 4.880823   \n",
              "622747                                 5.267627   \n",
              "\n",
              "        f_weather_date_weather_umap_2_d529f1bb  \\\n",
              "88343                                 3.039611   \n",
              "556754                                7.876176   \n",
              "280906                                6.945374   \n",
              "431960                               -1.311152   \n",
              "622747                                5.220244   \n",
              "\n",
              "        f_weather_date_weather_umap_34_c3ef5b4f  \\\n",
              "88343                                  5.551823   \n",
              "556754                                 4.810616   \n",
              "280906                                 5.355461   \n",
              "431960                                 5.023907   \n",
              "622747                                 5.245971   \n",
              "\n",
              "        f_weather_date_weather_umap_6_8de4f955  \n",
              "88343                                 8.342309  \n",
              "556754                                6.362219  \n",
              "280906                                3.313591  \n",
              "431960                                5.576893  \n",
              "622747                                2.809362  \n",
              "\n",
              "[5 rows x 55 columns]"
            ],
            "text/html": [
              "\n",
              "  <div id=\"df-a41cdc68-2026-4f2d-8d26-90962a7b2743\" class=\"colab-df-container\">\n",
              "    <div>\n",
              "<style scoped>\n",
              "    .dataframe tbody tr th:only-of-type {\n",
              "        vertical-align: middle;\n",
              "    }\n",
              "\n",
              "    .dataframe tbody tr th {\n",
              "        vertical-align: top;\n",
              "    }\n",
              "\n",
              "    .dataframe thead th {\n",
              "        text-align: right;\n",
              "    }\n",
              "</style>\n",
              "<table border=\"1\" class=\"dataframe\">\n",
              "  <thead>\n",
              "    <tr style=\"text-align: right;\">\n",
              "      <th></th>\n",
              "      <th>date</th>\n",
              "      <th>store</th>\n",
              "      <th>item</th>\n",
              "      <th>f_weather_date_weather_umap_33_89bb7578</th>\n",
              "      <th>f_weather_date_weather_umap_24_2e14c9a6</th>\n",
              "      <th>f_weather_date_weather_umap_48_b39cd0c4</th>\n",
              "      <th>f_autofe_div_ba625fe9</th>\n",
              "      <th>f_autofe_mul_c256dd85</th>\n",
              "      <th>f_autofe_div_91ddec39</th>\n",
              "      <th>f_autofe_div_cf5dd7be</th>\n",
              "      <th>...</th>\n",
              "      <th>f_financial_date_gold_7d_to_1y_ae310379</th>\n",
              "      <th>f_financial_date_natural_gas_92dac942</th>\n",
              "      <th>f_financial_date_silver_7d_to_1y_0ccfe462</th>\n",
              "      <th>f_financial_date_silver_e4e33014</th>\n",
              "      <th>f_financial_date_snp500_7d_to_1y_378b9f99</th>\n",
              "      <th>f_financial_date_stoxx_043cbcd4</th>\n",
              "      <th>f_weather_date_weather_umap_14_63480984</th>\n",
              "      <th>f_weather_date_weather_umap_2_d529f1bb</th>\n",
              "      <th>f_weather_date_weather_umap_34_c3ef5b4f</th>\n",
              "      <th>f_weather_date_weather_umap_6_8de4f955</th>\n",
              "    </tr>\n",
              "  </thead>\n",
              "  <tbody>\n",
              "    <tr>\n",
              "      <th>88343</th>\n",
              "      <td>2014-11-27</td>\n",
              "      <td>9</td>\n",
              "      <td>5</td>\n",
              "      <td>4.909312</td>\n",
              "      <td>5.674027</td>\n",
              "      <td>4.679622</td>\n",
              "      <td>0.477416</td>\n",
              "      <td>0.339529</td>\n",
              "      <td>0.000363</td>\n",
              "      <td>0.474228</td>\n",
              "      <td>...</td>\n",
              "      <td>0.942746</td>\n",
              "      <td>4.355</td>\n",
              "      <td>0.846432</td>\n",
              "      <td>16.548</td>\n",
              "      <td>1.082332</td>\n",
              "      <td>346.279999</td>\n",
              "      <td>4.971499</td>\n",
              "      <td>3.039611</td>\n",
              "      <td>5.551823</td>\n",
              "      <td>8.342309</td>\n",
              "    </tr>\n",
              "    <tr>\n",
              "      <th>556754</th>\n",
              "      <td>2017-07-09</td>\n",
              "      <td>5</td>\n",
              "      <td>31</td>\n",
              "      <td>5.371850</td>\n",
              "      <td>4.423287</td>\n",
              "      <td>5.589923</td>\n",
              "      <td>0.814465</td>\n",
              "      <td>-0.734068</td>\n",
              "      <td>-0.000647</td>\n",
              "      <td>-0.861559</td>\n",
              "      <td>...</td>\n",
              "      <td>0.972527</td>\n",
              "      <td>2.864</td>\n",
              "      <td>0.894612</td>\n",
              "      <td>15.371</td>\n",
              "      <td>1.066855</td>\n",
              "      <td>380.179993</td>\n",
              "      <td>5.227480</td>\n",
              "      <td>7.876176</td>\n",
              "      <td>4.810616</td>\n",
              "      <td>6.362219</td>\n",
              "    </tr>\n",
              "    <tr>\n",
              "      <th>280906</th>\n",
              "      <td>2017-03-09</td>\n",
              "      <td>4</td>\n",
              "      <td>16</td>\n",
              "      <td>4.598542</td>\n",
              "      <td>5.950113</td>\n",
              "      <td>4.983271</td>\n",
              "      <td>1.786635</td>\n",
              "      <td>0.483547</td>\n",
              "      <td>0.000359</td>\n",
              "      <td>0.530807</td>\n",
              "      <td>...</td>\n",
              "      <td>0.971912</td>\n",
              "      <td>2.901</td>\n",
              "      <td>1.000197</td>\n",
              "      <td>17.257</td>\n",
              "      <td>1.097910</td>\n",
              "      <td>372.579987</td>\n",
              "      <td>5.608715</td>\n",
              "      <td>6.945374</td>\n",
              "      <td>5.355461</td>\n",
              "      <td>3.313591</td>\n",
              "    </tr>\n",
              "    <tr>\n",
              "      <th>431960</th>\n",
              "      <td>2015-10-22</td>\n",
              "      <td>7</td>\n",
              "      <td>24</td>\n",
              "      <td>4.876057</td>\n",
              "      <td>5.330633</td>\n",
              "      <td>5.456733</td>\n",
              "      <td>0.872105</td>\n",
              "      <td>0.370228</td>\n",
              "      <td>0.000372</td>\n",
              "      <td>0.454828</td>\n",
              "      <td>...</td>\n",
              "      <td>0.999785</td>\n",
              "      <td>2.404</td>\n",
              "      <td>0.997748</td>\n",
              "      <td>15.696</td>\n",
              "      <td>0.987253</td>\n",
              "      <td>362.640015</td>\n",
              "      <td>4.880823</td>\n",
              "      <td>-1.311152</td>\n",
              "      <td>5.023907</td>\n",
              "      <td>5.576893</td>\n",
              "    </tr>\n",
              "    <tr>\n",
              "      <th>622747</th>\n",
              "      <td>2013-03-23</td>\n",
              "      <td>2</td>\n",
              "      <td>35</td>\n",
              "      <td>4.688609</td>\n",
              "      <td>5.814490</td>\n",
              "      <td>5.063934</td>\n",
              "      <td>-226.541010</td>\n",
              "      <td>-0.983553</td>\n",
              "      <td>-0.000607</td>\n",
              "      <td>-1.253758</td>\n",
              "      <td>...</td>\n",
              "      <td>0.968988</td>\n",
              "      <td>3.927</td>\n",
              "      <td>0.943314</td>\n",
              "      <td>28.666</td>\n",
              "      <td>1.097460</td>\n",
              "      <td>294.040009</td>\n",
              "      <td>5.267627</td>\n",
              "      <td>5.220244</td>\n",
              "      <td>5.245971</td>\n",
              "      <td>2.809362</td>\n",
              "    </tr>\n",
              "  </tbody>\n",
              "</table>\n",
              "<p>5 rows × 55 columns</p>\n",
              "</div>\n",
              "    <div class=\"colab-df-buttons\">\n",
              "\n",
              "  <div class=\"colab-df-container\">\n",
              "    <button class=\"colab-df-convert\" onclick=\"convertToInteractive('df-a41cdc68-2026-4f2d-8d26-90962a7b2743')\"\n",
              "            title=\"Convert this dataframe to an interactive table.\"\n",
              "            style=\"display:none;\">\n",
              "\n",
              "  <svg xmlns=\"http://www.w3.org/2000/svg\" height=\"24px\" viewBox=\"0 -960 960 960\">\n",
              "    <path d=\"M120-120v-720h720v720H120Zm60-500h600v-160H180v160Zm220 220h160v-160H400v160Zm0 220h160v-160H400v160ZM180-400h160v-160H180v160Zm440 0h160v-160H620v160ZM180-180h160v-160H180v160Zm440 0h160v-160H620v160Z\"/>\n",
              "  </svg>\n",
              "    </button>\n",
              "\n",
              "  <style>\n",
              "    .colab-df-container {\n",
              "      display:flex;\n",
              "      gap: 12px;\n",
              "    }\n",
              "\n",
              "    .colab-df-convert {\n",
              "      background-color: #E8F0FE;\n",
              "      border: none;\n",
              "      border-radius: 50%;\n",
              "      cursor: pointer;\n",
              "      display: none;\n",
              "      fill: #1967D2;\n",
              "      height: 32px;\n",
              "      padding: 0 0 0 0;\n",
              "      width: 32px;\n",
              "    }\n",
              "\n",
              "    .colab-df-convert:hover {\n",
              "      background-color: #E2EBFA;\n",
              "      box-shadow: 0px 1px 2px rgba(60, 64, 67, 0.3), 0px 1px 3px 1px rgba(60, 64, 67, 0.15);\n",
              "      fill: #174EA6;\n",
              "    }\n",
              "\n",
              "    .colab-df-buttons div {\n",
              "      margin-bottom: 4px;\n",
              "    }\n",
              "\n",
              "    [theme=dark] .colab-df-convert {\n",
              "      background-color: #3B4455;\n",
              "      fill: #D2E3FC;\n",
              "    }\n",
              "\n",
              "    [theme=dark] .colab-df-convert:hover {\n",
              "      background-color: #434B5C;\n",
              "      box-shadow: 0px 1px 3px 1px rgba(0, 0, 0, 0.15);\n",
              "      filter: drop-shadow(0px 1px 2px rgba(0, 0, 0, 0.3));\n",
              "      fill: #FFFFFF;\n",
              "    }\n",
              "  </style>\n",
              "\n",
              "    <script>\n",
              "      const buttonEl =\n",
              "        document.querySelector('#df-a41cdc68-2026-4f2d-8d26-90962a7b2743 button.colab-df-convert');\n",
              "      buttonEl.style.display =\n",
              "        google.colab.kernel.accessAllowed ? 'block' : 'none';\n",
              "\n",
              "      async function convertToInteractive(key) {\n",
              "        const element = document.querySelector('#df-a41cdc68-2026-4f2d-8d26-90962a7b2743');\n",
              "        const dataTable =\n",
              "          await google.colab.kernel.invokeFunction('convertToInteractive',\n",
              "                                                    [key], {});\n",
              "        if (!dataTable) return;\n",
              "\n",
              "        const docLinkHtml = 'Like what you see? Visit the ' +\n",
              "          '<a target=\"_blank\" href=https://colab.research.google.com/notebooks/data_table.ipynb>data table notebook</a>'\n",
              "          + ' to learn more about interactive tables.';\n",
              "        element.innerHTML = '';\n",
              "        dataTable['output_type'] = 'display_data';\n",
              "        await google.colab.output.renderOutput(dataTable, element);\n",
              "        const docLink = document.createElement('div');\n",
              "        docLink.innerHTML = docLinkHtml;\n",
              "        element.appendChild(docLink);\n",
              "      }\n",
              "    </script>\n",
              "  </div>\n",
              "\n",
              "\n",
              "<div id=\"df-4a80f438-875b-413f-9fd6-fe1de83f8c83\">\n",
              "  <button class=\"colab-df-quickchart\" onclick=\"quickchart('df-4a80f438-875b-413f-9fd6-fe1de83f8c83')\"\n",
              "            title=\"Suggest charts\"\n",
              "            style=\"display:none;\">\n",
              "\n",
              "<svg xmlns=\"http://www.w3.org/2000/svg\" height=\"24px\"viewBox=\"0 0 24 24\"\n",
              "     width=\"24px\">\n",
              "    <g>\n",
              "        <path d=\"M19 3H5c-1.1 0-2 .9-2 2v14c0 1.1.9 2 2 2h14c1.1 0 2-.9 2-2V5c0-1.1-.9-2-2-2zM9 17H7v-7h2v7zm4 0h-2V7h2v10zm4 0h-2v-4h2v4z\"/>\n",
              "    </g>\n",
              "</svg>\n",
              "  </button>\n",
              "\n",
              "<style>\n",
              "  .colab-df-quickchart {\n",
              "      --bg-color: #E8F0FE;\n",
              "      --fill-color: #1967D2;\n",
              "      --hover-bg-color: #E2EBFA;\n",
              "      --hover-fill-color: #174EA6;\n",
              "      --disabled-fill-color: #AAA;\n",
              "      --disabled-bg-color: #DDD;\n",
              "  }\n",
              "\n",
              "  [theme=dark] .colab-df-quickchart {\n",
              "      --bg-color: #3B4455;\n",
              "      --fill-color: #D2E3FC;\n",
              "      --hover-bg-color: #434B5C;\n",
              "      --hover-fill-color: #FFFFFF;\n",
              "      --disabled-bg-color: #3B4455;\n",
              "      --disabled-fill-color: #666;\n",
              "  }\n",
              "\n",
              "  .colab-df-quickchart {\n",
              "    background-color: var(--bg-color);\n",
              "    border: none;\n",
              "    border-radius: 50%;\n",
              "    cursor: pointer;\n",
              "    display: none;\n",
              "    fill: var(--fill-color);\n",
              "    height: 32px;\n",
              "    padding: 0;\n",
              "    width: 32px;\n",
              "  }\n",
              "\n",
              "  .colab-df-quickchart:hover {\n",
              "    background-color: var(--hover-bg-color);\n",
              "    box-shadow: 0 1px 2px rgba(60, 64, 67, 0.3), 0 1px 3px 1px rgba(60, 64, 67, 0.15);\n",
              "    fill: var(--button-hover-fill-color);\n",
              "  }\n",
              "\n",
              "  .colab-df-quickchart-complete:disabled,\n",
              "  .colab-df-quickchart-complete:disabled:hover {\n",
              "    background-color: var(--disabled-bg-color);\n",
              "    fill: var(--disabled-fill-color);\n",
              "    box-shadow: none;\n",
              "  }\n",
              "\n",
              "  .colab-df-spinner {\n",
              "    border: 2px solid var(--fill-color);\n",
              "    border-color: transparent;\n",
              "    border-bottom-color: var(--fill-color);\n",
              "    animation:\n",
              "      spin 1s steps(1) infinite;\n",
              "  }\n",
              "\n",
              "  @keyframes spin {\n",
              "    0% {\n",
              "      border-color: transparent;\n",
              "      border-bottom-color: var(--fill-color);\n",
              "      border-left-color: var(--fill-color);\n",
              "    }\n",
              "    20% {\n",
              "      border-color: transparent;\n",
              "      border-left-color: var(--fill-color);\n",
              "      border-top-color: var(--fill-color);\n",
              "    }\n",
              "    30% {\n",
              "      border-color: transparent;\n",
              "      border-left-color: var(--fill-color);\n",
              "      border-top-color: var(--fill-color);\n",
              "      border-right-color: var(--fill-color);\n",
              "    }\n",
              "    40% {\n",
              "      border-color: transparent;\n",
              "      border-right-color: var(--fill-color);\n",
              "      border-top-color: var(--fill-color);\n",
              "    }\n",
              "    60% {\n",
              "      border-color: transparent;\n",
              "      border-right-color: var(--fill-color);\n",
              "    }\n",
              "    80% {\n",
              "      border-color: transparent;\n",
              "      border-right-color: var(--fill-color);\n",
              "      border-bottom-color: var(--fill-color);\n",
              "    }\n",
              "    90% {\n",
              "      border-color: transparent;\n",
              "      border-bottom-color: var(--fill-color);\n",
              "    }\n",
              "  }\n",
              "</style>\n",
              "\n",
              "  <script>\n",
              "    async function quickchart(key) {\n",
              "      const quickchartButtonEl =\n",
              "        document.querySelector('#' + key + ' button');\n",
              "      quickchartButtonEl.disabled = true;  // To prevent multiple clicks.\n",
              "      quickchartButtonEl.classList.add('colab-df-spinner');\n",
              "      try {\n",
              "        const charts = await google.colab.kernel.invokeFunction(\n",
              "            'suggestCharts', [key], {});\n",
              "      } catch (error) {\n",
              "        console.error('Error during call to suggestCharts:', error);\n",
              "      }\n",
              "      quickchartButtonEl.classList.remove('colab-df-spinner');\n",
              "      quickchartButtonEl.classList.add('colab-df-quickchart-complete');\n",
              "    }\n",
              "    (() => {\n",
              "      let quickchartButtonEl =\n",
              "        document.querySelector('#df-4a80f438-875b-413f-9fd6-fe1de83f8c83 button');\n",
              "      quickchartButtonEl.style.display =\n",
              "        google.colab.kernel.accessAllowed ? 'block' : 'none';\n",
              "    })();\n",
              "  </script>\n",
              "</div>\n",
              "\n",
              "    </div>\n",
              "  </div>\n"
            ],
            "application/vnd.google.colaboratory.intrinsic+json": {
              "type": "dataframe",
              "variable_name": "enriched_X_train"
            }
          },
          "metadata": {},
          "execution_count": 21
        }
      ]
    },
    {
      "cell_type": "markdown",
      "source": [
        "Training our model with both, basic feature and enriched feature."
      ],
      "metadata": {
        "id": "A4IWo3TaxX1P"
      }
    },
    {
      "cell_type": "code",
      "source": [
        "# Basic Features\n",
        "model.fit(X_train, y_train)"
      ],
      "metadata": {
        "colab": {
          "base_uri": "https://localhost:8080/"
        },
        "id": "s1Gkof8CkDJA",
        "outputId": "c2baf3f9-4862-426f-c5ae-4c564dc72d1a"
      },
      "execution_count": null,
      "outputs": [
        {
          "output_type": "execute_result",
          "data": {
            "text/plain": [
              "<catboost.core.CatBoostRegressor at 0x7da77430ddb0>"
            ]
          },
          "metadata": {},
          "execution_count": 22
        }
      ]
    },
    {
      "cell_type": "code",
      "source": [
        "y_pred = model.predict(X_test)"
      ],
      "metadata": {
        "id": "kY7X4xckxsIj"
      },
      "execution_count": null,
      "outputs": []
    },
    {
      "cell_type": "code",
      "source": [
        "eval_metric(y_test.values, y_pred, \"SMAPE\")"
      ],
      "metadata": {
        "colab": {
          "base_uri": "https://localhost:8080/"
        },
        "id": "wZlgx6WVxwTx",
        "outputId": "00db91ee-140e-4a30-dfeb-02750090420e"
      },
      "execution_count": null,
      "outputs": [
        {
          "output_type": "execute_result",
          "data": {
            "text/plain": [
              "[20.0646503833761]"
            ]
          },
          "metadata": {},
          "execution_count": 24
        }
      ]
    },
    {
      "cell_type": "code",
      "source": [
        "# Using Enriched Features\n",
        "model.fit(enriched_X_train, y_train)\n",
        "y_enriched_pred = model.predict(enriched_X_test)\n",
        "eval_metric(y_test.values, y_enriched_pred, \"SMAPE\")"
      ],
      "metadata": {
        "colab": {
          "base_uri": "https://localhost:8080/"
        },
        "id": "2hCkP0jJx644",
        "outputId": "782837c0-0c7e-4a49-e654-c9d93184dc29"
      },
      "execution_count": null,
      "outputs": [
        {
          "output_type": "execute_result",
          "data": {
            "text/plain": [
              "[16.756432865848]"
            ]
          },
          "metadata": {},
          "execution_count": 25
        }
      ]
    }
  ]
}